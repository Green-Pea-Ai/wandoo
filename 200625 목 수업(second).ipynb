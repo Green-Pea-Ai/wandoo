{
 "cells": [
  {
   "cell_type": "code",
   "execution_count": 2,
   "metadata": {},
   "outputs": [
    {
     "name": "stdout",
     "output_type": "stream",
     "text": [
      "Second\n"
     ]
    }
   ],
   "source": [
    "print('Second')"
   ]
  },
  {
   "cell_type": "code",
   "execution_count": 1,
   "metadata": {},
   "outputs": [
    {
     "name": "stdout",
     "output_type": "stream",
     "text": [
      "test python\n"
     ]
    }
   ],
   "source": [
    "# 홑 따옴표도 문자열 출력에 쓸 수 있다.\n",
    "testStr = 'test' + ' python'\n",
    "\n",
    "print(testStr)"
   ]
  },
  {
   "cell_type": "code",
   "execution_count": 3,
   "metadata": {},
   "outputs": [
    {
     "name": "stdout",
     "output_type": "stream",
     "text": [
      "감자 고구마123\n"
     ]
    }
   ],
   "source": [
    "# 쌍 따옴표도 문자열 출력에 쓸 수 있다.\n",
    "\n",
    "test = \"감자 \" + \"고구마123\"\n",
    "\n",
    "print(test)"
   ]
  },
  {
   "cell_type": "code",
   "execution_count": null,
   "metadata": {},
   "outputs": [],
   "source": []
  },
  {
   "cell_type": "code",
   "execution_count": 1,
   "metadata": {},
   "outputs": [
    {
     "name": "stdout",
     "output_type": "stream",
     "text": [
      "pointer index\n",
      "p\n",
      "n\n"
     ]
    }
   ],
   "source": [
    "# 원래 자바나 C는 메모리 섹션(데이터)에 아래 내용을 배치했다.\n",
    "# 그래서 사용자가 쉽게 접근하기가 어려웠지만\n",
    "# 파이썬은 그냥 언어차원에서 접근을 제공한다.\n",
    "\n",
    "# 접근이 어려운 자바나 C와 달리 파이썬은 언어차원에서 접근이 가능하다.\n",
    "\n",
    "# 문자 하나당 1byte씩 들어가 있음\n",
    "# 바이트 - 비트가 8개 모이면 1 바이트가 된다.\n",
    "# 비트 - 0과 1을 표현할 수 있는 채소단위\n",
    "# 컴퓨터(기계)가 해석할 수 있는 언어가 0과 1뿐이기 때문\n",
    "\n",
    "str = \"pointer index\"\n",
    "print(str)\n",
    "\n",
    "# 아래와 같이 실제로 우리가 사용하는 문자열은\n",
    "# 1바이트 타입의 배열이 되어 저장되어 있다.\n",
    "# | p | o | i | n | t | e | r |   | i | \n",
    "# [0] [1] [2] [3] [4] [5] [6] [7] [8]\n",
    "\n",
    "print(str[0])\n",
    "print(str[3])"
   ]
  },
  {
   "cell_type": "code",
   "execution_count": 5,
   "metadata": {},
   "outputs": [
    {
     "name": "stdout",
     "output_type": "stream",
     "text": [
      "p\n",
      "oin\n",
      "po\n",
      "ex\n",
      "pointer index\n",
      "pitridx\n"
     ]
    }
   ],
   "source": [
    "# 0부터 1전까지 == for(i = 0; i < 1; i++) --> true\n",
    "print(str[0:1])\n",
    "\n",
    "# 1부터 4전까지 = for(i = 1; i < 4; i++) -> true\n",
    "print(str[1:4])\n",
    "\n",
    "# 앞부분 생략되었을 경우 0부터 시작\n",
    "# 0부터 2전까지 = for( i =0; i < 2; i++) -> true\n",
    "print(str[:2])\n",
    "\n",
    "# -2라는 것은 뒤에서 2개를 의미한다.\n",
    "# -2부터 0까지가 된다 == for(i = -2; i < 0; i++) -> true\n",
    "# (자바나 C에서는 배열이 마이너스 인덱스 지원안해서 일반적으로 쓰지는 못함)\n",
    "print(str[-2:])\n",
    "\n",
    "# [:]는 전부다 복사한다.\n",
    "# 새로운 객체를 만듭니다. \n",
    "print(str[:])\n",
    "\n",
    "# 전부 복사하는데 2칸씩 건너뛴다. \n",
    "print(str[::2])"
   ]
  },
  {
   "cell_type": "code",
   "execution_count": 4,
   "metadata": {},
   "outputs": [
    {
     "name": "stdout",
     "output_type": "stream",
     "text": [
      "3.14\n",
      "77\n",
      "33.0\n",
      "<class 'str'>\n",
      "<class 'int'>\n",
      "<class 'float'>\n"
     ]
    }
   ],
   "source": [
    "# TypeError: 'str' object is not callable\n",
    "makeStr = str(3.14)\n",
    "intStr = int(\"77\")\n",
    "floatStr = float(\"33\")\n",
    "\n",
    "print(makeStr)\n",
    "print(intStr)\n",
    "print(floatStr)\n",
    "\n",
    "print(type(makeStr))\n",
    "print(type(intStr))\n",
    "print(type(floatStr))"
   ]
  },
  {
   "cell_type": "code",
   "execution_count": 6,
   "metadata": {},
   "outputs": [
    {
     "name": "stdout",
     "output_type": "stream",
     "text": [
      "['red', 'green', 'blue']\n",
      "<class 'list'>\n"
     ]
    }
   ],
   "source": [
    "colors = ['red', 'green', 'blue']\n",
    "\n",
    "print(colors)\n",
    "print(type(colors))"
   ]
  },
  {
   "cell_type": "code",
   "execution_count": 7,
   "metadata": {},
   "outputs": [
    {
     "name": "stdout",
     "output_type": "stream",
     "text": [
      "['red', 'green', 'blue', 'gold']\n"
     ]
    }
   ],
   "source": [
    "# 리스트: 자료구조중 가장 간단한 녀석에 속한다.\n",
    "# 대표적으로 스택과 큐가 있다.\n",
    "\n",
    "# append를 리스트의 마지막에 값을 집어넣게 된다.\n",
    "# 한마디로 파이썬의 리스트는 기본적으로 큐 방식을 사용한다\n",
    "#    (마지막에 또 똑같은 놈이 들어간다?)\n",
    "# 큐는 선입선출, 스택은 후입선출\n",
    "colors.append('gold')\n",
    "print(colors)"
   ]
  },
  {
   "cell_type": "code",
   "execution_count": 8,
   "metadata": {},
   "outputs": [
    {
     "name": "stdout",
     "output_type": "stream",
     "text": [
      "['red', 'black', 'green', 'blue', 'gold']\n"
     ]
    }
   ],
   "source": [
    "# 번호, 다음에 가리킬 번호, 데이터\n",
    "# 위의 주석은 관리 차원\n",
    "# 데이터가 1000개면 많은 데이터지만 처리하는데에 어려움은 적다.\n",
    "# 만약 은행, 세금관리하는 기업에서 5천만명분의 리스트가 있다고 가정하면 데이터 처리량이 엄청나진다.\n",
    "# 그렇기 때문에 효율적인 데이터 처리방법을 고려해서 적용하는 게 중요하다.\n",
    "# 자료구조에서는 비용최소화가 중요하다.(그래서 최소 시간이 중요?, 최소 시간은 최소 비용이기 때문에?)\n",
    "\n",
    "# [1] 인덱스에 'black'을 배치하라.\n",
    "colors.insert(1, 'black')\n",
    "print(colors)"
   ]
  },
  {
   "cell_type": "code",
   "execution_count": 9,
   "metadata": {},
   "outputs": [
    {
     "name": "stdout",
     "output_type": "stream",
     "text": [
      "['red', 'black', 'green', 'blue', 'gold', 'white', 'gray']\n"
     ]
    }
   ],
   "source": [
    "# extend는 현재 원소의 맨 뒤쪽에 리스트를 추가한다.\n",
    "colors.extend(['white', 'gray'])\n",
    "print(colors)"
   ]
  },
  {
   "cell_type": "code",
   "execution_count": 10,
   "metadata": {},
   "outputs": [
    {
     "name": "stdout",
     "output_type": "stream",
     "text": [
      "['red', 'black', 'green', 'blue', 'gold', 'white', 'gray', 'purple', 'red']\n"
     ]
    }
   ],
   "source": [
    "colors += ['purple']\n",
    "colors += ['red']\n",
    "print(colors)"
   ]
  },
  {
   "cell_type": "code",
   "execution_count": 7,
   "metadata": {},
   "outputs": [
    {
     "name": "stdout",
     "output_type": "stream",
     "text": [
      "7\n"
     ]
    }
   ],
   "source": [
    "# index는 특정 원소의 위치가 어디인지 알려준다.\n",
    "print(colors.index('purple'))"
   ]
  },
  {
   "cell_type": "code",
   "execution_count": 9,
   "metadata": {},
   "outputs": [
    {
     "name": "stdout",
     "output_type": "stream",
     "text": [
      "8\n",
      "0\n"
     ]
    }
   ],
   "source": [
    "# 위와 마찬가지지만 배열의 시작을 1부터 하게 된다.\n",
    "# 그러므로 맨 앞에 있는 0번을 무시하게 된다.\n",
    "print(colors.index('red', 1))\n",
    "print(colors.index('red'))"
   ]
  },
  {
   "cell_type": "code",
   "execution_count": 13,
   "metadata": {},
   "outputs": [
    {
     "ename": "ValueError",
     "evalue": "'blue' is not in list",
     "output_type": "error",
     "traceback": [
      "\u001b[0;31m---------------------------------------------------------------------------\u001b[0m",
      "\u001b[0;31mValueError\u001b[0m                                Traceback (most recent call last)",
      "\u001b[0;32m<ipython-input-13-376692fa083b>\u001b[0m in \u001b[0;36m<module>\u001b[0;34m\u001b[0m\n\u001b[1;32m      1\u001b[0m \u001b[0;31m# 배열 4 ~ 8까지 검사해주세요 ~ (오류 발생)\u001b[0m\u001b[0;34m\u001b[0m\u001b[0;34m\u001b[0m\u001b[0;34m\u001b[0m\u001b[0m\n\u001b[0;32m----> 2\u001b[0;31m \u001b[0mprint\u001b[0m\u001b[0;34m(\u001b[0m\u001b[0mcolors\u001b[0m\u001b[0;34m.\u001b[0m\u001b[0mindex\u001b[0m\u001b[0;34m(\u001b[0m\u001b[0;34m'blue'\u001b[0m\u001b[0;34m,\u001b[0m \u001b[0;36m4\u001b[0m\u001b[0;34m,\u001b[0m \u001b[0;36m8\u001b[0m\u001b[0;34m)\u001b[0m\u001b[0;34m)\u001b[0m\u001b[0;34m\u001b[0m\u001b[0;34m\u001b[0m\u001b[0m\n\u001b[0m",
      "\u001b[0;31mValueError\u001b[0m: 'blue' is not in list"
     ]
    }
   ],
   "source": [
    "# 배열 4 ~ 8까지 검사해주세요 ~ (오류 발생)\n",
    "print(colors.index('blue', 4, 8))"
   ]
  },
  {
   "cell_type": "code",
   "execution_count": 14,
   "metadata": {},
   "outputs": [
    {
     "name": "stdout",
     "output_type": "stream",
     "text": [
      "3\n"
     ]
    }
   ],
   "source": [
    "# 배열 3 ~ 8까지 검사해주세요 ~\n",
    "print(colors.index('blue', 3, 8))"
   ]
  },
  {
   "cell_type": "code",
   "execution_count": 16,
   "metadata": {},
   "outputs": [
    {
     "name": "stdout",
     "output_type": "stream",
     "text": [
      "2\n"
     ]
    }
   ],
   "source": [
    "#for문과 궁합이 좋음. 활용하면 데이터 갯수등을 수집하는데 써볼 수 있다.\n",
    "print(colors.count('red'))"
   ]
  },
  {
   "cell_type": "code",
   "execution_count": 13,
   "metadata": {},
   "outputs": [
    {
     "name": "stdout",
     "output_type": "stream",
     "text": [
      "['red', 'black', 'green', 'blue', 'gold', 'white', 'gray', 'purple', 'red']\n",
      "red\n",
      "purple\n",
      "gray\n",
      "['red', 'black', 'green', 'blue', 'gold', 'white']\n"
     ]
    }
   ],
   "source": [
    "print(colors)\n",
    "# pop이란 것은 보통 Stack에서 사용한다.\n",
    "# 왜냐하면 pop은 전형적인 후입선출 구조(지하철?)를 가지기 때문\n",
    "# 그래서 마지막 원소들이 출력되는 것을 볼 수 있다.\n",
    "# 파이썬은 이중구조 연결 리스트를 쓴다?\n",
    "# 데이터를 다시 집어넣을 때는 insert가 아닌 update를 써야 한다.\n",
    "print(colors.pop())\n",
    "print(colors.pop())\n",
    "print(colors.pop())\n",
    "print(colors)"
   ]
  },
  {
   "cell_type": "code",
   "execution_count": 14,
   "metadata": {
    "scrolled": true
   },
   "outputs": [
    {
     "name": "stdout",
     "output_type": "stream",
     "text": [
      "['red', 'black', 'blue', 'gold', 'white', 'gray', 'purple', 'red']\n"
     ]
    }
   ],
   "source": [
    "colors = ['red', 'black', 'green', 'blue',\n",
    "          'gold', 'white', 'gray', 'purple', 'red']\n",
    "\n",
    "# 원하는 원소 제거\n",
    "colors.remove('green')\n",
    "print(colors)"
   ]
  },
  {
   "cell_type": "code",
   "execution_count": 15,
   "metadata": {},
   "outputs": [
    {
     "name": "stdout",
     "output_type": "stream",
     "text": [
      "origin sort:  ['black', 'blue', 'gold', 'gray', 'purple', 'red', 'red', 'white']\n"
     ]
    }
   ],
   "source": [
    "# 알파벳 순서대로 정렬된다.\n",
    "# 파이썬의 정렬은 sort 한 방으로 충분하다.\n",
    "# 자바로 하면 컬렉션 만들고 이것저것 암 걸린다고 함.(하지만, 취업에 중요한 것은 자바임)\n",
    "# 디폴트가 오름차순 정렬\n",
    "colors.sort()\n",
    "print('origin sort: ', colors)"
   ]
  },
  {
   "cell_type": "code",
   "execution_count": 16,
   "metadata": {},
   "outputs": [
    {
     "name": "stdout",
     "output_type": "stream",
     "text": [
      "reverse:  ['white', 'red', 'red', 'purple', 'gray', 'gold', 'blue', 'black']\n"
     ]
    }
   ],
   "source": [
    "# 내림차순 정렬( sort + reverse )\n",
    "# reverse만 하면 그냥 뒤집는 것임\n",
    "colors.reverse()\n",
    "print('reverse: ', colors)"
   ]
  },
  {
   "cell_type": "code",
   "execution_count": 3,
   "metadata": {},
   "outputs": [
    {
     "name": "stdout",
     "output_type": "stream",
     "text": [
      "reverse:  ['red', 'purple', 'gray', 'gold', 'blue', 'green', 'black', 'red']\n"
     ]
    }
   ],
   "source": [
    "#reverse로 데이터 뒤집기\n",
    "colors = ['red', 'black', 'green', 'blue', \n",
    "          'gold', 'gray', 'purple', 'red']\n",
    "\n",
    "colors.reverse()\n",
    "print('reverse: ', colors)"
   ]
  },
  {
   "cell_type": "code",
   "execution_count": 4,
   "metadata": {},
   "outputs": [
    {
     "name": "stdout",
     "output_type": "stream",
     "text": [
      "['red', 'gold', 'red', 'purple', 'blue', 'black', 'green', 'gray']\n"
     ]
    }
   ],
   "source": [
    "def mysort(x):\n",
    "    return x[-1]\n",
    "\n",
    "colors.sort(key = mysort)\n",
    "print(colors)"
   ]
  },
  {
   "cell_type": "code",
   "execution_count": 7,
   "metadata": {},
   "outputs": [
    {
     "name": "stdout",
     "output_type": "stream",
     "text": [
      "['gold', 'red', 'red', 'blue', 'purple', 'white', 'black', 'green', 'gray']\n"
     ]
    }
   ],
   "source": [
    "\n",
    "colors = ['red', 'black', 'green', 'blue', \n",
    "          'gold', 'white', 'gray', 'purple', 'red']\n",
    "\n",
    "def mysort(x):\n",
    "    return x[-1]\n",
    "\n",
    "\n",
    "colors.sort()\n",
    "colors.sort(key = mysort)\n",
    "print(colors)"
   ]
  },
  {
   "cell_type": "code",
   "execution_count": 8,
   "metadata": {},
   "outputs": [
    {
     "name": "stdout",
     "output_type": "stream",
     "text": [
      "['red', 'red', 'gold', 'purple', 'white', 'blue', 'black', 'green', 'gray']\n"
     ]
    }
   ],
   "source": [
    "colors = ['red', 'black', 'green', 'blue', \n",
    "          'gold', 'white', 'gray', 'purple', 'red']\n",
    "\n",
    "# 자바 같은 경우에는 두개의 동시다발적인 리턴이 불가능\n",
    "# 그러나 파이썬은 여러개의 정보를 동시다발적 리턴이 가능\n",
    "# 뒤에 d만 보는 것에서 ed를 보는 것으로 되기 때문에 red가 무조건 앞에 오게됨\n",
    "# colors 클래스 자체가 x다?\n",
    "def mysort(x):\n",
    "    return x[-1], x[-2]\n",
    "\n",
    "colors.sort(key = mysort)\n",
    "print(colors)"
   ]
  },
  {
   "cell_type": "code",
   "execution_count": 12,
   "metadata": {},
   "outputs": [
    {
     "name": "stdout",
     "output_type": "stream",
     "text": [
      "['red', 'black', 'green', 'blue', 'gold', 'white', 'gray', 'purple', 'red']\n",
      "['black', 'blue', 'gold', 'gray', 'green', 'purple', 'red', 'red', 'white']\n",
      "['white', 'red', 'red', 'purple', 'green', 'gray', 'gold', 'blue', 'black']\n"
     ]
    }
   ],
   "source": [
    "colors = ['red', 'black', 'green', 'blue', \n",
    "          'gold', 'white', 'gray', 'purple', 'red']\n",
    "\n",
    "print(colors)\n",
    "\n",
    "colors.sort()\n",
    "\n",
    "print(colors)\n",
    "\n",
    "# 기존의 sort는 오름차순 정렬이었는데\n",
    "# reverse = True를 주면 내림차순 정렬로 바꿔서 동작시킬 수 있다.\n",
    "colors.sort(reverse=True)\n",
    "\n",
    "print(colors)"
   ]
  },
  {
   "cell_type": "code",
   "execution_count": 14,
   "metadata": {},
   "outputs": [
    {
     "name": "stdout",
     "output_type": "stream",
     "text": [
      "{1, 2, 3}\n",
      "{3, 4, 5}\n",
      "<class 'set'>\n"
     ]
    }
   ],
   "source": [
    "# 데이터의 집합 처리\n",
    "# 대괄호로 감쌀 경우엔 리스트\n",
    "# 중괄호로 감쌀 경우엔 집합\n",
    "# 'set'은 집합을 의미\n",
    "a = {1, 2, 3}\n",
    "b = {3, 4, 5}\n",
    "\n",
    "print(a)\n",
    "print(b)\n",
    "\n",
    "print(type(a))"
   ]
  },
  {
   "cell_type": "code",
   "execution_count": 15,
   "metadata": {},
   "outputs": [
    {
     "name": "stdout",
     "output_type": "stream",
     "text": [
      "{1, 2, 3, 4, 5}\n",
      "{3}\n"
     ]
    }
   ],
   "source": [
    "# 합집합\n",
    "print(a.union(b))\n",
    "\n",
    "# 교집합\n",
    "print(a.intersection(b))"
   ]
  },
  {
   "cell_type": "code",
   "execution_count": 17,
   "metadata": {},
   "outputs": [
    {
     "name": "stdout",
     "output_type": "stream",
     "text": [
      "{1, 2}\n",
      "{4, 5}\n",
      "{1, 2, 3, 4, 5}\n",
      "{3}\n",
      "{1, 2, 4, 5}\n"
     ]
    }
   ],
   "source": [
    "# 차집합의 경우 빼는 순서가 중요하다.\n",
    "print(a - b)\n",
    "print(b - a)\n",
    "\n",
    "# 합집합(OR연산, 자바의 || 을 상기하자!)\n",
    "print(a | b)\n",
    "\n",
    "# 교집합(AND연산, 자바의 && 을 상기하자!)\n",
    "print(a & b)\n",
    "\n",
    "# XOR 연산 (교집합을 제외한 합한 값 출력, 암호 풀 때 많이사용)\n",
    "# 대소문자 변환? 아스키 코드 +32, -32?, XOR 32하면 양수음수 따로 써줄 필요가 없다.\n",
    "print(a ^ b)"
   ]
  },
  {
   "cell_type": "code",
   "execution_count": 18,
   "metadata": {},
   "outputs": [
    {
     "name": "stdout",
     "output_type": "stream",
     "text": [
      "(1, 2, 3)\n",
      "<class 'tuple'>\n"
     ]
    }
   ],
   "source": [
    "# 튜플은 소괄호로 묶으면 된다.\n",
    "# 이제 파이썬에서 쓰는 대부분의 괄호나 특수기호 사용법을 다 배웠다.\n",
    "t = (1, 2, 3)\n",
    "\n",
    "print(t)\n",
    "print(type(t))"
   ]
  },
  {
   "cell_type": "code",
   "execution_count": 19,
   "metadata": {},
   "outputs": [
    {
     "name": "stdout",
     "output_type": "stream",
     "text": [
      "1 2\n"
     ]
    }
   ],
   "source": [
    "# 프로그램 정책상 리턴 1개만 받는데 파이썬은 여러개 리턴 받을 수 있다.\n",
    "# 여러개 리턴 받으려고 만든 형식이 튜플임\n",
    "a, b = 1, 2\n",
    "print(a, b)"
   ]
  },
  {
   "cell_type": "code",
   "execution_count": 20,
   "metadata": {},
   "outputs": [
    {
     "name": "stdout",
     "output_type": "stream",
     "text": [
      "3 7\n"
     ]
    }
   ],
   "source": [
    "(a, b) = (3, 7)\n",
    "print(a, b)"
   ]
  },
  {
   "cell_type": "code",
   "execution_count": 21,
   "metadata": {},
   "outputs": [
    {
     "name": "stdout",
     "output_type": "stream",
     "text": [
      "7 3\n"
     ]
    }
   ],
   "source": [
    "# 튜플을 지원하는 파이썬은 숫자 뒤바꾸기를 쉽게 할 수 있다.\n",
    "# 자바에서는 임시변수 만들어 데이터 하나 저장해놓아야 함\n",
    "# 자바가 익숙한 사람은 오히려 이게 헷갈릴 수 있다.\n",
    "\n",
    "a, b = b, a\n",
    "print(a, b)\n",
    "\n",
    "# 위의 코드를 자바로 구현한다면 어떻게 해야하는가 ?\n",
    "# int a = 3;\n",
    "# int b = 7;\n",
    "# int tmp = a;\n",
    "# a = b;\n",
    "# b = tmp;"
   ]
  },
  {
   "cell_type": "code",
   "execution_count": 22,
   "metadata": {},
   "outputs": [
    {
     "name": "stdout",
     "output_type": "stream",
     "text": [
      "{1, 2, 3}\n",
      "<class 'set'>\n"
     ]
    }
   ],
   "source": [
    "a = set((1, 2, 3))\n",
    "print(a)\n",
    "print(type(a))"
   ]
  },
  {
   "cell_type": "code",
   "execution_count": 23,
   "metadata": {},
   "outputs": [
    {
     "name": "stdout",
     "output_type": "stream",
     "text": [
      "[1, 2, 3]\n",
      "<class 'list'>\n"
     ]
    }
   ],
   "source": [
    "b = list(a)\n",
    "print(b)\n",
    "print(type(b))"
   ]
  },
  {
   "cell_type": "code",
   "execution_count": 25,
   "metadata": {},
   "outputs": [
    {
     "name": "stdout",
     "output_type": "stream",
     "text": [
      "(1, 2, 3)\n",
      "<class 'tuple'>\n"
     ]
    }
   ],
   "source": [
    "c = tuple(b)\n",
    "print(c)\n",
    "print(type(c))"
   ]
  },
  {
   "cell_type": "code",
   "execution_count": 27,
   "metadata": {},
   "outputs": [
    {
     "name": "stdout",
     "output_type": "stream",
     "text": [
      "True\n",
      "True\n",
      "False\n"
     ]
    }
   ],
   "source": [
    "# 영상처리 할때 yolo가 있다. 영상 윤곽 잡아서 식별해주는거 사람이다, 개다, 자전거다 등등..(딥러닝 모델)\n",
    "# 집합에 값들을 넣고 for문을 돌리면 개가 지나갔는지 자전거가 지나갔는지 알 수 있음.\n",
    "\n",
    "print(1 in a)\n",
    "print(3 in a)\n",
    "print(7 in a)"
   ]
  },
  {
   "cell_type": "code",
   "execution_count": 28,
   "metadata": {},
   "outputs": [
    {
     "name": "stdout",
     "output_type": "stream",
     "text": [
      "{'a': 1, 'b': 3, 'c': 5}\n",
      "<class 'dict'>\n"
     ]
    }
   ],
   "source": [
    "# 딕셔너리는 키값과 밸류값이 공존하는 데이터 타입(해쉬맵?)\n",
    "# 키값 a가 있고 그 키값에 해당하는 값이 1이다.\n",
    "# 키값 b가 있고 그 키값에 해당하는 값이 3이다.\n",
    "# 사물함에 a라는 키를 가지고 가서 열면 나오는 택배박스가 1이다.\n",
    "# 요런 구조를 보통 Hash라고 한다.(키와 밸류가 있으면 해쉬다.)\n",
    "d = dict(a = 1, b = 3, c = 5)\n",
    "print(d)\n",
    "print(type(d))"
   ]
  },
  {
   "cell_type": "code",
   "execution_count": 29,
   "metadata": {},
   "outputs": [
    {
     "name": "stdout",
     "output_type": "stream",
     "text": [
      "{'apple': 'red', 'lemon': 'yellow'}\n",
      "<class 'dict'>\n"
     ]
    }
   ],
   "source": [
    "# 밸류안에 값을 문자로 인식하게 함?\n",
    "# 해쉬안에 해쉬를 넣을 수 있다. 키값이 있고 밸류값에 다시 해쉬가 올 수도 있다. 키 : 밸류(키 : 밸류)\n",
    "# 인터넷 웹 페이지가 이런 구조이다. json이 데이터를 엄청 몰고온다.\n",
    "# 자바로 해쉬 구현하면 어렵긴함\n",
    "color = {\"apple\": \"red\", \"lemon\": \"yellow\"}\n",
    "print(color)\n",
    "print(type(color))"
   ]
  },
  {
   "cell_type": "code",
   "execution_count": 30,
   "metadata": {},
   "outputs": [
    {
     "name": "stdout",
     "output_type": "stream",
     "text": [
      "red\n"
     ]
    }
   ],
   "source": [
    "print(color['apple'])"
   ]
  },
  {
   "cell_type": "code",
   "execution_count": 31,
   "metadata": {},
   "outputs": [
    {
     "name": "stdout",
     "output_type": "stream",
     "text": [
      "{'apple': 'green', 'lemon': 'yellow'}\n"
     ]
    }
   ],
   "source": [
    "# color에 있는 키값 apple에 밸류값 green을 설정하세요 ~ \n",
    "color ['apple'] = \"green\"\n",
    "print(color)"
   ]
  },
  {
   "cell_type": "code",
   "execution_count": 34,
   "metadata": {},
   "outputs": [
    {
     "name": "stdout",
     "output_type": "stream",
     "text": [
      "('apple', 'green')\n",
      "('lemon', 'yellow')\n"
     ]
    }
   ],
   "source": [
    "# color에 있는 요소를 가져와서 c에 저장\n",
    "for c in color.items():\n",
    "    print(c)"
   ]
  },
  {
   "cell_type": "code",
   "execution_count": 35,
   "metadata": {},
   "outputs": [
    {
     "name": "stdout",
     "output_type": "stream",
     "text": [
      "apple :  green\n",
      "lemon :  yellow\n"
     ]
    }
   ],
   "source": [
    "# 마찬가지로 color에 있는 요소들을 하나씩 가져오는데\n",
    "# 이번에는 key값과 value값을 나눠서 각각에 가져온다.\n",
    "# value, key로 써도 key, value 형식으로 return 된다.\n",
    "for key, value in color.items():\n",
    "    print(key, \": \", value)"
   ]
  },
  {
   "cell_type": "code",
   "execution_count": 15,
   "metadata": {},
   "outputs": [
    {
     "ename": "NameError",
     "evalue": "name 'color' is not defined",
     "output_type": "error",
     "traceback": [
      "\u001b[0;31m---------------------------------------------------------------------------\u001b[0m",
      "\u001b[0;31mNameError\u001b[0m                                 Traceback (most recent call last)",
      "\u001b[0;32m<ipython-input-15-c603ba02eb62>\u001b[0m in \u001b[0;36m<module>\u001b[0;34m\u001b[0m\n\u001b[1;32m      8\u001b[0m \u001b[0;31m# for key in color.keys()\u001b[0m\u001b[0;34m\u001b[0m\u001b[0;34m\u001b[0m\u001b[0;34m\u001b[0m\u001b[0m\n\u001b[1;32m      9\u001b[0m \u001b[0;31m# color라는 딕셔너리에 키값들을 뽑아서 key에 하나씩 넣고 돌리자\u001b[0m\u001b[0;34m\u001b[0m\u001b[0;34m\u001b[0m\u001b[0;34m\u001b[0m\u001b[0m\n\u001b[0;32m---> 10\u001b[0;31m \u001b[0;32mfor\u001b[0m \u001b[0mkey\u001b[0m \u001b[0;32min\u001b[0m \u001b[0mcolor\u001b[0m\u001b[0;34m.\u001b[0m\u001b[0mkeys\u001b[0m\u001b[0;34m(\u001b[0m\u001b[0;34m)\u001b[0m\u001b[0;34m:\u001b[0m\u001b[0;34m\u001b[0m\u001b[0;34m\u001b[0m\u001b[0m\n\u001b[0m\u001b[1;32m     11\u001b[0m     \u001b[0mprint\u001b[0m\u001b[0;34m(\u001b[0m\u001b[0mkey\u001b[0m\u001b[0;34m)\u001b[0m\u001b[0;34m\u001b[0m\u001b[0;34m\u001b[0m\u001b[0m\n",
      "\u001b[0;31mNameError\u001b[0m: name 'color' is not defined"
     ]
    }
   ],
   "source": [
    "# color라는 딕셔너리에 있는 key값들만 따로 추출이 가능하다.\n",
    "# 자바에서 for문을 처리할 때는\n",
    "# for(int i = 0; i < 3; i++)\n",
    "# 내가 반복을 할건데 어디서 시작할거고\n",
    "# 어디에서 끝을 낼것인지 그리고 어떤식으로 반복을 진행할것인지\n",
    "# 추가적으로 특정 정보에서 어떤식으로\n",
    "# 정보를 가공하여 출력할 것인지\n",
    "# for key in color.keys()\n",
    "# color라는 딕셔너리에 키값들을 뽑아서 key에 하나씩 넣고 돌리자\n",
    "for key in color.keys():\n",
    "    print(key)"
   ]
  },
  {
   "cell_type": "code",
   "execution_count": 37,
   "metadata": {},
   "outputs": [
    {
     "name": "stdout",
     "output_type": "stream",
     "text": [
      "green\n",
      "yellow\n"
     ]
    }
   ],
   "source": [
    "# 안전성, 속도 중요\n",
    "for value in color.values():\n",
    "    print(value)"
   ]
  },
  {
   "cell_type": "code",
   "execution_count": 38,
   "metadata": {},
   "outputs": [
    {
     "name": "stdout",
     "output_type": "stream",
     "text": [
      "<class 'dict_keys'>\n",
      "['apple', 'lemon']\n"
     ]
    }
   ],
   "source": [
    "print(type(color.keys()))\n",
    "# 향후 레이블 매칭이라는 작업을 하게 될 경우\n",
    "# 키값만 따로 뽑아서 매칭을 시켜야 하는데\n",
    "# 이 경우에 아래와 같이 리스트로 만들어서 처리한다.\n",
    "# 집합 > 튜플, 튜플 > 집합 등등 적재적소에 타입을 변환하는 활용이 필요하다.\n",
    "print(list(color.keys()))"
   ]
  },
  {
   "cell_type": "code",
   "execution_count": 39,
   "metadata": {},
   "outputs": [
    {
     "name": "stdout",
     "output_type": "stream",
     "text": [
      "{'lemon': 'yellow'}\n"
     ]
    }
   ],
   "source": [
    "# 필요없다 생각되는 키값은 del을 활용하여\n",
    "# 아래와 같이 소거 가능하다.\n",
    "del color['apple']\n",
    "print(color)"
   ]
  },
  {
   "cell_type": "code",
   "execution_count": 41,
   "metadata": {},
   "outputs": [
    {
     "name": "stdout",
     "output_type": "stream",
     "text": [
      "{'age': 40.5, 'job': [1, 2, 3], 'name': {'Kim': 2, 'Cho': 1}}\n",
      "<class 'dict'>\n"
     ]
    }
   ],
   "source": [
    "# json에서 이런 구조를 많이 씀\n",
    "# 딕셔너리는 어떠한 형태든지 수용을 할 수 있습니다 ~\n",
    "test1 = {'age' : 40.5, 'job' : [1, 2, 3], 'name' : {'Kim' : 2, 'Cho' : 1}}\n",
    "print(test1)\n",
    "print(type(test1))"
   ]
  },
  {
   "cell_type": "code",
   "execution_count": 42,
   "metadata": {},
   "outputs": [
    {
     "name": "stdout",
     "output_type": "stream",
     "text": [
      "[1, 2, 3, 'green', {'apple': 1}]\n",
      "<class 'list'>\n"
     ]
    }
   ],
   "source": [
    "# 도움! 해결.\n",
    "# 최종적으로 감싸고 있는 기호에 따라 데이터 타입이 결정된다.(41, 42 라인 비교)\n",
    "test2 = [1, 2, 3, ('green'), {'apple' : 1}]\n",
    "print(test2)\n",
    "print(type(test2))"
   ]
  },
  {
   "cell_type": "code",
   "execution_count": 16,
   "metadata": {},
   "outputs": [
    {
     "name": "stdout",
     "output_type": "stream",
     "text": [
      "False\n",
      "<class 'bool'>\n"
     ]
    }
   ],
   "source": [
    "# Java의 Boolean과 같은 형식\n",
    "# 참(True)과 거짓(False)\n",
    "# if(idx % 2 == 0)\n",
    "# if(!(idx % 2)), 0이 거짓이니까 부정하면 참. 위의 식과 동일하게 쓸 수 있다. \n",
    "# 위 식처럼 0을 비교하는 연산을 하지 않아 위에 식보다 빠른 방식임.\n",
    "isTrue = False\n",
    "print(isTrue)\n",
    "print(type(isTrue))"
   ]
  },
  {
   "cell_type": "code",
   "execution_count": 43,
   "metadata": {},
   "outputs": [
    {
     "name": "stdout",
     "output_type": "stream",
     "text": [
      "True\n",
      "True\n",
      "False\n"
     ]
    }
   ],
   "source": [
    "#bool 연산\n",
    "print(1 < 2)\n",
    "print(1 != 2)\n",
    "print(1 == 2)"
   ]
  },
  {
   "cell_type": "code",
   "execution_count": 17,
   "metadata": {},
   "outputs": [
    {
     "name": "stdout",
     "output_type": "stream",
     "text": [
      "False\n",
      "True\n",
      "True\n",
      "False\n",
      "True\n",
      "True\n",
      "False\n"
     ]
    }
   ],
   "source": [
    "# AND연산의 경우 양쪽이 모두 참일 경우에만 결론이 참이 된다.\n",
    "# AND와 &는 같다.\n",
    "print(True and False)\n",
    "print(True & True)\n",
    "# OR연산의 경우 둘 중 하나만 얻어걸려도 OK \n",
    "# OR와 |는 같다.\n",
    "# 또한 둘만이 아니라 여러개가 되더라도 하나만 True면 OK\n",
    "print(True or False)\n",
    "print(False | False)\n",
    "print(False | False | True)\n",
    "print(not False)\n",
    "print(not True)"
   ]
  },
  {
   "cell_type": "code",
   "execution_count": 18,
   "metadata": {},
   "outputs": [
    {
     "name": "stdout",
     "output_type": "stream",
     "text": [
      "False\n",
      "True\n",
      "True\n",
      "False\n",
      "False\n"
     ]
    }
   ],
   "source": [
    "# 컴퓨터에서 0은 무조건 거짓\n",
    "# 파이썬은 0을 무조건 False로 처리함\n",
    "print(bool(0))\n",
    "\n",
    "# 0 이외의 값들은 전부 참\n",
    "print(bool(-1))\n",
    "print(bool('test'))\n",
    "\n",
    "# None은 아무것도 없음을 의미하므로 거짓\n",
    "print(bool(None))\n",
    "\n",
    "# ''는 빈 문자열로 거짓\n",
    "print(bool(''))"
   ]
  },
  {
   "cell_type": "code",
   "execution_count": 20,
   "metadata": {},
   "outputs": [
    {
     "name": "stdout",
     "output_type": "stream",
     "text": [
      "val is bigger than 5\n"
     ]
    }
   ],
   "source": [
    "# 스코핑: 범위를 지정하는 것\n",
    "# if(test == 0) { bla bla ~~~ }\n",
    "# 파이썬은 스코핑을 콜론(:)과 들여쓰기로 구분한다.\n",
    "# 스코핑이 범위를 지정하는 것이라고 했는데\n",
    "# 범위라는 것은 if문의 범위, for문의 범위, while문의 범위\n",
    "# 클래스의 범위, 메서드의 범위 등등 다양하다.\n",
    "val = 10\n",
    "if val > 5:\n",
    "    print(\"val is bigger than 5\")\n",
    "    \n",
    "# int val = 10;\n",
    "# if (val > 5) {\n",
    "#    printf(\"val is bigger than 5\")\n",
    "# }"
   ]
  },
  {
   "cell_type": "code",
   "execution_count": 48,
   "metadata": {},
   "outputs": [
    {
     "name": "stdout",
     "output_type": "stream",
     "text": [
      "banana\n"
     ]
    }
   ],
   "source": [
    "money = 10\n",
    "\n",
    "if money > 100:\n",
    "    item = \"apple\"\n",
    "else:\n",
    "    item = \"banana\"\n",
    "    \n",
    "print(item)\n",
    "\n",
    "# if (test == 0) {\n",
    "# sout\n",
    "# } else {\n",
    "# sout\n",
    "# }"
   ]
  },
  {
   "cell_type": "code",
   "execution_count": 51,
   "metadata": {},
   "outputs": [
    {
     "name": "stdout",
     "output_type": "stream",
     "text": [
      "Input Score: 77\n",
      "Grade is C\n"
     ]
    }
   ],
   "source": [
    "# 파이썬에는 else if가 아닌 elif를 쓴다.\n",
    "score = int(input(('Input Score: ')))\n",
    "if 90 <= score <= 100:\n",
    "    grade = 'A'\n",
    "elif 80 <= score < 90:\n",
    "    grade = 'B'\n",
    "else:\n",
    "    grade = 'C'\n",
    "\n",
    "print(\"Grade is \" + grade)\n",
    "\n",
    "# c, c++, java로 위 과정을 작업해보면 \n",
    "# if 소괄호 안의 조건식이 복잡해지면 어려움이 있을 수 있다.\n",
    "# 아래 식에서 값을 넣어보면 이상함을 느낄 수 있다.(기준이 모호해짐)\n",
    "\n",
    "# 자바의 경우 if문의 위치를 잘못 선정할 경우\n",
    "# 의도치 않은 오류가 발생할 수 있는데\n",
    "# 파이썬의 경우엔 부등식을 통해\n",
    "# 명확한 범위를 지정해줄 수 있다.\n",
    "\n",
    "# Scanner scan = new Scanner(System.in);\n",
    "# int num = scan.nextInt();\n",
    "\n",
    "# if(num >= 90) {\n",
    "#    sout(A)\n",
    "# } else if(num >= 80) {\n",
    "#    sout(B)\n",
    "# }"
   ]
  },
  {
   "cell_type": "code",
   "execution_count": null,
   "metadata": {},
   "outputs": [],
   "source": [
    "# dir명령어는 현재 위치에 있는 폴더와 파일을 보여준다.\n",
    "# cd는 Change Directory 약자로 폴더 이동을 수행한다.\n",
    "# dir에서 나오는 .은 현재 위치를 의미한다.\n",
    "# dir에서 나오는 ..은 상위 디렉토리를 의미한다.\n",
    "\n",
    "# 설명을 위한 시나리오.\n",
    "# C드라이브 밑에 work 폴더가 있고 그 밑에 java와 python이 있다.\n",
    "# 현재 dir을 한 위치가 java 디렉토리라고 가정한다.\n",
    "# cd ..\n",
    "# 위 명령을 수행하면 C드라이브 밑에 있는 work로 이동한다.\n",
    "\n",
    "# 현재 내 위치를 확인하는 명령어 - 보류\n",
    "\n",
    "# cd c:\\\n",
    "# mkdir proj\n",
    "# cd proj\n",
    "# git clone https://github.com/silenc3502/PythonWorkshop\n",
    "# 위의 4개 줄은 초기 설정시에만 필요함\n",
    "\n",
    "# 이후에 변경 사항 및 추가된 업데이트를 적용할 때\n",
    "# cd c:\\proj\\PythonWorkshop\n",
    "# git pull origin master\n",
    "\n",
    "# 만약 자신의 컴퓨터에서 직접 jupyter를 띄워서 이것을 보겠다면\n",
    "# cd c:\\proj\\PythonWorkshop\n",
    "# jupyter notebook\n",
    "# 위와 같이하면 first.ipynb, second.ipynb 등등을 모두 직접 볼 수 있다.\n",
    "\n",
    "# cd\n",
    "# 리눅스의 pwd와 동일한 역할을 수행한다.\n",
    "# (현재 위치가 어디인지 알려준다.)"
   ]
  },
  {
   "cell_type": "code",
   "execution_count": 53,
   "metadata": {},
   "outputs": [
    {
     "name": "stdout",
     "output_type": "stream",
     "text": [
      "Apple <class 'str'>\n",
      "100 <class 'int'>\n",
      "15.37 <class 'float'>\n"
     ]
    }
   ],
   "source": [
    "# 파이썬에서는 generic 안써줘도 된다.\n",
    "list = ['Apple', 100, 15.37]\n",
    "for i in list:\n",
    "    print(i, type(i))"
   ]
  },
  {
   "cell_type": "code",
   "execution_count": 67,
   "metadata": {},
   "outputs": [
    {
     "name": "stdout",
     "output_type": "stream",
     "text": [
      "Apple 100\n",
      "Orange 200\n",
      "Banana 300\n"
     ]
    }
   ],
   "source": [
    "d = {\"Apple\": 100, \"Orange\": 200, \"Banana\":300}\n",
    "for k, v in d.items():\n",
    "    print(k, v)"
   ]
  },
  {
   "cell_type": "code",
   "execution_count": 70,
   "metadata": {},
   "outputs": [
    {
     "name": "stdout",
     "output_type": "stream",
     "text": [
      "2\n",
      "4\n",
      "6\n",
      "8\n",
      "10\n"
     ]
    }
   ],
   "source": [
    "# 1 - 10까지 숫자중 짝수만 출력\n",
    "# range(10): 0 ~ 9\n",
    "# i에 0 ~ 9까지의 값을 넣어준다.\n",
    "for i in range(10):\n",
    "    # (i + 1)이 짝수인지 판별\n",
    "    # 반사?\n",
    "    if (not((i + 1) % 2)):\n",
    "        print(i + 1)"
   ]
  },
  {
   "cell_type": "code",
   "execution_count": 74,
   "metadata": {},
   "outputs": [
    {
     "name": "stdout",
     "output_type": "stream",
     "text": [
      "Item: 1\n",
      "Item: 2\n",
      "Item: 3\n",
      "Item: 4\n",
      "Item: 5\n"
     ]
    }
   ],
   "source": [
    "numList = [1, 2, 3, 4, 5, 6, 7, 8, 9, 10]\n",
    "for i in numList:\n",
    "    if i > 5:\n",
    "        # break는 현재 걸려있는 스코프중\n",
    "        # 루프 하나를 탈출할 수 있게 돕는다.\n",
    "        break\n",
    "    print(\"Item: {0}\".format(i))"
   ]
  },
  {
   "cell_type": "code",
   "execution_count": 21,
   "metadata": {},
   "outputs": [
    {
     "name": "stdout",
     "output_type": "stream",
     "text": [
      "Item: 0-0\n",
      "Item: 0-1\n",
      "Item: 0-2\n",
      "Item: 0-3\n",
      "Item: 0-4\n",
      "Item: 1-0\n",
      "Item: 1-1\n",
      "Item: 1-2\n",
      "Item: 1-3\n",
      "Item: 1-4\n"
     ]
    }
   ],
   "source": [
    "# 즉 총 25번 반복을한다.\n",
    "# 5번 반복을 한다.\n",
    "for i in range(5):\n",
    "    # 5번 반복을 한다.\n",
    "    for j in range(5):\n",
    "        if i > 1:\n",
    "            break\n",
    "        print(\"Item: {0}-{1}\".format(i, j))"
   ]
  },
  {
   "cell_type": "code",
   "execution_count": 83,
   "metadata": {},
   "outputs": [
    {
     "name": "stdout",
     "output_type": "stream",
     "text": [
      "Item: 0-0\n",
      "Item: 0-1\n",
      "Item: 0-2\n",
      "Item: 0-3\n",
      "Item: 0-4\n",
      "Item: 2-0\n",
      "Item: 2-1\n",
      "Item: 2-2\n",
      "Item: 2-3\n",
      "Item: 2-4\n",
      "Item: 3-0\n",
      "Item: 3-1\n",
      "Item: 3-2\n",
      "Item: 3-3\n",
      "Item: 3-4\n",
      "Item: 4-0\n",
      "Item: 4-1\n",
      "Item: 4-2\n",
      "Item: 4-3\n",
      "Item: 4-4\n"
     ]
    }
   ],
   "source": [
    "# 도움!\n",
    "# 즉 총 25번 반복을 한다.\n",
    "# 5번 반복을 한다.\n",
    "for i in range(5):\n",
    "    # 5번 반복을 한다.\n",
    "    for j in range(5):\n",
    "        if i == 1:\n",
    "            # 이번 예제로 break는 루프 하나만 빠져나감을 확인했음\n",
    "            # break를 하면 바로 for문을 하나 빠져나감\n",
    "            break\n",
    "        # {0}, {1}: %d를 쓴것처럼 형식 지정자 \n",
    "        print(\"Item: {0}-{1}\".format(i, j))"
   ]
  },
  {
   "cell_type": "code",
   "execution_count": 85,
   "metadata": {},
   "outputs": [
    {
     "name": "stdout",
     "output_type": "stream",
     "text": [
      "Item: 0-0\n",
      "Item: 0-1\n",
      "Item: 0-2\n",
      "Item: 1-1\n",
      "Item: 1-2\n",
      "Item: 2-0\n",
      "Item: 2-1\n",
      "Item: 2-2\n"
     ]
    }
   ],
   "source": [
    "for i in range(3):\n",
    "    for j in range(3):\n",
    "        # 현재 해당 if문 자체가 매우 심각한 오류\n",
    "        # 오류가 나면 그만해야 하는데 불필요한 연산을 진행하고 있는 문제가 발생할 수 있다.\n",
    "        \n",
    "        if (i == 1 and j == 0):\n",
    "            # break는 바로 루프를 탈출하지만 \n",
    "            # continue는 해당하는 항목만 제껴버림\n",
    "            # continue는 skip이라고 생각하면 더 좋다.\n",
    "            continue\n",
    "        # {0}, {1}: %d를 쓴것처럼 형식 지정자 \n",
    "        print(\"Item: {0}-{1}\".format(i, j))"
   ]
  },
  {
   "cell_type": "code",
   "execution_count": 86,
   "metadata": {},
   "outputs": [
    {
     "name": "stdout",
     "output_type": "stream",
     "text": [
      "Item: 0-0\n",
      "Item: 0-1\n",
      "Item: 0-2\n",
      "Item: 2-0\n",
      "Item: 2-1\n",
      "Item: 2-2\n"
     ]
    }
   ],
   "source": [
    "for i in range(3):   \n",
    "    for j in range(3):\n",
    "        \n",
    "        if (i == 1 and j == 0):            \n",
    "            break\n",
    "            \n",
    "        print(\"Item: {0}-{1}\".format(i, j))\n",
    "        \n",
    "# continue는 해당하는 항목만 날림, break는 통째로 날림"
   ]
  },
  {
   "cell_type": "code",
   "execution_count": 89,
   "metadata": {},
   "outputs": [
    {
     "name": "stdout",
     "output_type": "stream",
     "text": [
      "Item: 0-0\n",
      "Item: 0-1\n",
      "Item: 0-2\n",
      "Item: 0-3\n",
      "Item: 0-4\n"
     ]
    }
   ],
   "source": [
    "# Exception ? \n",
    "# 영상 데이터는 무겁기 때문에 제대로 다루지 못하면 파이프 라인 깨져서 속도가 느려진다고 함\n",
    "# go to를 쓰지말라고 전공자들은 배운다.(반은 맞고 반은 틀림?, 잘못된 얘기?) 써버리면 상상할 수 없을 정도로 개판이 됨\n",
    "# 여기서는 go to가 제격.\n",
    "# 브랜치 발생하면 파이프라인 깨짐. 다시 채워야 cpu 동작됨. 81단계로 구성?\n",
    "# 브랜치 만날 때마다 파이프라인이 계속 깨짐. 많은 딜레이가 발생할 수 있다.\n",
    "\n",
    "# 영상은 80만 100만 정도 루프가 걸림?\n",
    "\n",
    "flag = False\n",
    "for i in range(5):\n",
    "    # 정상적인 영상이라도 이 부분에서 검사를 하고 있어서 불필요한 연산이 발생한다.\n",
    "    if(flag):\n",
    "        break\n",
    "        \n",
    "    for j in range(5):        \n",
    "        # 처음부터 다시해야한다는 오류 판정!\n",
    "        if (i == 1 and j == 0): \n",
    "            # 이 for문에 진입하면 flag가 True가 됨\n",
    "            flag = True\n",
    "            # break에 걸리면 현재 for문을 파괴하고 전 단계 for문으로 감\n",
    "            break\n",
    "            \n",
    "        print(\"Item: {0}-{1}\".format(i, j))"
   ]
  },
  {
   "cell_type": "code",
   "execution_count": 4,
   "metadata": {},
   "outputs": [
    {
     "name": "stdout",
     "output_type": "stream",
     "text": [
      "Item: 0-0\n",
      "Item: 0-1\n",
      "Item: 0-2\n",
      "Item: 0-3\n",
      "Item: 0-4\n",
      "3\n",
      "Success to Error Handling\n"
     ]
    }
   ],
   "source": [
    "# pip install goto-statement \n",
    "# 명령 프롬프트에서 위 명령어로 설치 먼저 진행\n",
    "from goto import with_goto\n",
    "# goto문을 사용할 준비를 한다.(위 두줄)\n",
    "\n",
    "# 예외처리를 할 수 없는 경우에 쓸 수 있는 식?\n",
    "@with_goto\n",
    "def gotoTest():\n",
    "    \n",
    "    for i in range(5):      \n",
    "        for j in range(5):        \n",
    "            # 처음부터 다시해야한다는 오류 판정!\n",
    "            if (i == 1 and j == 0):\n",
    "                # goto는 상황에 따라 잘 사용하면 성능 극대화가 가능\n",
    "                # 루프의 사이즈가 커질수록 성능의 이득이 극대화됨\n",
    "                \n",
    "                # 에러를 잡아주는 코드\n",
    "                goto .err_handler\n",
    "                \n",
    "            print(\"Item: {0}-{1}\".format(i, j))\n",
    "            \n",
    "    # 에러 발생했을 때 표시해줄 라벨\n",
    "    label .err_handler\n",
    "    print(\"Success to Error Handling\")\n",
    "    \n",
    "gotoTest()"
   ]
  },
  {
   "cell_type": "code",
   "execution_count": null,
   "metadata": {},
   "outputs": [],
   "source": [
    "# goto가 일반적인 경우에는 별로 좋지 않은게 사실\n",
    "# 에러 핸들링 차원에서 goto는 매우 유용하다.\n",
    "# 다중 루프를 도는 경우\n",
    "# 그러면서 Exception이 발생하지 않는 경우\n",
    "# 위 두 가지를 모두 만족하는 경우에 goto를 사용한다.\n",
    "\n",
    "# 우리가 만약에 flag 변수를 만들고\n",
    "# 매 루프마다 flag를 검사하는 로직을 만든다면\n",
    "# 실제로 오류가 아닌 정상적인 결과가 들어오는 경우에도\n",
    "# 쓸대없이 계속 오류 검사를 체크하고 있어야 한다.\n",
    "# (데이터가 정상임에도 불구하고 말이다)\n",
    "# 문제는 루프가 커질 경우\n",
    "# 이 검사루틴의 비용이 누적이 되면서 응답성이 떨어지게 된다.\n",
    "# 일반적인 경우에는 문제가 되지 않지만\n",
    "# 대규모 데이터를 전송하거나 수신하는 경우\n",
    "# 상당한 비용 소모를 초래하게 된다.\n",
    "\n",
    "# 그렇기 때문에 구지 오류가 아닌 경우에는\n",
    "# 검사를 하지 않도록 만들어줄 수 있는 goto문이 유리하다는 것이다.\n",
    "\n",
    "# CPU가 동작하는데 있어서 branch 명령어는\n",
    "# (if, for, break, goto, continue, while)\n",
    "# 동시에 여러개를 처리할 수 있도록 하는 파이프라인을 파괴하는 주범이다.\n",
    "# 보통은 단계가 20 ~ 70 단계정도를 가지고 있다.\n",
    "# branch를 만나게되면 쌓아놓은 파이프라인이 깨짐\n",
    "# 그러면 다시 채워야 프로그램이 구동될 수 있다.\n",
    "# (한 번 깨지면 다시 채우는 시간이 소요된다는 의미)"
   ]
  },
  {
   "cell_type": "code",
   "execution_count": 22,
   "metadata": {},
   "outputs": [
    {
     "name": "stdout",
     "output_type": "stream",
     "text": [
      "10\n",
      "12\n",
      "14\n",
      "16\n",
      "18\n"
     ]
    }
   ],
   "source": [
    "seriesList = [10, 12, 14, 16, 18]\n",
    "\n",
    "for i in seriesList:\n",
    "    print(i)"
   ]
  },
  {
   "cell_type": "code",
   "execution_count": 1,
   "metadata": {},
   "outputs": [
    {
     "name": "stdout",
     "output_type": "stream",
     "text": [
      "[0, 1, 2, 3, 4, 5, 6, 7, 8, 9]\n",
      "[5, 6, 7, 8, 9]\n",
      "[10, 9, 8, 7, 6, 5, 4, 3, 2, 1]\n",
      "[10, 12, 14, 16, 18]\n"
     ]
    }
   ],
   "source": [
    "# Callable 에러 발생\n",
    "# 위에서 어딘가에 일반 변수로 list를 사용한 것이 있어서 그런것이므로\n",
    "# 다시 재실행해서 수행하면 프로그램이 실행될 것이다.\n",
    "\n",
    "# 0 - 9\n",
    "print(list(range(10)))\n",
    "\n",
    "# 시작 5 - 끝 10전 -> for(int i = 5; i < 10; i++)\n",
    "print(list(range(5, 10)))\n",
    "\n",
    "# 시작이 10 - 끝은 0전 -> for(int i = 10; i > 0; i--)\n",
    "print(list(range(10, 0, -1)))\n",
    "\n",
    "# 시작이 10 - 끝은 20전, 증감이 2 -> for(int i = 10; i < 20; i += 2)\n",
    "print(list(range(10, 20, 2)))"
   ]
  },
  {
   "cell_type": "code",
   "execution_count": 3,
   "metadata": {},
   "outputs": [
    {
     "name": "stdout",
     "output_type": "stream",
     "text": [
      "10\n",
      "12\n",
      "14\n",
      "16\n",
      "18\n"
     ]
    }
   ],
   "source": [
    "for i in range(10, 20, 2):\n",
    "    print(i)"
   ]
  },
  {
   "cell_type": "code",
   "execution_count": null,
   "metadata": {},
   "outputs": [],
   "source": []
  },
  {
   "cell_type": "code",
   "execution_count": null,
   "metadata": {},
   "outputs": [],
   "source": []
  }
 ],
 "metadata": {
  "kernelspec": {
   "display_name": "Python 3",
   "language": "python",
   "name": "python3"
  },
  "language_info": {
   "codemirror_mode": {
    "name": "ipython",
    "version": 3
   },
   "file_extension": ".py",
   "mimetype": "text/x-python",
   "name": "python",
   "nbconvert_exporter": "python",
   "pygments_lexer": "ipython3",
   "version": "3.7.6"
  }
 },
 "nbformat": 4,
 "nbformat_minor": 4
}
