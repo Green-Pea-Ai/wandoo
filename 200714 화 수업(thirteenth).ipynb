{
 "cells": [
  {
   "cell_type": "code",
   "execution_count": null,
   "metadata": {},
   "outputs": [],
   "source": [
    "# Spring 환경 구성을 위해 jetbrains의 intellij를 설치하도록 한다.\n",
    "# 구글에서 jetbrain toolbox를 검색한다.\n",
    "# https://start.spring.io/로 이동한다.\n",
    "# 1. Project: Gradle\n",
    "# 2. Language: Java\n",
    "# 3. Name: Lecture\n",
    "# 4. Java: 11\n",
    "# 5. Dependencies: Spring Boot DevTools, Lombok, \n",
    "#    Spring Web, Spring Configuration Processor,\n",
    "#    Thymeleaf, Spring Data JPA, JDBC API,\n",
    "#    MySQL Driver, Spring Data JDB를\n",
    "# 6. 다운로드 받는다.\n",
    "# 7. unzip lecture.zip으로 압축을 해제한다.\n",
    "# 8. IntelliJ를 켜서 lecture를 import한다.\n",
    "# 9. Gradle이 JDK를 찾지 못한다면\n",
    "#    sudo apt-get update\n",
    "# 10. 사용할 수 있는 OpenJDK를 찾기 위해 아래 명령을 입력한다.\n",
    "#     sudo apt-cache search openjdk\n",
    "# 11. sudo apt-get install openjdk-11-jdk"
   ]
  },
  {
   "cell_type": "code",
   "execution_count": 1,
   "metadata": {},
   "outputs": [],
   "source": [
    "from keras.models import Sequential\n",
    "from keras.layers import Dense, Activation"
   ]
  },
  {
   "cell_type": "code",
   "execution_count": 2,
   "metadata": {},
   "outputs": [],
   "source": [
    "import numpy as np"
   ]
  },
  {
   "cell_type": "code",
   "execution_count": 6,
   "metadata": {},
   "outputs": [],
   "source": [
    "from keras.callbacks import EarlyStopping"
   ]
  },
  {
   "cell_type": "code",
   "execution_count": 3,
   "metadata": {},
   "outputs": [],
   "source": [
    "from sklearn.datasets import make_classification\n",
    "from sklearn.model_selection import train_test_split"
   ]
  },
  {
   "cell_type": "code",
   "execution_count": 4,
   "metadata": {},
   "outputs": [],
   "source": [
    "X, y = make_classification(\n",
    "    n_samples = 500, n_features = 16, n_classes = 2\n",
    ")\n",
    "\n",
    "X_train, X_test, y_train, y_test = train_test_split(\n",
    "    X, y, test_size = 0.3, random_state = 0\n",
    ")"
   ]
  },
  {
   "cell_type": "code",
   "execution_count": 7,
   "metadata": {},
   "outputs": [
    {
     "name": "stdout",
     "output_type": "stream",
     "text": [
      "5/5 [==============================] - 0s 795us/step - loss: 0.4169\n",
      "Test Loss = 0.4168957769870758\n"
     ]
    }
   ],
   "source": [
    "model = Sequential()\n",
    "\n",
    "# 뉴럴넷을 구성\n",
    "model.add(Dense(16, activation = 'relu', input_dim = 16))\n",
    "model.add(Dense(8, activation = 'relu'))\n",
    "model.add(Dense(4, activation = 'tanh'))\n",
    "model.add(Dense(1, activation = 'sigmoid'))\n",
    "\n",
    "model.compile(\n",
    "    optimizer = 'sgd',\n",
    "    loss = 'binary_crossentropy'\n",
    ")\n",
    "\n",
    "# EarlyStopping을 사용한다면\n",
    "# Fit을 하기 이전에 어디서 중단할지를 정해줘야 한다.\n",
    "es_callback = EarlyStopping(\n",
    "    # val_loss: 테스트 로스를 감독함\n",
    "    monitor = 'val_loss',\n",
    "    # mode = 'min'은 최소값을 감지함\n",
    "    mode = 'min'\n",
    ")\n",
    "# 콜백이란 ? 이벤트\n",
    "# 몰컴 성공을 위해 필요한 것\n",
    "# 1. 부모님이 주무시고 계셔야한다.\n",
    "# 2. 큰 소리가 나면 안됨\n",
    "# 3. 부모님이 방문을 열고 나오실때\n",
    "#    모니터 끄고 자는척 시전\n",
    "\n",
    "trainRes = model.fit(\n",
    "    X_train, y_train, \n",
    "    validation_data = (X_test, y_test),\n",
    "    epochs = 400,\n",
    "    batch_size = 5,\n",
    "    # 조건이 만족되면 콜백에 의해 fit이 중단되도록 구성한 부분\n",
    "    callbacks = [es_callback],\n",
    "    verbose = 0\n",
    ")\n",
    "\n",
    "print(\"Test Loss =\", model.evaluate(X_test, y_test))"
   ]
  },
  {
   "cell_type": "code",
   "execution_count": 8,
   "metadata": {},
   "outputs": [
    {
     "name": "stdout",
     "output_type": "stream",
     "text": [
      "[0.7186856269836426, 0.6777216196060181, 0.6499353051185608, 0.6257763504981995, 0.6025704741477966, 0.5801453590393066, 0.5563713908195496, 0.5327873229980469, 0.511207640171051, 0.4896691143512726, 0.46993982791900635, 0.4521527886390686, 0.43512922525405884, 0.4194710850715637, 0.40352514386177063, 0.3892962336540222, 0.3759092390537262, 0.3622589111328125, 0.35053306818008423, 0.340009868144989, 0.3300098180770874, 0.3216414153575897, 0.31157493591308594]\n"
     ]
    }
   ],
   "source": [
    "print(trainRes.history['loss'])"
   ]
  },
  {
   "cell_type": "code",
   "execution_count": 9,
   "metadata": {},
   "outputs": [
    {
     "name": "stdout",
     "output_type": "stream",
     "text": [
      "[0.7076225876808167, 0.6857850551605225, 0.6685747504234314, 0.6521199941635132, 0.6356441378593445, 0.6178266406059265, 0.6010834574699402, 0.5835350751876831, 0.5659286975860596, 0.5467759966850281, 0.5305055379867554, 0.5135584473609924, 0.49965307116508484, 0.4841473400592804, 0.471944123506546, 0.46463698148727417, 0.4548613429069519, 0.4451255202293396, 0.4356168508529663, 0.4297395348548889, 0.42084595561027527, 0.4138585329055786, 0.4168958365917206]\n"
     ]
    }
   ],
   "source": [
    "print(trainRes.history['val_loss'])"
   ]
  },
  {
   "cell_type": "code",
   "execution_count": null,
   "metadata": {},
   "outputs": [],
   "source": [
    "import json"
   ]
  },
  {
   "cell_type": "code",
   "execution_count": null,
   "metadata": {},
   "outputs": [],
   "source": [
    "pyRes = dict(trainRes.history)\n",
    "json.dumps(pyRes)"
   ]
  },
  {
   "cell_type": "code",
   "execution_count": 10,
   "metadata": {},
   "outputs": [],
   "source": [
    "import requests\n",
    "\n",
    "from flask import Flask, jsonify\n",
    "# pip install flask_restful\n",
    "from flask_restful import Resource, Api, reqparse"
   ]
  },
  {
   "cell_type": "code",
   "execution_count": null,
   "metadata": {},
   "outputs": [
    {
     "name": "stdout",
     "output_type": "stream",
     "text": [
      " * Serving Flask app \"__main__\" (lazy loading)\n",
      " * Environment: production\n",
      "   WARNING: This is a development server. Do not use it in a production deployment.\n",
      "   Use a production WSGI server instead.\n",
      " * Debug mode: off\n"
     ]
    },
    {
     "name": "stderr",
     "output_type": "stream",
     "text": [
      " * Running on http://127.0.0.1:5000/ (Press CTRL+C to quit)\n",
      "127.0.0.1 - - [14/Jul/2020 12:23:43] \"\u001b[37mGET /dataServer HTTP/1.1\u001b[0m\" 200 -\n"
     ]
    },
    {
     "name": "stdout",
     "output_type": "stream",
     "text": [
      "It's operate\n"
     ]
    },
    {
     "name": "stderr",
     "output_type": "stream",
     "text": [
      "127.0.0.1 - - [14/Jul/2020 12:36:02] \"\u001b[37mGET /dataServer HTTP/1.1\u001b[0m\" 200 -\n"
     ]
    },
    {
     "name": "stdout",
     "output_type": "stream",
     "text": [
      "It's operate\n"
     ]
    },
    {
     "name": "stderr",
     "output_type": "stream",
     "text": [
      "127.0.0.1 - - [14/Jul/2020 12:37:46] \"\u001b[37mGET /dataServer HTTP/1.1\u001b[0m\" 200 -\n"
     ]
    },
    {
     "name": "stdout",
     "output_type": "stream",
     "text": [
      "It's operate\n"
     ]
    },
    {
     "name": "stderr",
     "output_type": "stream",
     "text": [
      "127.0.0.1 - - [14/Jul/2020 12:49:51] \"\u001b[37mGET /dataServer HTTP/1.1\u001b[0m\" 200 -\n"
     ]
    },
    {
     "name": "stdout",
     "output_type": "stream",
     "text": [
      "It's operate\n"
     ]
    },
    {
     "name": "stderr",
     "output_type": "stream",
     "text": [
      "127.0.0.1 - - [14/Jul/2020 15:01:13] \"\u001b[37mGET /dataServer HTTP/1.1\u001b[0m\" 200 -\n"
     ]
    },
    {
     "name": "stdout",
     "output_type": "stream",
     "text": [
      "It's operate\n"
     ]
    },
    {
     "name": "stderr",
     "output_type": "stream",
     "text": [
      "127.0.0.1 - - [14/Jul/2020 15:43:56] \"\u001b[37mGET /dataServer HTTP/1.1\u001b[0m\" 200 -\n"
     ]
    },
    {
     "name": "stdout",
     "output_type": "stream",
     "text": [
      "It's operate\n"
     ]
    },
    {
     "name": "stderr",
     "output_type": "stream",
     "text": [
      "127.0.0.1 - - [14/Jul/2020 15:44:00] \"\u001b[37mGET /dataServer HTTP/1.1\u001b[0m\" 200 -\n"
     ]
    },
    {
     "name": "stdout",
     "output_type": "stream",
     "text": [
      "It's operate\n"
     ]
    }
   ],
   "source": [
    "app = Flask(__name__)\n",
    "api = Api(app)\n",
    "\n",
    "# localhost:8080/dataServer로 요청을 하면\n",
    "# 아래 함수가 동작을 한다는 의미!\n",
    "@app.route('/dataServer')\n",
    "def PythonServerResponse():\n",
    "    print(\"It's operate\")\n",
    "    summary = {'name': 'Hello', 'major': 'C++'}\n",
    "    pyRes = dict(trainRes.history)\n",
    "    \n",
    "    return jsonify(pyRes)\n",
    "\n",
    "app.run()"
   ]
  },
  {
   "cell_type": "code",
   "execution_count": null,
   "metadata": {},
   "outputs": [],
   "source": [
    "# sudo apt-get install net-tools\n",
    "# 설치후\n",
    "# ifconfig를 터미널에 입력한다."
   ]
  },
  {
   "cell_type": "code",
   "execution_count": null,
   "metadata": {},
   "outputs": [],
   "source": []
  }
 ],
 "metadata": {
  "kernelspec": {
   "display_name": "Python 3",
   "language": "python",
   "name": "python3"
  },
  "language_info": {
   "codemirror_mode": {
    "name": "ipython",
    "version": 3
   },
   "file_extension": ".py",
   "mimetype": "text/x-python",
   "name": "python",
   "nbconvert_exporter": "python",
   "pygments_lexer": "ipython3",
   "version": "3.7.6"
  }
 },
 "nbformat": 4,
 "nbformat_minor": 4
}
