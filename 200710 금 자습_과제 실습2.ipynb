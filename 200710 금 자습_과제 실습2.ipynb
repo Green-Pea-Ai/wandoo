{
 "cells": [
  {
   "cell_type": "code",
   "execution_count": 2,
   "metadata": {},
   "outputs": [
    {
     "name": "stdout",
     "output_type": "stream",
     "text": [
      "Lesson01  Lesson03  Lesson05  Lesson07\tLesson09  README.md\r\n",
      "Lesson02  Lesson04  Lesson06  Lesson08\tLICENSE\r\n"
     ]
    }
   ],
   "source": [
    "!ls Applied-Deep-Learning-with-Keras"
   ]
  },
  {
   "cell_type": "code",
   "execution_count": 4,
   "metadata": {},
   "outputs": [
    {
     "name": "stdout",
     "output_type": "stream",
     "text": [
      "백업\t\t      cook_bank_data_feats.csv\t Exercise08.ipynb\r\n",
      "Activity02.ipynb      cook_bank_data_target.csv  Exercise09.ipynb\r\n",
      "bank_data_feats.csv   Exercise06.ipynb\r\n",
      "bank_data_target.csv  Exercise07.ipynb\r\n"
     ]
    }
   ],
   "source": [
    "!ls Applied-Deep-Learning-with-Keras/Lesson02"
   ]
  },
  {
   "cell_type": "code",
   "execution_count": 7,
   "metadata": {},
   "outputs": [
    {
     "name": "stdout",
     "output_type": "stream",
     "text": [
      "cook_bank_data_feats.csv  cook_bank_data_target.csv\r\n"
     ]
    }
   ],
   "source": [
    "!ls Applied-Deep-Learning-with-Keras/Lesson02/data"
   ]
  },
  {
   "cell_type": "code",
   "execution_count": 64,
   "metadata": {},
   "outputs": [],
   "source": [
    "import pandas as pd\n",
    "\n",
    "data = pd.read_csv(\n",
    "    'Applied-Deep-Learning-with-Keras/Lesson02/data/cook_bank_data_feats.csv',\n",
    "    index_col = 0\n",
    ")\n",
    "\n",
    "y = pd.read_csv(\n",
    "    'Applied-Deep-Learning-with-Keras/Lesson02/data/cook_bank_data_target.csv',\n",
    "    index_col = 0\n",
    ")\n",
    "\n",
    "X = data"
   ]
  },
  {
   "cell_type": "code",
   "execution_count": 65,
   "metadata": {},
   "outputs": [
    {
     "ename": "NameError",
     "evalue": "name 'feats' is not defined",
     "output_type": "error",
     "traceback": [
      "\u001b[0;31m---------------------------------------------------------------------------\u001b[0m",
      "\u001b[0;31mNameError\u001b[0m                                 Traceback (most recent call last)",
      "\u001b[0;32m<ipython-input-65-53c640f740f8>\u001b[0m in \u001b[0;36m<module>\u001b[0;34m\u001b[0m\n\u001b[1;32m      5\u001b[0m \u001b[0;34m\u001b[0m\u001b[0m\n\u001b[1;32m      6\u001b[0m X_train, X_test, y_train, y_test = train_test_split(\n\u001b[0;32m----> 7\u001b[0;31m     \u001b[0mfeats\u001b[0m\u001b[0;34m,\u001b[0m \u001b[0mtarget\u001b[0m\u001b[0;34m,\u001b[0m \u001b[0mtest_size\u001b[0m\u001b[0;34m=\u001b[0m\u001b[0mtest_size\u001b[0m\u001b[0;34m,\u001b[0m \u001b[0mrandom_state\u001b[0m\u001b[0;34m=\u001b[0m\u001b[0mrandom_state\u001b[0m\u001b[0;34m\u001b[0m\u001b[0;34m\u001b[0m\u001b[0m\n\u001b[0m\u001b[1;32m      8\u001b[0m )\n",
      "\u001b[0;31mNameError\u001b[0m: name 'feats' is not defined"
     ]
    }
   ],
   "source": [
    "# 과제 실습2에서는 안씀\n",
    "from sklearn.model_selection import train_test_split\n",
    "\n",
    "test_size = 0.2\n",
    "random_state = 42\n",
    "\n",
    "X_train, X_test, y_train, y_test = train_test_split(\n",
    "    feats, target, test_size=test_size, random_state=random_state\n",
    ")"
   ]
  },
  {
   "cell_type": "code",
   "execution_count": 66,
   "metadata": {},
   "outputs": [
    {
     "ename": "NameError",
     "evalue": "name 'X_train' is not defined",
     "output_type": "error",
     "traceback": [
      "\u001b[0;31m---------------------------------------------------------------------------\u001b[0m",
      "\u001b[0;31mNameError\u001b[0m                                 Traceback (most recent call last)",
      "\u001b[0;32m<ipython-input-66-72473169a3b2>\u001b[0m in \u001b[0;36m<module>\u001b[0;34m\u001b[0m\n\u001b[0;32m----> 1\u001b[0;31m \u001b[0mprint\u001b[0m\u001b[0;34m(\u001b[0m\u001b[0mX_train\u001b[0m\u001b[0;34m.\u001b[0m\u001b[0mshape\u001b[0m\u001b[0;34m)\u001b[0m\u001b[0;34m\u001b[0m\u001b[0;34m\u001b[0m\u001b[0m\n\u001b[0m\u001b[1;32m      2\u001b[0m \u001b[0mprint\u001b[0m\u001b[0;34m(\u001b[0m\u001b[0mX_test\u001b[0m\u001b[0;34m.\u001b[0m\u001b[0mshape\u001b[0m\u001b[0;34m)\u001b[0m\u001b[0;34m\u001b[0m\u001b[0;34m\u001b[0m\u001b[0m\n\u001b[1;32m      3\u001b[0m \u001b[0mprint\u001b[0m\u001b[0;34m(\u001b[0m\u001b[0my_train\u001b[0m\u001b[0;34m.\u001b[0m\u001b[0mshape\u001b[0m\u001b[0;34m)\u001b[0m\u001b[0;34m\u001b[0m\u001b[0;34m\u001b[0m\u001b[0m\n\u001b[1;32m      4\u001b[0m \u001b[0mprint\u001b[0m\u001b[0;34m(\u001b[0m\u001b[0my_test\u001b[0m\u001b[0;34m.\u001b[0m\u001b[0mshape\u001b[0m\u001b[0;34m)\u001b[0m\u001b[0;34m\u001b[0m\u001b[0;34m\u001b[0m\u001b[0m\n",
      "\u001b[0;31mNameError\u001b[0m: name 'X_train' is not defined"
     ]
    }
   ],
   "source": [
    "print(X_train.shape)\n",
    "print(X_test.shape)\n",
    "print(y_train.shape)\n",
    "print(y_test.shape)"
   ]
  },
  {
   "cell_type": "code",
   "execution_count": 4,
   "metadata": {},
   "outputs": [],
   "source": [
    "from keras.models import Sequential\n",
    "\n",
    "model = Sequential()"
   ]
  },
  {
   "cell_type": "code",
   "execution_count": 5,
   "metadata": {},
   "outputs": [],
   "source": [
    "from keras.layers import Dense, Activation\n",
    "from keras.models import Sequential\n",
    "\n",
    "\n",
    "input_shape = X_train.shape[1]\n",
    "\n",
    "# Dense(출력 개수, 활성화 함수, 입력 개수)\n",
    "model.add(Dense(256, activation = 'tanh', input_dim = input_shape))\n",
    "\n",
    "model.add(Dense(128, activation = 'tanh'))\n",
    "model.add(Dense(96, activation = 'tanh'))\n",
    "model.add(Dense(64, activation = 'tanh'))\n",
    "model.add(Dense(32, activation = 'tanh'))\n",
    "model.add(Dense(32, activation = 'tanh'))\n",
    "model.add(Dense(16, activation = 'tanh'))\n",
    "model.add(Dense(8, activation = 'tanh'))\n",
    "\n",
    "model.add(Dense(1, activation = 'sigmoid'))"
   ]
  },
  {
   "cell_type": "code",
   "execution_count": 6,
   "metadata": {},
   "outputs": [],
   "source": [
    "model.compile(\n",
    "    optimizer = 'adam',\n",
    "    loss = 'binary_crossentropy',\n",
    "    metrics = ['accuracy']\n",
    ")"
   ]
  },
  {
   "cell_type": "code",
   "execution_count": 7,
   "metadata": {},
   "outputs": [
    {
     "name": "stdout",
     "output_type": "stream",
     "text": [
      "Model: \"sequential\"\n",
      "_________________________________________________________________\n",
      "Layer (type)                 Output Shape              Param #   \n",
      "=================================================================\n",
      "dense (Dense)                (None, 256)               3072      \n",
      "_________________________________________________________________\n",
      "dense_1 (Dense)              (None, 128)               32896     \n",
      "_________________________________________________________________\n",
      "dense_2 (Dense)              (None, 96)                12384     \n",
      "_________________________________________________________________\n",
      "dense_3 (Dense)              (None, 64)                6208      \n",
      "_________________________________________________________________\n",
      "dense_4 (Dense)              (None, 32)                2080      \n",
      "_________________________________________________________________\n",
      "dense_5 (Dense)              (None, 32)                1056      \n",
      "_________________________________________________________________\n",
      "dense_6 (Dense)              (None, 16)                528       \n",
      "_________________________________________________________________\n",
      "dense_7 (Dense)              (None, 8)                 136       \n",
      "_________________________________________________________________\n",
      "dense_8 (Dense)              (None, 1)                 9         \n",
      "=================================================================\n",
      "Total params: 58,369\n",
      "Trainable params: 58,369\n",
      "Non-trainable params: 0\n",
      "_________________________________________________________________\n",
      "None\n"
     ]
    }
   ],
   "source": [
    "print(model.summary())"
   ]
  },
  {
   "cell_type": "code",
   "execution_count": 8,
   "metadata": {},
   "outputs": [
    {
     "name": "stdout",
     "output_type": "stream",
     "text": [
      "Epoch 1/10\n",
      "91/91 [==============================] - 0s 2ms/step - loss: 0.3803 - accuracy: 0.8679 - val_loss: 0.3278 - val_accuracy: 0.8936\n",
      "Epoch 2/10\n",
      "91/91 [==============================] - 0s 1ms/step - loss: 0.3439 - accuracy: 0.8804 - val_loss: 0.3092 - val_accuracy: 0.8936\n",
      "Epoch 3/10\n",
      "91/91 [==============================] - 0s 1ms/step - loss: 0.3301 - accuracy: 0.8804 - val_loss: 0.3073 - val_accuracy: 0.8936\n",
      "Epoch 4/10\n",
      "91/91 [==============================] - 0s 1ms/step - loss: 0.3271 - accuracy: 0.8804 - val_loss: 0.3254 - val_accuracy: 0.8936\n",
      "Epoch 5/10\n",
      "91/91 [==============================] - 0s 1ms/step - loss: 0.3400 - accuracy: 0.8786 - val_loss: 0.3341 - val_accuracy: 0.8936\n",
      "Epoch 6/10\n",
      "91/91 [==============================] - 0s 1ms/step - loss: 0.3284 - accuracy: 0.8804 - val_loss: 0.3164 - val_accuracy: 0.8936\n",
      "Epoch 7/10\n",
      "91/91 [==============================] - 0s 1ms/step - loss: 0.3310 - accuracy: 0.8807 - val_loss: 0.3298 - val_accuracy: 0.8936\n",
      "Epoch 8/10\n",
      "91/91 [==============================] - 0s 1ms/step - loss: 0.3315 - accuracy: 0.8804 - val_loss: 0.3046 - val_accuracy: 0.8936\n",
      "Epoch 9/10\n",
      "91/91 [==============================] - 0s 1ms/step - loss: 0.3201 - accuracy: 0.8804 - val_loss: 0.3034 - val_accuracy: 0.8936\n",
      "Epoch 10/10\n",
      "91/91 [==============================] - 0s 1ms/step - loss: 0.3204 - accuracy: 0.8752 - val_loss: 0.3073 - val_accuracy: 0.8936\n"
     ]
    }
   ],
   "source": [
    "history = model.fit(\n",
    "    x=X_train, y=y_train['y'],\n",
    "    epochs=10, batch_size=32, validation_split=0.2\n",
    ")"
   ]
  },
  {
   "cell_type": "code",
   "execution_count": 9,
   "metadata": {},
   "outputs": [
    {
     "data": {
      "image/png": "[encoded data removed]",
      "text/plain": [
       "<Figure size 432x288 with 1 Axes>"
      ]
     },
     "metadata": {
      "needs_background": "light"
     },
     "output_type": "display_data"
    },
    {
     "data": {
      "image/png": "[encoded data removed]",
      "text/plain": [
       "<Figure size 432x288 with 1 Axes>"
      ]
     },
     "metadata": {
      "needs_background": "light"
     },
     "output_type": "display_data"
    }
   ],
   "source": [
    "import matplotlib.pyplot as plt\n",
    "\n",
    "# 학습 및 검증 정확성 값 도식화\n",
    "accuracy_f = plt.plot(history.history['accuracy'])\n",
    "val_accuracy_f = plt.plot(history.history['val_accuracy'])\n",
    "\n",
    "plt.title('Model Accuracy')\n",
    "plt.ylabel('Accuracy')\n",
    "plt.xlabel('Loop')\n",
    "plt.legend(['Train', 'Validation'], loc='upper left')\n",
    "plt.show()\n",
    "\n",
    "\n",
    "\n",
    "# 학습 및 검증 손실 값 도식화\n",
    "loss_f = plt.plot(history.history['loss'])\n",
    "val_loss_f = plt.plot(history.history['val_loss'])\n",
    "\n",
    "plt.title('Model Loss')\n",
    "plt.ylabel('Loss')\n",
    "plt.xlabel('Loop')\n",
    "plt.legend(['Train', 'Validation'], loc='upper left')\n",
    "plt.show()\n",
    "\n"
   ]
  },
  {
   "cell_type": "code",
   "execution_count": 10,
   "metadata": {},
   "outputs": [
    {
     "name": "stdout",
     "output_type": "stream",
     "text": [
      "[<matplotlib.lines.Line2D object at 0x7f29cc590fd0>]\n"
     ]
    },
    {
     "data": {
      "image/png": "[encoded data removed]",
      "text/plain": [
       "<Figure size 432x288 with 1 Axes>"
      ]
     },
     "metadata": {
      "needs_background": "light"
     },
     "output_type": "display_data"
    }
   ],
   "source": [
    "print(plt.plot(history.history['loss']))"
   ]
  },
  {
   "cell_type": "code",
   "execution_count": 1,
   "metadata": {},
   "outputs": [
    {
     "ename": "NameError",
     "evalue": "name 'history' is not defined",
     "output_type": "error",
     "traceback": [
      "\u001b[0;31m---------------------------------------------------------------------------\u001b[0m",
      "\u001b[0;31mNameError\u001b[0m                                 Traceback (most recent call last)",
      "\u001b[0;32m<ipython-input-1-7bd887027745>\u001b[0m in \u001b[0;36m<module>\u001b[0;34m\u001b[0m\n\u001b[0;32m----> 1\u001b[0;31m \u001b[0mprint\u001b[0m\u001b[0;34m(\u001b[0m\u001b[0mhistory\u001b[0m\u001b[0;34m.\u001b[0m\u001b[0mhistory\u001b[0m\u001b[0;34m[\u001b[0m\u001b[0;34m'loss'\u001b[0m\u001b[0;34m]\u001b[0m\u001b[0;34m)\u001b[0m\u001b[0;34m\u001b[0m\u001b[0;34m\u001b[0m\u001b[0m\n\u001b[0m",
      "\u001b[0;31mNameError\u001b[0m: name 'history' is not defined"
     ]
    }
   ],
   "source": [
    "print(history.history['loss'])"
   ]
  },
  {
   "cell_type": "code",
   "execution_count": 3,
   "metadata": {},
   "outputs": [],
   "source": []
  },
  {
   "cell_type": "code",
   "execution_count": 56,
   "metadata": {},
   "outputs": [
    {
     "name": "stdout",
     "output_type": "stream",
     "text": [
      "Epoch 1/3\n",
      "724/724 [==============================] - 2s 2ms/step - loss: 1.2702 - accuracy: 0.8438\n",
      "Epoch 2/3\n",
      "724/724 [==============================] - 2s 3ms/step - loss: 0.4471 - accuracy: 0.8794\n",
      "Epoch 3/3\n",
      "724/724 [==============================] - 2s 3ms/step - loss: 0.3863 - accuracy: 0.8836\n",
      "181/181 [==============================] - 0s 483us/step - loss: 0.3733 - accuracy: 0.8829\n",
      "Epoch 1/3\n",
      "724/724 [==============================] - 1s 1ms/step - loss: 2.7906 - accuracy: 0.8590\n",
      "Epoch 2/3\n",
      "724/724 [==============================] - 2s 2ms/step - loss: 0.4485 - accuracy: 0.8847\n",
      "Epoch 3/3\n",
      "724/724 [==============================] - 2s 2ms/step - loss: 0.3886 - accuracy: 0.8847\n",
      "181/181 [==============================] - 0s 509us/step - loss: 0.3626 - accuracy: 0.8850\n",
      "Epoch 1/3\n",
      "724/724 [==============================] - 1s 2ms/step - loss: 1.2603 - accuracy: 0.8443\n",
      "Epoch 2/3\n",
      "724/724 [==============================] - 1s 2ms/step - loss: 1.2377 - accuracy: 0.8471\n",
      "Epoch 3/3\n",
      "724/724 [==============================] - 2s 2ms/step - loss: 1.0346 - accuracy: 0.8510\n",
      "181/181 [==============================] - 0s 467us/step - loss: 1.8866 - accuracy: 0.8595\n",
      "Epoch 1/3\n",
      "724/724 [==============================] - 1s 1ms/step - loss: 4.8594 - accuracy: 0.7965\n",
      "Epoch 2/3\n",
      "724/724 [==============================] - 2s 2ms/step - loss: 1.7718 - accuracy: 0.8363\n",
      "Epoch 3/3\n",
      "724/724 [==============================] - 2s 2ms/step - loss: 2.1379 - accuracy: 0.8352\n",
      "181/181 [==============================] - 0s 566us/step - loss: 0.7653 - accuracy: 0.8883\n",
      "Epoch 1/3\n",
      "724/724 [==============================] - 1s 2ms/step - loss: 1.5542 - accuracy: 0.8745\n",
      "Epoch 2/3\n",
      "724/724 [==============================] - 2s 2ms/step - loss: 0.4175 - accuracy: 0.8847\n",
      "Epoch 3/3\n",
      "724/724 [==============================] - 1s 2ms/step - loss: 0.3547 - accuracy: 0.8847\n",
      "181/181 [==============================] - 0s 595us/step - loss: 0.3313 - accuracy: 0.8850\n",
      "Epoch 1/3\n",
      "724/724 [==============================] - 1s 1ms/step - loss: 0.9718 - accuracy: 0.7812\n",
      "Epoch 2/3\n",
      "724/724 [==============================] - 1s 2ms/step - loss: 0.4075 - accuracy: 0.8836\n",
      "Epoch 3/3\n",
      "724/724 [==============================] - 2s 2ms/step - loss: 0.3532 - accuracy: 0.8797\n",
      "181/181 [==============================] - 0s 529us/step - loss: 0.3646 - accuracy: 0.8829\n",
      "Epoch 1/3\n",
      "724/724 [==============================] - 1s 2ms/step - loss: 16.5448 - accuracy: 0.6716\n",
      "Epoch 2/3\n",
      "724/724 [==============================] - 1s 2ms/step - loss: 0.4618 - accuracy: 0.8717\n",
      "Epoch 3/3\n",
      "724/724 [==============================] - 2s 2ms/step - loss: 0.3986 - accuracy: 0.8817\n",
      "181/181 [==============================] - 0s 477us/step - loss: 0.3491 - accuracy: 0.8850\n",
      "Epoch 1/3\n",
      "724/724 [==============================] - 1s 1ms/step - loss: 1.9839 - accuracy: 0.8236\n",
      "Epoch 2/3\n",
      "724/724 [==============================] - 1s 2ms/step - loss: 0.7912 - accuracy: 0.8526\n",
      "Epoch 3/3\n",
      "724/724 [==============================] - 1s 2ms/step - loss: 0.6143 - accuracy: 0.8620\n",
      "181/181 [==============================] - 0s 490us/step - loss: 0.3389 - accuracy: 0.8827\n",
      "Epoch 1/3\n",
      "724/724 [==============================] - 1s 2ms/step - loss: 5.0213 - accuracy: 0.8385\n",
      "Epoch 2/3\n",
      "724/724 [==============================] - 2s 3ms/step - loss: 0.4647 - accuracy: 0.8665\n",
      "Epoch 3/3\n",
      "724/724 [==============================] - 2s 2ms/step - loss: 0.4071 - accuracy: 0.8786\n",
      "181/181 [==============================] - 0s 557us/step - loss: 0.3724 - accuracy: 0.8872\n",
      "Epoch 1/3\n",
      "724/724 [==============================] - 1s 1ms/step - loss: 0.5578 - accuracy: 0.8811\n",
      "Epoch 2/3\n",
      "724/724 [==============================] - 1s 2ms/step - loss: 0.3848 - accuracy: 0.8847\n",
      "Epoch 3/3\n",
      "724/724 [==============================] - 2s 3ms/step - loss: 0.3479 - accuracy: 0.8847\n",
      "181/181 [==============================] - 0s 500us/step - loss: 0.3388 - accuracy: 0.8850\n",
      "Epoch 1/3\n",
      "724/724 [==============================] - 1s 2ms/step - loss: 1.6678 - accuracy: 0.8847\n",
      "Epoch 2/3\n",
      "724/724 [==============================] - 1s 2ms/step - loss: 0.4620 - accuracy: 0.8850\n",
      "Epoch 3/3\n",
      "724/724 [==============================] - 1s 2ms/step - loss: 0.3877 - accuracy: 0.8850\n",
      "181/181 [==============================] - 0s 708us/step - loss: 0.5017 - accuracy: 0.8840\n",
      "Epoch 1/3\n",
      "724/724 [==============================] - 1s 2ms/step - loss: 1.9150 - accuracy: 0.8048\n",
      "Epoch 2/3\n",
      "724/724 [==============================] - 2s 2ms/step - loss: 0.4865 - accuracy: 0.8479\n",
      "Epoch 3/3\n",
      "724/724 [==============================] - 2s 3ms/step - loss: 0.4364 - accuracy: 0.8681\n",
      "181/181 [==============================] - 0s 564us/step - loss: 0.4007 - accuracy: 0.8805\n",
      "Epoch 1/3\n",
      "724/724 [==============================] - 1s 1ms/step - loss: 1.0691 - accuracy: 0.8750\n",
      "Epoch 2/3\n",
      "724/724 [==============================] - 2s 2ms/step - loss: 0.4148 - accuracy: 0.8847\n",
      "Epoch 3/3\n",
      "724/724 [==============================] - 1s 2ms/step - loss: 0.3717 - accuracy: 0.8847\n",
      "181/181 [==============================] - 0s 609us/step - loss: 0.3617 - accuracy: 0.8850\n",
      "Epoch 1/3\n",
      "724/724 [==============================] - 1s 2ms/step - loss: 3.5409 - accuracy: 0.8206\n",
      "Epoch 2/3\n",
      "724/724 [==============================] - 2s 2ms/step - loss: 0.4119 - accuracy: 0.8855\n",
      "Epoch 3/3\n",
      "724/724 [==============================] - 1s 2ms/step - loss: 0.3670 - accuracy: 0.8825\n",
      "181/181 [==============================] - 0s 516us/step - loss: 0.3730 - accuracy: 0.8850\n",
      "Epoch 1/3\n",
      "724/724 [==============================] - 1s 2ms/step - loss: 0.7388 - accuracy: 0.8654\n",
      "Epoch 2/3\n",
      "724/724 [==============================] - 2s 2ms/step - loss: 0.4352 - accuracy: 0.8833\n",
      "Epoch 3/3\n",
      "724/724 [==============================] - 2s 2ms/step - loss: 0.3815 - accuracy: 0.8839\n",
      "181/181 [==============================] - 0s 505us/step - loss: 0.3675 - accuracy: 0.8861\n",
      "Epoch 1/3\n",
      "724/724 [==============================] - 1s 2ms/step - loss: 7.4546 - accuracy: 0.8473\n",
      "Epoch 2/3\n",
      "724/724 [==============================] - 1s 2ms/step - loss: 0.4936 - accuracy: 0.8697\n",
      "Epoch 3/3\n",
      "724/724 [==============================] - 1s 2ms/step - loss: 0.4164 - accuracy: 0.8794\n",
      "181/181 [==============================] - 0s 535us/step - loss: 0.5703 - accuracy: 0.8829\n",
      "Epoch 1/3\n",
      "724/724 [==============================] - 1s 2ms/step - loss: 4.3879 - accuracy: 0.7830\n",
      "Epoch 2/3\n",
      "724/724 [==============================] - 1s 2ms/step - loss: 3.1460 - accuracy: 0.8330\n",
      "Epoch 3/3\n",
      "724/724 [==============================] - 1s 2ms/step - loss: 2.2111 - accuracy: 0.8419\n",
      "181/181 [==============================] - 0s 589us/step - loss: 1.1717 - accuracy: 0.8872\n",
      "Epoch 1/3\n",
      "724/724 [==============================] - 1s 1ms/step - loss: 2.0064 - accuracy: 0.7531\n",
      "Epoch 2/3\n",
      "724/724 [==============================] - 1s 2ms/step - loss: 0.4950 - accuracy: 0.8670\n",
      "Epoch 3/3\n",
      "724/724 [==============================] - 1s 2ms/step - loss: 0.4787 - accuracy: 0.8772\n",
      "181/181 [==============================] - 0s 478us/step - loss: 0.4165 - accuracy: 0.8861\n",
      "Epoch 1/3\n",
      "724/724 [==============================] - 1s 2ms/step - loss: 7.3229 - accuracy: 0.8192\n",
      "Epoch 2/3\n",
      "724/724 [==============================] - 2s 2ms/step - loss: 3.1181 - accuracy: 0.8300\n",
      "Epoch 3/3\n",
      "724/724 [==============================] - 2s 2ms/step - loss: 3.2931 - accuracy: 0.8208\n",
      "181/181 [==============================] - 0s 731us/step - loss: 1.7372 - accuracy: 0.7423\n",
      "Epoch 1/3\n",
      "724/724 [==============================] - 1s 2ms/step - loss: 2.3421 - accuracy: 0.8347\n",
      "Epoch 2/3\n",
      "724/724 [==============================] - 1s 2ms/step - loss: 0.7302 - accuracy: 0.8573\n",
      "Epoch 3/3\n",
      "724/724 [==============================] - 1s 2ms/step - loss: 0.6075 - accuracy: 0.8601\n",
      "181/181 [==============================] - 0s 547us/step - loss: 0.3935 - accuracy: 0.8894\n"
     ]
    }
   ],
   "source": [
    "# Hyper Parameter(초 매개변수)\n",
    "# 교차 검증을 통해서 어떤 녀석을 활용하는 것이 가장 좋은지 판정할 수 있다.\n",
    "# 물론 난 컴퓨터를 사용할 수 없게 된다.\n",
    "\n",
    "import numpy as np\n",
    "from keras.models import Sequential\n",
    "from keras.layers import Dense\n",
    "\n",
    "from keras.wrappers.scikit_learn import KerasClassifier\n",
    "from sklearn.model_selection import StratifiedKFold, cross_val_score\n",
    "\n",
    "\n",
    "n_folds = 5\n",
    "\n",
    "seed = 1\n",
    "np.random.seed(seed)\n",
    "\n",
    "results = []\n",
    "\n",
    "\n",
    "def model_build2(activation = 'relu', optimizer = 'adam'):\n",
    "    model = Sequential()\n",
    "    \n",
    "    model.add(Dense(16, input_dim = X.shape[1], activation = activation))\n",
    "    model.add(Dense(8, activation = activation))\n",
    "    model.add(Dense(4, activation = activation))\n",
    "    model.add(Dense(1, activation = 'sigmoid'))\n",
    "    \n",
    "    model.compile(\n",
    "        loss = 'binary_crossentropy',\n",
    "        optimizer = optimizer,\n",
    "        metrics = ['accuracy']\n",
    "    )\n",
    "    \n",
    "    return model\n",
    "\n",
    "\n",
    "optimizers = ['sgd', 'adam']\n",
    "activations = ['relu', 'tanh']\n",
    "\n",
    "for opt in range(len(optimizers)):\n",
    "    for active in range(len(activations)):\n",
    "        optimizer = optimizers[opt]\n",
    "        activation = activations[active]\n",
    "        \n",
    "        classifier = KerasClassifier(\n",
    "            build_fn = model_build2,\n",
    "            epochs = 3,\n",
    "            batch_size = 5,\n",
    "            verbose = 1\n",
    "        )\n",
    "        \n",
    "        kfold = StratifiedKFold(\n",
    "            n_splits = n_folds,\n",
    "            shuffle = True,\n",
    "            random_state = seed\n",
    "        )\n",
    "        \n",
    "        result = cross_val_score(classifier, X, y, cv = kfold)\n",
    "        \n",
    "        results.append(result)"
   ]
  },
  {
   "cell_type": "code",
   "execution_count": 63,
   "metadata": {},
   "outputs": [
    {
     "name": "stdout",
     "output_type": "stream",
     "text": [
      "activation = relu\n",
      "optimizer = sgd\n",
      "Test Accuracy = 0.8801144123077392\n",
      "\n",
      "activation = tanh\n",
      "optimizer = sgd\n",
      "Test Accuracy = 0.8845391988754272\n",
      "\n",
      "activation = relu\n",
      "optimizer = adam\n",
      "Test Accuracy = 0.8840964674949646\n",
      "\n",
      "activation = tanh\n",
      "optimizer = adam\n",
      "Test Accuracy = 0.8575480461120606\n",
      "\n",
      "\n",
      "맥스값 : 0.8845391988754272\n",
      "맥스값의 하이퍼 파라미터 값 1 : tanh\n",
      "맥스값의 하이퍼 파라미터 값 2 : sgd\n"
     ]
    }
   ],
   "source": [
    "c = 0\n",
    "maxValue = results[0].mean()\n",
    "best_hparam1 = activations[0]\n",
    "best_hparam2 = optimizers[0]\n",
    "\n",
    "\n",
    "for opt in range(len(optimizers)):\n",
    "    for active in range(len(activations)):\n",
    "        print(\"activation =\", activations[active])\n",
    "        print(\"optimizer =\", optimizers[opt])\n",
    "        \n",
    "        print(\"Test Accuracy =\", results[c].mean())\n",
    "        print(\"\")\n",
    "        if maxValue < results[c].mean():\n",
    "            maxValue = results[c].mean()\n",
    "            \n",
    "            #print(\"디버깅1\")\n",
    "            #print(best_hparam1)\n",
    "            best_hparam1 = activations[active]        \n",
    "            best_hparam2 = optimizers[opt]\n",
    "            \n",
    "        c += 1\n",
    "            \n",
    "        \n",
    "print(\"\")\n",
    "print(\"맥스값 :\", maxValue)\n",
    "print(\"맥스값의 하이퍼 파라미터 값 1 :\", best_hparam1)\n",
    "print(\"맥스값의 하이퍼 파라미터 값 2 :\", best_hparam2)"
   ]
  },
  {
   "cell_type": "code",
   "execution_count": 19,
   "metadata": {},
   "outputs": [
    {
     "data": {
      "text/plain": [
       "0.8840964674949646"
      ]
     },
     "execution_count": 19,
     "metadata": {},
     "output_type": "execute_result"
    }
   ],
   "source": [
    "results[3].mean()"
   ]
  },
  {
   "cell_type": "code",
   "execution_count": 42,
   "metadata": {},
   "outputs": [
    {
     "data": {
      "text/plain": [
       "'adam'"
      ]
     },
     "execution_count": 42,
     "metadata": {},
     "output_type": "execute_result"
    }
   ],
   "source": [
    "optimizers[opt]"
   ]
  },
  {
   "cell_type": "code",
   "execution_count": 12,
   "metadata": {},
   "outputs": [],
   "source": [
    "# 파이썬 서버 구축"
   ]
  },
  {
   "cell_type": "code",
   "execution_count": 58,
   "metadata": {},
   "outputs": [],
   "source": [
    "from flask import Flask, jsonify\n",
    "\n",
    "import requests\n",
    "import json"
   ]
  },
  {
   "cell_type": "code",
   "execution_count": 59,
   "metadata": {},
   "outputs": [],
   "source": [
    "# pip install flask_restful\n",
    "from flask_restful import Resource, Api, reqparse"
   ]
  },
  {
   "cell_type": "code",
   "execution_count": 60,
   "metadata": {},
   "outputs": [
    {
     "name": "stdout",
     "output_type": "stream",
     "text": [
      " * Serving Flask app \"__main__\" (lazy loading)\n",
      " * Environment: production\n",
      "   WARNING: This is a development server. Do not use it in a production deployment.\n",
      "   Use a production WSGI server instead.\n",
      " * Debug mode: off\n"
     ]
    },
    {
     "name": "stderr",
     "output_type": "stream",
     "text": [
      " * Running on http://127.0.0.1:5000/ (Press CTRL+C to quit)\n",
      "127.0.0.1 - - [10/Jul/2020 19:28:25] \"\u001b[33mGET / HTTP/1.1\u001b[0m\" 404 -\n",
      "127.0.0.1 - - [10/Jul/2020 19:28:25] \"\u001b[33mGET /favicon.ico HTTP/1.1\u001b[0m\" 404 -\n",
      "127.0.0.1 - - [10/Jul/2020 19:29:42] \"\u001b[33mGET / HTTP/1.1\u001b[0m\" 404 -\n",
      "127.0.0.1 - - [10/Jul/2020 19:29:48] \"\u001b[37mGET /dataServer HTTP/1.1\u001b[0m\" 200 -\n"
     ]
    },
    {
     "name": "stdout",
     "output_type": "stream",
     "text": [
      "It's operate\n"
     ]
    },
    {
     "name": "stderr",
     "output_type": "stream",
     "text": [
      "127.0.0.1 - - [10/Jul/2020 19:30:33] \"\u001b[37mGET /dataServer HTTP/1.1\u001b[0m\" 200 -\n"
     ]
    },
    {
     "name": "stdout",
     "output_type": "stream",
     "text": [
      "It's operate\n"
     ]
    },
    {
     "name": "stderr",
     "output_type": "stream",
     "text": [
      "127.0.0.1 - - [10/Jul/2020 19:30:33] \"\u001b[37mGET /dataServer HTTP/1.1\u001b[0m\" 200 -\n"
     ]
    },
    {
     "name": "stdout",
     "output_type": "stream",
     "text": [
      "It's operate\n"
     ]
    },
    {
     "name": "stderr",
     "output_type": "stream",
     "text": [
      "127.0.0.1 - - [10/Jul/2020 19:30:34] \"\u001b[37mGET /dataServer HTTP/1.1\u001b[0m\" 200 -\n"
     ]
    },
    {
     "name": "stdout",
     "output_type": "stream",
     "text": [
      "It's operate\n"
     ]
    },
    {
     "name": "stderr",
     "output_type": "stream",
     "text": [
      "127.0.0.1 - - [10/Jul/2020 19:30:34] \"\u001b[37mGET /dataServer HTTP/1.1\u001b[0m\" 200 -\n",
      "127.0.0.1 - - [10/Jul/2020 19:30:34] \"\u001b[37mGET /dataServer HTTP/1.1\u001b[0m\" 200 -\n"
     ]
    },
    {
     "name": "stdout",
     "output_type": "stream",
     "text": [
      "It's operate\n",
      "It's operate\n"
     ]
    },
    {
     "name": "stderr",
     "output_type": "stream",
     "text": [
      "127.0.0.1 - - [10/Jul/2020 19:30:34] \"\u001b[37mGET /dataServer HTTP/1.1\u001b[0m\" 200 -\n"
     ]
    },
    {
     "name": "stdout",
     "output_type": "stream",
     "text": [
      "It's operate\n"
     ]
    },
    {
     "name": "stderr",
     "output_type": "stream",
     "text": [
      "127.0.0.1 - - [10/Jul/2020 19:30:34] \"\u001b[37mGET /dataServer HTTP/1.1\u001b[0m\" 200 -\n",
      "127.0.0.1 - - [10/Jul/2020 19:30:35] \"\u001b[37mGET /dataServer HTTP/1.1\u001b[0m\" 200 -\n"
     ]
    },
    {
     "name": "stdout",
     "output_type": "stream",
     "text": [
      "It's operate\n",
      "It's operate\n"
     ]
    },
    {
     "name": "stderr",
     "output_type": "stream",
     "text": [
      "127.0.0.1 - - [10/Jul/2020 19:36:55] \"\u001b[37mGET /dataServer HTTP/1.1\u001b[0m\" 200 -\n"
     ]
    },
    {
     "name": "stdout",
     "output_type": "stream",
     "text": [
      "It's operate\n"
     ]
    }
   ],
   "source": [
    "app = Flask(__name__)\n",
    "api = Api(app)\n",
    "\n",
    "@app.route('/dataServer')\n",
    "def PythonServerResponse():\n",
    "    print(\"It's operate\")\n",
    "    \n",
    "   \n",
    "    summary = {\n",
    "                'HP_1' : best_hparam1,\n",
    "                'HP_2': best_hparam2            \n",
    "              }\n",
    "    return jsonify(summary)\n",
    "\n",
    "app.run()"
   ]
  },
  {
   "cell_type": "code",
   "execution_count": null,
   "metadata": {},
   "outputs": [],
   "source": []
  }
 ],
 "metadata": {
  "kernelspec": {
   "display_name": "Python 3",
   "language": "python",
   "name": "python3"
  },
  "language_info": {
   "codemirror_mode": {
    "name": "ipython",
    "version": 3
   },
   "file_extension": ".py",
   "mimetype": "text/x-python",
   "name": "python",
   "nbconvert_exporter": "python",
   "pygments_lexer": "ipython3",
   "version": "3.7.6"
  }
 },
 "nbformat": 4,
 "nbformat_minor": 4
}
