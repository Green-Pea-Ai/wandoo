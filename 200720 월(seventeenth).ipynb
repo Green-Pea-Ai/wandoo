{
 "cells": [
  {
   "cell_type": "code",
   "execution_count": null,
   "metadata": {},
   "outputs": [],
   "source": [
    "# 베이스 - 디지털 신호 처리\n",
    "# CNN - FIR 필터(음성 분석)\n",
    "# RNN, LTSM - IIR 필터(음성 분석)\n",
    "# 피드백(IIR)을 준다는 개념은\n",
    "# 특정값을 찾아 수렴시키는 것이라 보면 된다.\n",
    "# 현업에서는 FIR IIR을 섞어서 쓴다.\n",
    "# 마이크로 펀딩 => FPGA(다 직접 만들어야해서 어렵다)\n",
    "# 위의 기술로 주식을 한다해도 성공하기 힘들다\n",
    "\n",
    "# 공군은 헬기를 타기 싫어한다(죽을 확률 높음)\n",
    "# 중심 잘못잡으면 바로 추락함? \n",
    "# 날개 중앙 볼트가 약하다고 함\n",
    "# 전투기 한번 몰고 > 민간 항공기쪽으로 취업?\n",
    "\n",
    "# IoT는 예전에 임베디드라고 불렸음\n",
    "# 지원을 받으려고 꼼수로 명칭만 바꾸지만 큰 틀은 크게 변하지 않았다.\n",
    "# 국내 주식은 여의도에 작업세력이 많다? 정보꾼이 없으면 차익을 내기 힘들다.\n",
    "# 해외 주식은 기술주에 장기투자하면 꾸준히 득을 본다. \n",
    "# alphabet(구글), xilinx"
   ]
  },
  {
   "cell_type": "code",
   "execution_count": null,
   "metadata": {},
   "outputs": [],
   "source": [
    "# 스펙트로그램으로 해야 한다(3차원). 스펙트럼으로 하면 망함"
   ]
  },
  {
   "cell_type": "code",
   "execution_count": null,
   "metadata": {},
   "outputs": [],
   "source": [
    "# y(u, x) => ∂y / ∂u 혹은 ∂y / ∂x\n",
    "# y' = ∂y / ∂x * ∂x / ∂u (324p, 모든 기울기를 곱한 결과)"
   ]
  },
  {
   "cell_type": "code",
   "execution_count": null,
   "metadata": {},
   "outputs": [],
   "source": []
  },
  {
   "cell_type": "code",
   "execution_count": 13,
   "metadata": {},
   "outputs": [],
   "source": [
    "import numpy as np\n",
    "import matplotlib.pyplot as plt\n",
    "import pandas as pd"
   ]
  },
  {
   "cell_type": "code",
   "execution_count": 2,
   "metadata": {},
   "outputs": [
    {
     "name": "stdout",
     "output_type": "stream",
     "text": [
      "AAPL_test.csv\t  Activity18.ipynb  Exercise28.ipynb\r\n",
      "AAPL_train.csv\t  Activity19.ipynb  MSFT_test.csv\r\n",
      "Activity17.ipynb  Exercise27.ipynb  MSFT_train.csv\r\n"
     ]
    }
   ],
   "source": [
    "!ls /home/bitai/proj_my/Applied-Deep-Learning-with-Keras/Lesson09"
   ]
  },
  {
   "cell_type": "code",
   "execution_count": 14,
   "metadata": {},
   "outputs": [
    {
     "data": {
      "text/html": [
       "<div>\n",
       "<style scoped>\n",
       "    .dataframe tbody tr th:only-of-type {\n",
       "        vertical-align: middle;\n",
       "    }\n",
       "\n",
       "    .dataframe tbody tr th {\n",
       "        vertical-align: top;\n",
       "    }\n",
       "\n",
       "    .dataframe thead th {\n",
       "        text-align: right;\n",
       "    }\n",
       "</style>\n",
       "<table border=\"1\" class=\"dataframe\">\n",
       "  <thead>\n",
       "    <tr style=\"text-align: right;\">\n",
       "      <th></th>\n",
       "      <th>Date</th>\n",
       "      <th>Open</th>\n",
       "      <th>High</th>\n",
       "      <th>Low</th>\n",
       "      <th>Close</th>\n",
       "      <th>Adj Close</th>\n",
       "      <th>Volume</th>\n",
       "    </tr>\n",
       "  </thead>\n",
       "  <tbody>\n",
       "    <tr>\n",
       "      <th>0</th>\n",
       "      <td>02-01-2014</td>\n",
       "      <td>79.382858</td>\n",
       "      <td>79.575714</td>\n",
       "      <td>78.860001</td>\n",
       "      <td>79.018570</td>\n",
       "      <td>66.964325</td>\n",
       "      <td>58671200</td>\n",
       "    </tr>\n",
       "    <tr>\n",
       "      <th>1</th>\n",
       "      <td>03-01-2014</td>\n",
       "      <td>78.980003</td>\n",
       "      <td>79.099998</td>\n",
       "      <td>77.204285</td>\n",
       "      <td>77.282860</td>\n",
       "      <td>65.493416</td>\n",
       "      <td>98116900</td>\n",
       "    </tr>\n",
       "    <tr>\n",
       "      <th>2</th>\n",
       "      <td>06-01-2014</td>\n",
       "      <td>76.778572</td>\n",
       "      <td>78.114288</td>\n",
       "      <td>76.228569</td>\n",
       "      <td>77.704285</td>\n",
       "      <td>65.850533</td>\n",
       "      <td>103152700</td>\n",
       "    </tr>\n",
       "    <tr>\n",
       "      <th>3</th>\n",
       "      <td>07-01-2014</td>\n",
       "      <td>77.760002</td>\n",
       "      <td>77.994286</td>\n",
       "      <td>76.845711</td>\n",
       "      <td>77.148575</td>\n",
       "      <td>65.379593</td>\n",
       "      <td>79302300</td>\n",
       "    </tr>\n",
       "    <tr>\n",
       "      <th>4</th>\n",
       "      <td>08-01-2014</td>\n",
       "      <td>76.972855</td>\n",
       "      <td>77.937141</td>\n",
       "      <td>76.955711</td>\n",
       "      <td>77.637146</td>\n",
       "      <td>65.793633</td>\n",
       "      <td>64632400</td>\n",
       "    </tr>\n",
       "  </tbody>\n",
       "</table>\n",
       "</div>"
      ],
      "text/plain": [
       "         Date       Open       High        Low      Close  Adj Close  \\\n",
       "0  02-01-2014  79.382858  79.575714  78.860001  79.018570  66.964325   \n",
       "1  03-01-2014  78.980003  79.099998  77.204285  77.282860  65.493416   \n",
       "2  06-01-2014  76.778572  78.114288  76.228569  77.704285  65.850533   \n",
       "3  07-01-2014  77.760002  77.994286  76.845711  77.148575  65.379593   \n",
       "4  08-01-2014  76.972855  77.937141  76.955711  77.637146  65.793633   \n",
       "\n",
       "      Volume  \n",
       "0   58671200  \n",
       "1   98116900  \n",
       "2  103152700  \n",
       "3   79302300  \n",
       "4   64632400  "
      ]
     },
     "execution_count": 14,
     "metadata": {},
     "output_type": "execute_result"
    }
   ],
   "source": [
    "trainSet = pd.read_csv(\n",
    "    '/home/bitai/proj_my/Applied-Deep-Learning-with-Keras/Lesson09/AAPL_train.csv'\n",
    ")\n",
    "trainSet.head()"
   ]
  },
  {
   "cell_type": "code",
   "execution_count": 17,
   "metadata": {},
   "outputs": [
    {
     "data": {
      "text/plain": [
       "array([[ 79.382858],\n",
       "       [ 78.980003],\n",
       "       [ 76.778572],\n",
       "       ...,\n",
       "       [155.839996],\n",
       "       [157.5     ],\n",
       "       [158.529999]])"
      ]
     },
     "execution_count": 17,
     "metadata": {},
     "output_type": "execute_result"
    }
   ],
   "source": [
    "trainSetOpen = trainSet.iloc[:, 1:2].values\n",
    "trainSetOpen"
   ]
  },
  {
   "cell_type": "code",
   "execution_count": 18,
   "metadata": {},
   "outputs": [],
   "source": [
    "from sklearn.preprocessing import MinMaxScaler"
   ]
  },
  {
   "cell_type": "code",
   "execution_count": 19,
   "metadata": {},
   "outputs": [
    {
     "data": {
      "text/plain": [
       "array([[0.05400437],\n",
       "       [0.05148716],\n",
       "       [0.03773165],\n",
       "       ...,\n",
       "       [0.53174205],\n",
       "       [0.54211448],\n",
       "       [0.54855037]])"
      ]
     },
     "execution_count": 19,
     "metadata": {},
     "output_type": "execute_result"
    }
   ],
   "source": [
    "sc = MinMaxScaler(feature_range = (0, 1))\n",
    "trainSetScaled = sc.fit_transform(trainSetOpen)\n",
    "trainSetScaled"
   ]
  },
  {
   "cell_type": "code",
   "execution_count": 20,
   "metadata": {},
   "outputs": [],
   "source": [
    "X_train = []\n",
    "y_train = []\n",
    "\n",
    "for i in range(60, 1258):\n",
    "    X_train.append(trainSetScaled[i - 60:i, 0])\n",
    "    y_train.append(trainSetScaled[i, 0])\n",
    "    \n",
    "X_train, y_train = np.array(X_train), np.array(y_train)"
   ]
  },
  {
   "cell_type": "code",
   "execution_count": 21,
   "metadata": {
    "scrolled": true
   },
   "outputs": [
    {
     "data": {
      "text/plain": [
       "array([[[0.05400437],\n",
       "        [0.05148716],\n",
       "        [0.03773165],\n",
       "        ...,\n",
       "        [0.04582785],\n",
       "        [0.04002572],\n",
       "        [0.03850823]],\n",
       "\n",
       "       [[0.05148716],\n",
       "        [0.03773165],\n",
       "        [0.04386406],\n",
       "        ...,\n",
       "        [0.04002572],\n",
       "        [0.03850823],\n",
       "        [0.03932056]],\n",
       "\n",
       "       [[0.03773165],\n",
       "        [0.04386406],\n",
       "        [0.03894562],\n",
       "        ...,\n",
       "        [0.03850823],\n",
       "        [0.03932056],\n",
       "        [0.03800839]],\n",
       "\n",
       "       ...,\n",
       "\n",
       "       [[0.98231691],\n",
       "        [0.97794302],\n",
       "        [0.99543867],\n",
       "        ...,\n",
       "        [0.53811549],\n",
       "        [0.48369155],\n",
       "        [0.48462887]],\n",
       "\n",
       "       [[0.97794302],\n",
       "        [0.99543867],\n",
       "        [1.        ],\n",
       "        ...,\n",
       "        [0.48369155],\n",
       "        [0.48462887],\n",
       "        [0.53174205]],\n",
       "\n",
       "       [[0.99543867],\n",
       "        [1.        ],\n",
       "        [0.98237946],\n",
       "        ...,\n",
       "        [0.48462887],\n",
       "        [0.53174205],\n",
       "        [0.54211448]]])"
      ]
     },
     "execution_count": 21,
     "metadata": {},
     "output_type": "execute_result"
    }
   ],
   "source": [
    "X_train = np.reshape(\n",
    "    X_train, \n",
    "    (X_train.shape[0], X_train.shape[1], 1)\n",
    ")\n",
    "X_train"
   ]
  },
  {
   "cell_type": "code",
   "execution_count": 22,
   "metadata": {},
   "outputs": [],
   "source": [
    "from keras.models import Sequential\n",
    "from keras.layers import Dense, LSTM, Dropout"
   ]
  },
  {
   "cell_type": "code",
   "execution_count": 23,
   "metadata": {},
   "outputs": [],
   "source": [
    "model = Sequential()\n",
    "\n",
    "model.add(\n",
    "    LSTM(\n",
    "        50, return_sequences = True,\n",
    "        input_shape = (X_train.shape[1], 1)\n",
    "    )\n",
    ")\n",
    "model.add(\n",
    "    LSTM(50, return_sequences = True)\n",
    ")\n",
    "model.add(\n",
    "    LSTM(50, return_sequences = True)\n",
    ")\n",
    "model.add(LSTM(50))\n",
    "model.add(Dense(1))"
   ]
  },
  {
   "cell_type": "code",
   "execution_count": 29,
   "metadata": {
    "scrolled": true
   },
   "outputs": [
    {
     "name": "stdout",
     "output_type": "stream",
     "text": [
      "WARNING:tensorflow:From /home/bitai/anaconda3/lib/python3.7/site-packages/keras/optimizers.py:793: The name tf.train.Optimizer is deprecated. Please use tf.compat.v1.train.Optimizer instead.\n",
      "\n",
      "WARNING:tensorflow:From /home/bitai/anaconda3/lib/python3.7/site-packages/tensorflow/python/ops/math_grad.py:1250: add_dispatch_support.<locals>.wrapper (from tensorflow.python.ops.array_ops) is deprecated and will be removed in a future version.\n",
      "Instructions for updating:\n",
      "Use tf.where in 2.0, which has the same broadcast rule as np.where\n",
      "Epoch 1/100\n",
      "1198/1198 [==============================] - 5s 4ms/step - loss: 0.0337\n",
      "Epoch 2/100\n",
      "1198/1198 [==============================] - 3s 2ms/step - loss: 0.0023\n",
      "Epoch 3/100\n",
      "1198/1198 [==============================] - 3s 2ms/step - loss: 0.0020\n",
      "Epoch 4/100\n",
      "1198/1198 [==============================] - 3s 2ms/step - loss: 0.0019\n",
      "Epoch 5/100\n",
      "1198/1198 [==============================] - 3s 2ms/step - loss: 0.0016\n",
      "Epoch 6/100\n",
      "1198/1198 [==============================] - 3s 2ms/step - loss: 0.0016\n",
      "Epoch 7/100\n",
      "1198/1198 [==============================] - 3s 2ms/step - loss: 0.0015\n",
      "Epoch 8/100\n",
      "1198/1198 [==============================] - 3s 2ms/step - loss: 0.0014\n",
      "Epoch 9/100\n",
      "1198/1198 [==============================] - 3s 2ms/step - loss: 0.0013\n",
      "Epoch 10/100\n",
      "1198/1198 [==============================] - 3s 2ms/step - loss: 0.0011\n",
      "Epoch 11/100\n",
      "1198/1198 [==============================] - 3s 2ms/step - loss: 0.0015\n",
      "Epoch 12/100\n",
      "1198/1198 [==============================] - 3s 2ms/step - loss: 0.0013\n",
      "Epoch 13/100\n",
      "1198/1198 [==============================] - 3s 2ms/step - loss: 0.0011\n",
      "Epoch 14/100\n",
      "1198/1198 [==============================] - 3s 2ms/step - loss: 0.0011\n",
      "Epoch 15/100\n",
      "1198/1198 [==============================] - 3s 2ms/step - loss: 9.8226e-04\n",
      "Epoch 16/100\n",
      "1198/1198 [==============================] - 3s 2ms/step - loss: 0.0011\n",
      "Epoch 17/100\n",
      "1198/1198 [==============================] - 3s 2ms/step - loss: 0.0010\n",
      "Epoch 18/100\n",
      "1198/1198 [==============================] - 3s 2ms/step - loss: 9.0302e-04\n",
      "Epoch 19/100\n",
      "1198/1198 [==============================] - 3s 2ms/step - loss: 0.0011\n",
      "Epoch 20/100\n",
      "1198/1198 [==============================] - 3s 2ms/step - loss: 0.0011\n",
      "Epoch 21/100\n",
      "1198/1198 [==============================] - 3s 2ms/step - loss: 8.2248e-04\n",
      "Epoch 22/100\n",
      "1198/1198 [==============================] - 3s 2ms/step - loss: 0.0014\n",
      "Epoch 23/100\n",
      "1198/1198 [==============================] - 3s 2ms/step - loss: 8.2874e-04\n",
      "Epoch 24/100\n",
      "1198/1198 [==============================] - 3s 2ms/step - loss: 8.2359e-04\n",
      "Epoch 25/100\n",
      "1198/1198 [==============================] - 3s 2ms/step - loss: 7.1826e-04\n",
      "Epoch 26/100\n",
      "1198/1198 [==============================] - 3s 2ms/step - loss: 7.0421e-04\n",
      "Epoch 27/100\n",
      "1198/1198 [==============================] - 3s 2ms/step - loss: 6.5974e-04\n",
      "Epoch 28/100\n",
      "1198/1198 [==============================] - 3s 2ms/step - loss: 7.7091e-04\n",
      "Epoch 29/100\n",
      "1198/1198 [==============================] - 3s 2ms/step - loss: 6.3829e-04\n",
      "Epoch 30/100\n",
      "1198/1198 [==============================] - 3s 2ms/step - loss: 5.9999e-04\n",
      "Epoch 31/100\n",
      "1198/1198 [==============================] - 3s 2ms/step - loss: 5.4811e-04\n",
      "Epoch 32/100\n",
      "1198/1198 [==============================] - 3s 2ms/step - loss: 6.2210e-04\n",
      "Epoch 33/100\n",
      "1198/1198 [==============================] - 3s 2ms/step - loss: 4.9320e-04\n",
      "Epoch 34/100\n",
      "1198/1198 [==============================] - 3s 2ms/step - loss: 4.7549e-04\n",
      "Epoch 35/100\n",
      "1198/1198 [==============================] - 3s 2ms/step - loss: 5.1935e-04\n",
      "Epoch 36/100\n",
      "1198/1198 [==============================] - 3s 2ms/step - loss: 6.2853e-04\n",
      "Epoch 37/100\n",
      "1198/1198 [==============================] - 3s 2ms/step - loss: 4.6262e-04\n",
      "Epoch 38/100\n",
      "1198/1198 [==============================] - 3s 2ms/step - loss: 4.6321e-04\n",
      "Epoch 39/100\n",
      "1198/1198 [==============================] - 3s 2ms/step - loss: 4.7256e-04\n",
      "Epoch 40/100\n",
      "1198/1198 [==============================] - 3s 2ms/step - loss: 4.6178e-04\n",
      "Epoch 41/100\n",
      "1198/1198 [==============================] - 3s 2ms/step - loss: 5.2645e-04\n",
      "Epoch 42/100\n",
      "1198/1198 [==============================] - 3s 2ms/step - loss: 4.0404e-04\n",
      "Epoch 43/100\n",
      "1198/1198 [==============================] - 3s 2ms/step - loss: 4.1846e-04\n",
      "Epoch 44/100\n",
      "1198/1198 [==============================] - 3s 2ms/step - loss: 3.7549e-04\n",
      "Epoch 45/100\n",
      "1198/1198 [==============================] - 3s 2ms/step - loss: 3.8501e-04\n",
      "Epoch 46/100\n",
      "1198/1198 [==============================] - 3s 2ms/step - loss: 3.9659e-04\n",
      "Epoch 47/100\n",
      "1198/1198 [==============================] - 3s 2ms/step - loss: 3.3737e-04\n",
      "Epoch 48/100\n",
      "1198/1198 [==============================] - 3s 2ms/step - loss: 3.2898e-04\n",
      "Epoch 49/100\n",
      "1198/1198 [==============================] - 3s 2ms/step - loss: 3.4711e-04\n",
      "Epoch 50/100\n",
      "1198/1198 [==============================] - 3s 2ms/step - loss: 3.3644e-04\n",
      "Epoch 51/100\n",
      "1198/1198 [==============================] - 3s 2ms/step - loss: 2.9949e-04\n",
      "Epoch 52/100\n",
      "1198/1198 [==============================] - 3s 2ms/step - loss: 3.7175e-04\n",
      "Epoch 53/100\n",
      "1198/1198 [==============================] - 3s 2ms/step - loss: 3.2605e-04\n",
      "Epoch 54/100\n",
      "1198/1198 [==============================] - 3s 2ms/step - loss: 3.0455e-04\n",
      "Epoch 55/100\n",
      "1198/1198 [==============================] - 3s 2ms/step - loss: 2.8593e-04\n",
      "Epoch 56/100\n",
      "1198/1198 [==============================] - 3s 2ms/step - loss: 4.1253e-04\n",
      "Epoch 57/100\n",
      "1198/1198 [==============================] - 3s 2ms/step - loss: 3.4965e-04\n",
      "Epoch 58/100\n",
      "1198/1198 [==============================] - 3s 2ms/step - loss: 2.8969e-04\n",
      "Epoch 59/100\n",
      "1198/1198 [==============================] - 3s 2ms/step - loss: 3.1607e-04\n",
      "Epoch 60/100\n",
      "1198/1198 [==============================] - 3s 2ms/step - loss: 2.8390e-04\n",
      "Epoch 61/100\n",
      "1198/1198 [==============================] - 3s 2ms/step - loss: 3.3851e-04\n",
      "Epoch 62/100\n",
      "1198/1198 [==============================] - 3s 2ms/step - loss: 3.4422e-04\n",
      "Epoch 63/100\n",
      "1198/1198 [==============================] - 3s 2ms/step - loss: 3.4282e-04\n",
      "Epoch 64/100\n",
      "1198/1198 [==============================] - 3s 2ms/step - loss: 3.0776e-04\n",
      "Epoch 65/100\n",
      "1198/1198 [==============================] - 3s 2ms/step - loss: 3.6029e-04\n",
      "Epoch 66/100\n",
      "1198/1198 [==============================] - 3s 2ms/step - loss: 3.6086e-04\n",
      "Epoch 67/100\n",
      "1198/1198 [==============================] - 3s 2ms/step - loss: 3.5174e-04\n",
      "Epoch 68/100\n",
      "1198/1198 [==============================] - 3s 2ms/step - loss: 2.6764e-04\n",
      "Epoch 69/100\n",
      "1198/1198 [==============================] - 3s 2ms/step - loss: 2.7241e-04\n",
      "Epoch 70/100\n",
      "1198/1198 [==============================] - 3s 2ms/step - loss: 3.1921e-04\n",
      "Epoch 71/100\n",
      "1198/1198 [==============================] - 3s 2ms/step - loss: 3.5203e-04\n",
      "Epoch 72/100\n",
      "1198/1198 [==============================] - 3s 2ms/step - loss: 2.4849e-04\n",
      "Epoch 73/100\n",
      "1198/1198 [==============================] - 3s 3ms/step - loss: 2.7562e-04\n",
      "Epoch 74/100\n",
      "1198/1198 [==============================] - 4s 4ms/step - loss: 2.4841e-04\n",
      "Epoch 75/100\n",
      "1198/1198 [==============================] - 4s 3ms/step - loss: 2.6301e-04\n",
      "Epoch 76/100\n",
      "1198/1198 [==============================] - 3s 2ms/step - loss: 2.8735e-04\n",
      "Epoch 77/100\n",
      "1198/1198 [==============================] - 3s 2ms/step - loss: 2.5466e-04\n",
      "Epoch 78/100\n",
      "1198/1198 [==============================] - 3s 2ms/step - loss: 2.7079e-04\n",
      "Epoch 79/100\n",
      "1198/1198 [==============================] - 3s 2ms/step - loss: 2.5335e-04\n",
      "Epoch 80/100\n",
      "1198/1198 [==============================] - 3s 2ms/step - loss: 2.5988e-04\n",
      "Epoch 81/100\n",
      "1198/1198 [==============================] - 3s 2ms/step - loss: 3.2387e-04\n",
      "Epoch 82/100\n",
      "1198/1198 [==============================] - 3s 2ms/step - loss: 2.8428e-04\n",
      "Epoch 83/100\n",
      "1198/1198 [==============================] - 3s 2ms/step - loss: 3.4566e-04\n",
      "Epoch 84/100\n",
      "1198/1198 [==============================] - 3s 2ms/step - loss: 2.4923e-04\n",
      "Epoch 85/100\n",
      "1198/1198 [==============================] - 3s 2ms/step - loss: 2.6010e-04\n",
      "Epoch 86/100\n",
      "1198/1198 [==============================] - 3s 2ms/step - loss: 2.3388e-04\n",
      "Epoch 87/100\n",
      "1198/1198 [==============================] - 3s 2ms/step - loss: 2.7977e-04\n",
      "Epoch 88/100\n"
     ]
    },
    {
     "name": "stdout",
     "output_type": "stream",
     "text": [
      "1198/1198 [==============================] - 3s 2ms/step - loss: 2.7129e-04\n",
      "Epoch 89/100\n",
      "1198/1198 [==============================] - 3s 2ms/step - loss: 2.5616e-04\n",
      "Epoch 90/100\n",
      "1198/1198 [==============================] - 3s 2ms/step - loss: 2.6671e-04\n",
      "Epoch 91/100\n",
      "1198/1198 [==============================] - 3s 2ms/step - loss: 2.5982e-04\n",
      "Epoch 92/100\n",
      "1198/1198 [==============================] - 3s 2ms/step - loss: 2.4381e-04\n",
      "Epoch 93/100\n",
      "1198/1198 [==============================] - 3s 2ms/step - loss: 2.7369e-04\n",
      "Epoch 94/100\n",
      "1198/1198 [==============================] - 3s 2ms/step - loss: 2.9198e-04\n",
      "Epoch 95/100\n",
      "1198/1198 [==============================] - 3s 2ms/step - loss: 2.6699e-04\n",
      "Epoch 96/100\n",
      "1198/1198 [==============================] - 3s 2ms/step - loss: 2.5656e-04\n",
      "Epoch 97/100\n",
      "1198/1198 [==============================] - 3s 2ms/step - loss: 2.3945e-04\n",
      "Epoch 98/100\n",
      "1198/1198 [==============================] - 3s 2ms/step - loss: 2.4009e-04\n",
      "Epoch 99/100\n",
      "1198/1198 [==============================] - 3s 2ms/step - loss: 3.4948e-04\n",
      "Epoch 100/100\n",
      "1198/1198 [==============================] - 3s 2ms/step - loss: 2.6460e-04\n"
     ]
    },
    {
     "data": {
      "text/plain": [
       "<keras.callbacks.History at 0x7fbebeb6c990>"
      ]
     },
     "execution_count": 29,
     "metadata": {},
     "output_type": "execute_result"
    }
   ],
   "source": [
    "model.compile(\n",
    "    optimizer = 'adam',\n",
    "    loss = 'mean_squared_error'\n",
    ")\n",
    "model.fit(\n",
    "    X_train, y_train, epochs = 100, batch_size = 32\n",
    ")"
   ]
  },
  {
   "cell_type": "code",
   "execution_count": 31,
   "metadata": {},
   "outputs": [
    {
     "data": {
      "text/html": [
       "<div>\n",
       "<style scoped>\n",
       "    .dataframe tbody tr th:only-of-type {\n",
       "        vertical-align: middle;\n",
       "    }\n",
       "\n",
       "    .dataframe tbody tr th {\n",
       "        vertical-align: top;\n",
       "    }\n",
       "\n",
       "    .dataframe thead th {\n",
       "        text-align: right;\n",
       "    }\n",
       "</style>\n",
       "<table border=\"1\" class=\"dataframe\">\n",
       "  <thead>\n",
       "    <tr style=\"text-align: right;\">\n",
       "      <th></th>\n",
       "      <th>Date</th>\n",
       "      <th>Open</th>\n",
       "      <th>High</th>\n",
       "      <th>Low</th>\n",
       "      <th>Close</th>\n",
       "      <th>Adj Close</th>\n",
       "      <th>Volume</th>\n",
       "    </tr>\n",
       "  </thead>\n",
       "  <tbody>\n",
       "    <tr>\n",
       "      <th>0</th>\n",
       "      <td>02-01-2019</td>\n",
       "      <td>154.889999</td>\n",
       "      <td>158.850006</td>\n",
       "      <td>154.229996</td>\n",
       "      <td>157.919998</td>\n",
       "      <td>157.245605</td>\n",
       "      <td>37039700</td>\n",
       "    </tr>\n",
       "    <tr>\n",
       "      <th>1</th>\n",
       "      <td>03-01-2019</td>\n",
       "      <td>143.979996</td>\n",
       "      <td>145.720001</td>\n",
       "      <td>142.000000</td>\n",
       "      <td>142.190002</td>\n",
       "      <td>141.582779</td>\n",
       "      <td>91244100</td>\n",
       "    </tr>\n",
       "    <tr>\n",
       "      <th>2</th>\n",
       "      <td>04-01-2019</td>\n",
       "      <td>144.529999</td>\n",
       "      <td>148.550003</td>\n",
       "      <td>143.800003</td>\n",
       "      <td>148.259995</td>\n",
       "      <td>147.626846</td>\n",
       "      <td>58607100</td>\n",
       "    </tr>\n",
       "    <tr>\n",
       "      <th>3</th>\n",
       "      <td>07-01-2019</td>\n",
       "      <td>148.699997</td>\n",
       "      <td>148.830002</td>\n",
       "      <td>145.899994</td>\n",
       "      <td>147.929993</td>\n",
       "      <td>147.298264</td>\n",
       "      <td>54777800</td>\n",
       "    </tr>\n",
       "    <tr>\n",
       "      <th>4</th>\n",
       "      <td>08-01-2019</td>\n",
       "      <td>149.559998</td>\n",
       "      <td>151.820007</td>\n",
       "      <td>148.520004</td>\n",
       "      <td>150.750000</td>\n",
       "      <td>150.106216</td>\n",
       "      <td>41025300</td>\n",
       "    </tr>\n",
       "  </tbody>\n",
       "</table>\n",
       "</div>"
      ],
      "text/plain": [
       "         Date        Open        High         Low       Close   Adj Close  \\\n",
       "0  02-01-2019  154.889999  158.850006  154.229996  157.919998  157.245605   \n",
       "1  03-01-2019  143.979996  145.720001  142.000000  142.190002  141.582779   \n",
       "2  04-01-2019  144.529999  148.550003  143.800003  148.259995  147.626846   \n",
       "3  07-01-2019  148.699997  148.830002  145.899994  147.929993  147.298264   \n",
       "4  08-01-2019  149.559998  151.820007  148.520004  150.750000  150.106216   \n",
       "\n",
       "     Volume  \n",
       "0  37039700  \n",
       "1  91244100  \n",
       "2  58607100  \n",
       "3  54777800  \n",
       "4  41025300  "
      ]
     },
     "execution_count": 31,
     "metadata": {},
     "output_type": "execute_result"
    }
   ],
   "source": [
    "# 딥러닝 + 스프링 + 백엔드 / 프로젝트의 가닥은 잡힌다.\n",
    "# AAPL_test 써야 하는데 AAPL_train 써서 이상한 데이터 나온듯함\n",
    "testSet = pd.read_csv(\n",
    "    '/home/bitai/proj_my/Applied-Deep-Learning-with-Keras/Lesson09/AAPL_test.csv'\n",
    ")\n",
    "testSet.head()"
   ]
  },
  {
   "cell_type": "code",
   "execution_count": 32,
   "metadata": {
    "scrolled": false
   },
   "outputs": [
    {
     "data": {
      "text/plain": [
       "array([[154.889999],\n",
       "       [143.979996],\n",
       "       [144.529999],\n",
       "       [148.699997],\n",
       "       [149.559998],\n",
       "       [151.289993],\n",
       "       [152.5     ],\n",
       "       [152.880005],\n",
       "       [150.850006],\n",
       "       [150.270004],\n",
       "       [153.080002],\n",
       "       [154.199997],\n",
       "       [157.5     ],\n",
       "       [156.410004],\n",
       "       [154.149994],\n",
       "       [154.110001],\n",
       "       [155.479996],\n",
       "       [155.789993],\n",
       "       [156.25    ],\n",
       "       [163.25    ],\n",
       "       [166.110001]])"
      ]
     },
     "execution_count": 32,
     "metadata": {},
     "output_type": "execute_result"
    }
   ],
   "source": [
    "actualStock = testSet.iloc[:, 1:2].values\n",
    "actualStock"
   ]
  },
  {
   "cell_type": "code",
   "execution_count": 23,
   "metadata": {},
   "outputs": [
    {
     "data": {
      "text/plain": [
       "0     154.889999\n",
       "1     143.979996\n",
       "2     144.529999\n",
       "3     148.699997\n",
       "4     149.559998\n",
       "5     151.289993\n",
       "6     152.500000\n",
       "7     152.880005\n",
       "8     150.850006\n",
       "9     150.270004\n",
       "10    153.080002\n",
       "11    154.199997\n",
       "12    157.500000\n",
       "13    156.410004\n",
       "14    154.149994\n",
       "15    154.110001\n",
       "16    155.479996\n",
       "17    155.789993\n",
       "18    156.250000\n",
       "19    163.250000\n",
       "20    166.110001\n",
       "Name: Open, dtype: float64"
      ]
     },
     "execution_count": 23,
     "metadata": {},
     "output_type": "execute_result"
    }
   ],
   "source": [
    "testSet['Open']"
   ]
  },
  {
   "cell_type": "code",
   "execution_count": 24,
   "metadata": {},
   "outputs": [
    {
     "data": {
      "text/plain": [
       "0        79.382858\n",
       "1        78.980003\n",
       "2        76.778572\n",
       "3        77.760002\n",
       "4        76.972855\n",
       "           ...    \n",
       "1253    148.149994\n",
       "1254    148.300003\n",
       "1255    155.839996\n",
       "1256    157.500000\n",
       "1257    158.529999\n",
       "Name: Open, Length: 1258, dtype: float64"
      ]
     },
     "execution_count": 24,
     "metadata": {},
     "output_type": "execute_result"
    }
   ],
   "source": [
    "trainSet['Open']"
   ]
  },
  {
   "cell_type": "code",
   "execution_count": 33,
   "metadata": {},
   "outputs": [],
   "source": [
    "total = pd.concat(\n",
    "    (trainSet['Open'], testSet['Open']),\n",
    "    axis = 0\n",
    ")"
   ]
  },
  {
   "cell_type": "code",
   "execution_count": 34,
   "metadata": {},
   "outputs": [],
   "source": [
    "inputs = total[len(total) - len(testSet) - 60:].values\n",
    "inputs = inputs.reshape(-1, 1)\n",
    "inputs = sc.transform(inputs)\n",
    "\n",
    "X_test = []\n",
    "for i in range(60, 81):\n",
    "    X_test.append(inputs[i - 60:i, 0])\n",
    "    \n",
    "X_test = np.array(X_test)\n",
    "X_test = np.reshape(\n",
    "    X_test,\n",
    "    (X_test.shape[0], X_test.shape[1], 1)\n",
    ")\n",
    "\n",
    "predicted_stock_price = model.predict(X_test)\n",
    "predicted_stock_price = sc.inverse_transform(predicted_stock_price)"
   ]
  },
  {
   "cell_type": "code",
   "execution_count": 37,
   "metadata": {},
   "outputs": [
    {
     "data": {
      "image/png": "[encoded data removed]",
      "text/plain": [
       "<Figure size 432x288 with 1 Axes>"
      ]
     },
     "metadata": {
      "needs_background": "light"
     },
     "output_type": "display_data"
    }
   ],
   "source": [
    "plt.plot(\n",
    "    actualStock,\n",
    "    color = 'green',\n",
    "    label = 'Real Apple Stock Price',\n",
    "    ls = '--'\n",
    ")\n",
    "plt.plot(\n",
    "    predicted_stock_price,\n",
    "    color = 'red',\n",
    "    label = 'Predicted Apple Stock Price',\n",
    "    ls = '-'\n",
    ")\n",
    "plt.title('Predicted Stock Price')\n",
    "plt.xlabel('Time in days')\n",
    "plt.ylabel('Real Stock Price')\n",
    "# plt.legend만 써도 됨?\n",
    "plt.legend\n",
    "plt.show()\n",
    "# IIR 필터의 특성이 나타나고 있음\n",
    "# 위상이 뒤틀린다."
   ]
  },
  {
   "cell_type": "code",
   "execution_count": null,
   "metadata": {},
   "outputs": [],
   "source": []
  },
  {
   "cell_type": "code",
   "execution_count": null,
   "metadata": {},
   "outputs": [],
   "source": [
    "# 1. 새로운 터미널을 킨다.\n",
    "# 2. pip uninstall -y keras\n",
    "# 3. pip uninstall -y tensorflow\n",
    "# 4. pip uninstall -y tensorflow-gpu\n",
    "# 5. rm -rf ~/.keras\n",
    "# 6. 새로 킨 터미널을 껏다가 다시 킨다.\n",
    "# 7. pip install tensorflow==1.14\n",
    "# 8. pip install keras==2.2.5\n",
    "# 9. 터미널을 다시 껏다가 킨다.\n",
    "# 10. jupyter notebook을 구동시킨다."
   ]
  },
  {
   "cell_type": "code",
   "execution_count": 40,
   "metadata": {},
   "outputs": [
    {
     "name": "stdout",
     "output_type": "stream",
     "text": [
      "\u001b[33mWARNING: Skipping tensorflow-gpu as it is not installed.\u001b[0m\r\n"
     ]
    }
   ],
   "source": [
    "!pip uninstall -y tensorflow-gpu"
   ]
  },
  {
   "cell_type": "code",
   "execution_count": null,
   "metadata": {},
   "outputs": [],
   "source": [
    "!pip install tensorflow==1.14"
   ]
  },
  {
   "cell_type": "code",
   "execution_count": 5,
   "metadata": {},
   "outputs": [],
   "source": [
    "from keras.applications.vgg16 import decode_predictions\n",
    "from keras.applications.vgg16 import preprocess_input\n",
    "from keras.applications.resnet50 import ResNet50\n",
    "from keras.preprocessing import image\n",
    "\n",
    "import numpy as np"
   ]
  },
  {
   "cell_type": "code",
   "execution_count": 6,
   "metadata": {},
   "outputs": [],
   "source": [
    "def prepare_img(img, target):\n",
    "    img = img.resize(target)\n",
    "    img = img_to_array(img)\n",
    "    img = np.extend_dims(img, axis = 0)\n",
    "    img = imagenet_utils.preprocess_input(img)\n",
    "    \n",
    "    return img"
   ]
  },
  {
   "cell_type": "code",
   "execution_count": 7,
   "metadata": {},
   "outputs": [],
   "source": [
    "resModel = None\n",
    "\n",
    "def load_model():\n",
    "    global resModel\n",
    "    resModel = ResNet50()"
   ]
  },
  {
   "cell_type": "code",
   "execution_count": 35,
   "metadata": {},
   "outputs": [
    {
     "name": "stdout",
     "output_type": "stream",
     "text": [
      "Found existing installation: Keras 2.4.3\n",
      "Uninstalling Keras-2.4.3:\n",
      "  Successfully uninstalled Keras-2.4.3\n"
     ]
    }
   ],
   "source": [
    "!pip uninstall -y keras"
   ]
  },
  {
   "cell_type": "code",
   "execution_count": 37,
   "metadata": {},
   "outputs": [
    {
     "name": "stdout",
     "output_type": "stream",
     "text": [
      "Collecting keras==2.2.5\n",
      "  Downloading Keras-2.2.5-py2.py3-none-any.whl (336 kB)\n",
      "\u001b[K     |████████████████████████████████| 336 kB 536 kB/s eta 0:00:01\n",
      "\u001b[?25hRequirement already satisfied: keras-preprocessing>=1.1.0 in /home/bitai/anaconda3/lib/python3.7/site-packages (from keras==2.2.5) (1.1.2)\n",
      "Requirement already satisfied: six>=1.9.0 in /home/bitai/anaconda3/lib/python3.7/site-packages (from keras==2.2.5) (1.14.0)\n",
      "Requirement already satisfied: pyyaml in /home/bitai/anaconda3/lib/python3.7/site-packages (from keras==2.2.5) (5.3)\n",
      "Collecting keras-applications>=1.0.8\n",
      "  Downloading Keras_Applications-1.0.8-py3-none-any.whl (50 kB)\n",
      "\u001b[K     |████████████████████████████████| 50 kB 1.2 MB/s  eta 0:00:01\n",
      "\u001b[?25hRequirement already satisfied: numpy>=1.9.1 in /home/bitai/anaconda3/lib/python3.7/site-packages (from keras==2.2.5) (1.18.1)\n",
      "Requirement already satisfied: scipy>=0.14 in /home/bitai/anaconda3/lib/python3.7/site-packages (from keras==2.2.5) (1.4.1)\n",
      "Requirement already satisfied: h5py in /home/bitai/anaconda3/lib/python3.7/site-packages (from keras==2.2.5) (2.10.0)\n",
      "Installing collected packages: keras-applications, keras\n",
      "Successfully installed keras-2.2.5 keras-applications-1.0.8\n"
     ]
    }
   ],
   "source": [
    "!pip install keras==2.2.5"
   ]
  },
  {
   "cell_type": "code",
   "execution_count": 38,
   "metadata": {},
   "outputs": [
    {
     "name": "stdout",
     "output_type": "stream",
     "text": [
      "Found existing installation: tensorflow 2.2.0\n",
      "Uninstalling tensorflow-2.2.0:\n",
      "  Successfully uninstalled tensorflow-2.2.0\n"
     ]
    }
   ],
   "source": [
    "!pip uninstall -y tensorflow"
   ]
  },
  {
   "cell_type": "code",
   "execution_count": 39,
   "metadata": {
    "scrolled": true
   },
   "outputs": [
    {
     "name": "stdout",
     "output_type": "stream",
     "text": [
      "Collecting tensorflow==1.14\n",
      "  Downloading tensorflow-1.14.0-cp37-cp37m-manylinux1_x86_64.whl (109.3 MB)\n",
      "\u001b[K     |████████████████████████████████| 109.3 MB 47 kB/s  eta 0:00:01\n",
      "\u001b[?25hRequirement already satisfied: absl-py>=0.7.0 in /home/bitai/anaconda3/lib/python3.7/site-packages (from tensorflow==1.14) (0.9.0)\n",
      "Collecting astor>=0.6.0\n",
      "  Downloading astor-0.8.1-py2.py3-none-any.whl (27 kB)\n",
      "Requirement already satisfied: keras-preprocessing>=1.0.5 in /home/bitai/anaconda3/lib/python3.7/site-packages (from tensorflow==1.14) (1.1.2)\n",
      "Requirement already satisfied: termcolor>=1.1.0 in /home/bitai/anaconda3/lib/python3.7/site-packages (from tensorflow==1.14) (1.1.0)\n",
      "Requirement already satisfied: wrapt>=1.11.1 in /home/bitai/anaconda3/lib/python3.7/site-packages (from tensorflow==1.14) (1.11.2)\n",
      "Requirement already satisfied: numpy<2.0,>=1.14.5 in /home/bitai/anaconda3/lib/python3.7/site-packages (from tensorflow==1.14) (1.18.1)\n",
      "Requirement already satisfied: wheel>=0.26 in /home/bitai/anaconda3/lib/python3.7/site-packages (from tensorflow==1.14) (0.34.2)\n",
      "Requirement already satisfied: gast>=0.2.0 in /home/bitai/anaconda3/lib/python3.7/site-packages (from tensorflow==1.14) (0.3.3)\n",
      "Collecting tensorboard<1.15.0,>=1.14.0\n",
      "  Downloading tensorboard-1.14.0-py3-none-any.whl (3.1 MB)\n",
      "\u001b[K     |████████████████████████████████| 3.1 MB 6.6 MB/s eta 0:00:01\n",
      "\u001b[?25hRequirement already satisfied: grpcio>=1.8.6 in /home/bitai/anaconda3/lib/python3.7/site-packages (from tensorflow==1.14) (1.30.0)\n",
      "Requirement already satisfied: keras-applications>=1.0.6 in /home/bitai/anaconda3/lib/python3.7/site-packages (from tensorflow==1.14) (1.0.8)\n",
      "Requirement already satisfied: six>=1.10.0 in /home/bitai/anaconda3/lib/python3.7/site-packages (from tensorflow==1.14) (1.14.0)\n",
      "Requirement already satisfied: protobuf>=3.6.1 in /home/bitai/anaconda3/lib/python3.7/site-packages (from tensorflow==1.14) (3.12.2)\n",
      "Requirement already satisfied: google-pasta>=0.1.6 in /home/bitai/anaconda3/lib/python3.7/site-packages (from tensorflow==1.14) (0.2.0)\n",
      "Collecting tensorflow-estimator<1.15.0rc0,>=1.14.0rc0\n",
      "  Downloading tensorflow_estimator-1.14.0-py2.py3-none-any.whl (488 kB)\n",
      "\u001b[K     |████████████████████████████████| 488 kB 8.1 MB/s eta 0:00:01\n",
      "\u001b[?25hRequirement already satisfied: werkzeug>=0.11.15 in /home/bitai/anaconda3/lib/python3.7/site-packages (from tensorboard<1.15.0,>=1.14.0->tensorflow==1.14) (1.0.0)\n",
      "Requirement already satisfied: markdown>=2.6.8 in /home/bitai/anaconda3/lib/python3.7/site-packages (from tensorboard<1.15.0,>=1.14.0->tensorflow==1.14) (3.2.2)\n",
      "Requirement already satisfied: setuptools>=41.0.0 in /home/bitai/anaconda3/lib/python3.7/site-packages (from tensorboard<1.15.0,>=1.14.0->tensorflow==1.14) (45.2.0.post20200210)\n",
      "Requirement already satisfied: h5py in /home/bitai/anaconda3/lib/python3.7/site-packages (from keras-applications>=1.0.6->tensorflow==1.14) (2.10.0)\n",
      "Requirement already satisfied: importlib-metadata; python_version < \"3.8\" in /home/bitai/anaconda3/lib/python3.7/site-packages (from markdown>=2.6.8->tensorboard<1.15.0,>=1.14.0->tensorflow==1.14) (1.5.0)\n",
      "Requirement already satisfied: zipp>=0.5 in /home/bitai/anaconda3/lib/python3.7/site-packages (from importlib-metadata; python_version < \"3.8\"->markdown>=2.6.8->tensorboard<1.15.0,>=1.14.0->tensorflow==1.14) (2.2.0)\n",
      "\u001b[31mERROR: tensorflow-gpu 2.2.0 has requirement tensorboard<2.3.0,>=2.2.0, but you'll have tensorboard 1.14.0 which is incompatible.\u001b[0m\n",
      "\u001b[31mERROR: tensorflow-gpu 2.2.0 has requirement tensorflow-estimator<2.3.0,>=2.2.0, but you'll have tensorflow-estimator 1.14.0 which is incompatible.\u001b[0m\n",
      "Installing collected packages: astor, tensorboard, tensorflow-estimator, tensorflow\n",
      "  Attempting uninstall: tensorboard\n",
      "    Found existing installation: tensorboard 2.2.2\n",
      "    Uninstalling tensorboard-2.2.2:\n",
      "      Successfully uninstalled tensorboard-2.2.2\n",
      "  Attempting uninstall: tensorflow-estimator\n",
      "    Found existing installation: tensorflow-estimator 2.2.0\n",
      "    Uninstalling tensorflow-estimator-2.2.0:\n",
      "      Successfully uninstalled tensorflow-estimator-2.2.0\n",
      "Successfully installed astor-0.8.1 tensorboard-1.14.0 tensorflow-1.14.0 tensorflow-estimator-1.14.0\n"
     ]
    }
   ],
   "source": [
    "!pip install tensorflow==1.14"
   ]
  },
  {
   "cell_type": "code",
   "execution_count": 1,
   "metadata": {
    "scrolled": true
   },
   "outputs": [
    {
     "name": "stderr",
     "output_type": "stream",
     "text": [
      "Using TensorFlow backend.\n",
      "/home/bitai/anaconda3/lib/python3.7/site-packages/tensorflow/python/framework/dtypes.py:516: FutureWarning: Passing (type, 1) or '1type' as a synonym of type is deprecated; in a future version of numpy, it will be understood as (type, (1,)) / '(1,)type'.\n",
      "  _np_qint8 = np.dtype([(\"qint8\", np.int8, 1)])\n",
      "/home/bitai/anaconda3/lib/python3.7/site-packages/tensorflow/python/framework/dtypes.py:517: FutureWarning: Passing (type, 1) or '1type' as a synonym of type is deprecated; in a future version of numpy, it will be understood as (type, (1,)) / '(1,)type'.\n",
      "  _np_quint8 = np.dtype([(\"quint8\", np.uint8, 1)])\n",
      "/home/bitai/anaconda3/lib/python3.7/site-packages/tensorflow/python/framework/dtypes.py:518: FutureWarning: Passing (type, 1) or '1type' as a synonym of type is deprecated; in a future version of numpy, it will be understood as (type, (1,)) / '(1,)type'.\n",
      "  _np_qint16 = np.dtype([(\"qint16\", np.int16, 1)])\n",
      "/home/bitai/anaconda3/lib/python3.7/site-packages/tensorflow/python/framework/dtypes.py:519: FutureWarning: Passing (type, 1) or '1type' as a synonym of type is deprecated; in a future version of numpy, it will be understood as (type, (1,)) / '(1,)type'.\n",
      "  _np_quint16 = np.dtype([(\"quint16\", np.uint16, 1)])\n",
      "/home/bitai/anaconda3/lib/python3.7/site-packages/tensorflow/python/framework/dtypes.py:520: FutureWarning: Passing (type, 1) or '1type' as a synonym of type is deprecated; in a future version of numpy, it will be understood as (type, (1,)) / '(1,)type'.\n",
      "  _np_qint32 = np.dtype([(\"qint32\", np.int32, 1)])\n",
      "/home/bitai/anaconda3/lib/python3.7/site-packages/tensorflow/python/framework/dtypes.py:525: FutureWarning: Passing (type, 1) or '1type' as a synonym of type is deprecated; in a future version of numpy, it will be understood as (type, (1,)) / '(1,)type'.\n",
      "  np_resource = np.dtype([(\"resource\", np.ubyte, 1)])\n"
     ]
    },
    {
     "name": "stdout",
     "output_type": "stream",
     "text": [
      "1.14.0\n"
     ]
    },
    {
     "name": "stderr",
     "output_type": "stream",
     "text": [
      "/home/bitai/anaconda3/lib/python3.7/site-packages/tensorboard/compat/tensorflow_stub/dtypes.py:541: FutureWarning: Passing (type, 1) or '1type' as a synonym of type is deprecated; in a future version of numpy, it will be understood as (type, (1,)) / '(1,)type'.\n",
      "  _np_qint8 = np.dtype([(\"qint8\", np.int8, 1)])\n",
      "/home/bitai/anaconda3/lib/python3.7/site-packages/tensorboard/compat/tensorflow_stub/dtypes.py:542: FutureWarning: Passing (type, 1) or '1type' as a synonym of type is deprecated; in a future version of numpy, it will be understood as (type, (1,)) / '(1,)type'.\n",
      "  _np_quint8 = np.dtype([(\"quint8\", np.uint8, 1)])\n",
      "/home/bitai/anaconda3/lib/python3.7/site-packages/tensorboard/compat/tensorflow_stub/dtypes.py:543: FutureWarning: Passing (type, 1) or '1type' as a synonym of type is deprecated; in a future version of numpy, it will be understood as (type, (1,)) / '(1,)type'.\n",
      "  _np_qint16 = np.dtype([(\"qint16\", np.int16, 1)])\n",
      "/home/bitai/anaconda3/lib/python3.7/site-packages/tensorboard/compat/tensorflow_stub/dtypes.py:544: FutureWarning: Passing (type, 1) or '1type' as a synonym of type is deprecated; in a future version of numpy, it will be understood as (type, (1,)) / '(1,)type'.\n",
      "  _np_quint16 = np.dtype([(\"quint16\", np.uint16, 1)])\n",
      "/home/bitai/anaconda3/lib/python3.7/site-packages/tensorboard/compat/tensorflow_stub/dtypes.py:545: FutureWarning: Passing (type, 1) or '1type' as a synonym of type is deprecated; in a future version of numpy, it will be understood as (type, (1,)) / '(1,)type'.\n",
      "  _np_qint32 = np.dtype([(\"qint32\", np.int32, 1)])\n",
      "/home/bitai/anaconda3/lib/python3.7/site-packages/tensorboard/compat/tensorflow_stub/dtypes.py:550: FutureWarning: Passing (type, 1) or '1type' as a synonym of type is deprecated; in a future version of numpy, it will be understood as (type, (1,)) / '(1,)type'.\n",
      "  np_resource = np.dtype([(\"resource\", np.ubyte, 1)])\n"
     ]
    }
   ],
   "source": [
    "import keras.backend.tensorflow_backend as tb\n",
    "import tensorflow as tf\n",
    "\n",
    "global graph, model\n",
    "graph = tf.get_default_graph()\n",
    "\n",
    "print(tf.__version__)"
   ]
  },
  {
   "cell_type": "code",
   "execution_count": 2,
   "metadata": {},
   "outputs": [],
   "source": [
    "from flask import Flask, request, jsonify\n",
    "from werkzeug.utils import secure_filename"
   ]
  },
  {
   "cell_type": "code",
   "execution_count": 10,
   "metadata": {
    "scrolled": true
   },
   "outputs": [
    {
     "name": "stdout",
     "output_type": "stream",
     "text": [
      " * Serving Flask app \"__main__\" (lazy loading)\n",
      " * Environment: production\n",
      "   WARNING: This is a development server. Do not use it in a production deployment.\n",
      "   Use a production WSGI server instead.\n",
      " * Debug mode: off\n"
     ]
    },
    {
     "name": "stderr",
     "output_type": "stream",
     "text": [
      " * Running on http://127.0.0.1:5000/ (Press CTRL+C to quit)\n",
      "127.0.0.1 - - [20/Jul/2020 15:05:46] \"\u001b[33mGET / HTTP/1.1\u001b[0m\" 404 -\n",
      "127.0.0.1 - - [20/Jul/2020 15:05:46] \"\u001b[33mGET /favicon.ico HTTP/1.1\u001b[0m\" 404 -\n",
      "127.0.0.1 - - [20/Jul/2020 15:06:15] \"\u001b[31m\u001b[1mPOST /imgServer HTTP/1.1\u001b[0m\" 400 -\n"
     ]
    },
    {
     "name": "stdout",
     "output_type": "stream",
     "text": [
      "POST\n"
     ]
    },
    {
     "name": "stderr",
     "output_type": "stream",
     "text": [
      "127.0.0.1 - - [20/Jul/2020 15:06:17] \"\u001b[31m\u001b[1mPOST /imgServer HTTP/1.1\u001b[0m\" 400 -\n"
     ]
    },
    {
     "name": "stdout",
     "output_type": "stream",
     "text": [
      "POST\n"
     ]
    },
    {
     "name": "stderr",
     "output_type": "stream",
     "text": [
      "127.0.0.1 - - [20/Jul/2020 15:06:19] \"\u001b[31m\u001b[1mPOST /imgServer HTTP/1.1\u001b[0m\" 400 -\n"
     ]
    },
    {
     "name": "stdout",
     "output_type": "stream",
     "text": [
      "POST\n"
     ]
    },
    {
     "name": "stderr",
     "output_type": "stream",
     "text": [
      "127.0.0.1 - - [20/Jul/2020 15:06:20] \"\u001b[31m\u001b[1mPOST /imgServer HTTP/1.1\u001b[0m\" 400 -\n"
     ]
    },
    {
     "name": "stdout",
     "output_type": "stream",
     "text": [
      "POST\n"
     ]
    },
    {
     "name": "stderr",
     "output_type": "stream",
     "text": [
      "127.0.0.1 - - [20/Jul/2020 15:06:52] \"\u001b[31m\u001b[1mPOST /imgServer HTTP/1.1\u001b[0m\" 400 -\n"
     ]
    },
    {
     "name": "stdout",
     "output_type": "stream",
     "text": [
      "POST\n"
     ]
    },
    {
     "name": "stderr",
     "output_type": "stream",
     "text": [
      "127.0.0.1 - - [20/Jul/2020 15:07:13] \"\u001b[31m\u001b[1mPOST /imgServer HTTP/1.1\u001b[0m\" 400 -\n"
     ]
    },
    {
     "name": "stdout",
     "output_type": "stream",
     "text": [
      "POST\n"
     ]
    },
    {
     "name": "stderr",
     "output_type": "stream",
     "text": [
      "127.0.0.1 - - [20/Jul/2020 15:07:26] \"\u001b[31m\u001b[1mPOST /imgServer HTTP/1.1\u001b[0m\" 400 -\n"
     ]
    },
    {
     "name": "stdout",
     "output_type": "stream",
     "text": [
      "POST\n"
     ]
    },
    {
     "name": "stderr",
     "output_type": "stream",
     "text": [
      "127.0.0.1 - - [20/Jul/2020 15:09:45] \"\u001b[31m\u001b[1mPOST /imgServer HTTP/1.1\u001b[0m\" 400 -\n"
     ]
    },
    {
     "name": "stdout",
     "output_type": "stream",
     "text": [
      "POST\n"
     ]
    },
    {
     "name": "stderr",
     "output_type": "stream",
     "text": [
      "127.0.0.1 - - [20/Jul/2020 15:11:37] \"\u001b[31m\u001b[1mPOST /imgServer HTTP/1.1\u001b[0m\" 400 -\n"
     ]
    },
    {
     "name": "stdout",
     "output_type": "stream",
     "text": [
      "POST\n",
      "POST\n",
      "test_image_1.jpg\n",
      "(1, 224, 224, 3)\n",
      "Downloading data from https://storage.googleapis.com/download.tensorflow.org/data/imagenet_class_index.json\n",
      "40960/35363 [==================================] - 0s 0us/step\n"
     ]
    },
    {
     "name": "stderr",
     "output_type": "stream",
     "text": [
      "127.0.0.1 - - [20/Jul/2020 15:12:12] \"\u001b[37mPOST /imgServer HTTP/1.1\u001b[0m\" 200 -\n",
      "127.0.0.1 - - [20/Jul/2020 15:12:22] \"\u001b[37mPOST /imgServer HTTP/1.1\u001b[0m\" 200 -\n"
     ]
    },
    {
     "name": "stdout",
     "output_type": "stream",
     "text": [
      "POST\n",
      "test_image_1.jpg\n",
      "(1, 224, 224, 3)\n"
     ]
    },
    {
     "name": "stderr",
     "output_type": "stream",
     "text": [
      "127.0.0.1 - - [20/Jul/2020 16:02:23] \"\u001b[37mPOST /imgServer HTTP/1.1\u001b[0m\" 200 -\n"
     ]
    },
    {
     "name": "stdout",
     "output_type": "stream",
     "text": [
      "POST\n",
      "test_image_3.jpg\n",
      "(1, 224, 224, 3)\n"
     ]
    }
   ],
   "source": [
    "app = Flask(__name__)\n",
    "\n",
    "@app.route('/imgServer', methods = ['GET', 'POST'])\n",
    "def analysis_img():\n",
    "    data = {\"success\": False}\n",
    "    if request.method == 'POST':\n",
    "        print('POST')\n",
    "        file = request.files['file']\n",
    "        file = secure_filename(file.filename)\n",
    "        print(file)\n",
    "        \n",
    "        sea_img = image.load_img(\n",
    "            file, target_size = (224, 224)\n",
    "        )\n",
    "        \n",
    "        trans_img = image.img_to_array(sea_img)\n",
    "        trans_img = np.expand_dims(trans_img, axis = 0)\n",
    "        trans_img = preprocess_input(trans_img)\n",
    "        print(trans_img.shape)\n",
    "        \n",
    "        # with 써서 세션 열고 알아서 닫아줌\n",
    "        with graph.as_default():\n",
    "            pred = resModel.predict(trans_img)\n",
    "            \n",
    "        label = decode_predictions(pred)\n",
    "        data[\"predictions\"] = []\n",
    "        \n",
    "        for (imageNetID, label, prob) in label[0]:\n",
    "            r = {\n",
    "                \"label\": label,\n",
    "                \"probability\": float(prob)\n",
    "            }\n",
    "            data[\"predictions\"].append(r)\n",
    "            \n",
    "        data[\"success\"] = True\n",
    "  \n",
    "    return jsonify(data)\n",
    "\n",
    "if __name__ == \"__main__\":\n",
    "    load_model()\n",
    "    app.run()\n",
    "    "
   ]
  },
  {
   "cell_type": "code",
   "execution_count": null,
   "metadata": {},
   "outputs": [],
   "source": []
  }
 ],
 "metadata": {
  "kernelspec": {
   "display_name": "Python 3",
   "language": "python",
   "name": "python3"
  },
  "language_info": {
   "codemirror_mode": {
    "name": "ipython",
    "version": 3
   },
   "file_extension": ".py",
   "mimetype": "text/x-python",
   "name": "python",
   "nbconvert_exporter": "python",
   "pygments_lexer": "ipython3",
   "version": "3.7.6"
  }
 },
 "nbformat": 4,
 "nbformat_minor": 4
}
