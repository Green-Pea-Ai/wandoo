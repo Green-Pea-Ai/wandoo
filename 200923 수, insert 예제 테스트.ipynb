{
 "cells": [
  {
   "cell_type": "code",
   "execution_count": 2,
   "metadata": {},
   "outputs": [
    {
     "ename": "SyntaxError",
     "evalue": "invalid syntax (<ipython-input-2-ad9d2cd97e52>, line 1)",
     "output_type": "error",
     "traceback": [
      "\u001b[0;36m  File \u001b[0;32m\"<ipython-input-2-ad9d2cd97e52>\"\u001b[0;36m, line \u001b[0;32m1\u001b[0m\n\u001b[0;31m    pip3 install konlpy\u001b[0m\n\u001b[0m               ^\u001b[0m\n\u001b[0;31mSyntaxError\u001b[0m\u001b[0;31m:\u001b[0m invalid syntax\n"
     ]
    }
   ],
   "source": [
    "pip3 install konlpy"
   ]
  },
  {
   "cell_type": "code",
   "execution_count": null,
   "metadata": {},
   "outputs": [],
   "source": [
    "import time\n",
    "\n",
    "# 해시태그를 분석하기 위한 Twitter 모듈 \n",
    "from konlpy.tag import Twitter\n",
    "\n",
    "# 크롬 브라우저 조작을 위한 모듈\n",
    "from selenium import webdriver\n",
    "\n",
    "# 페이지 스크롤링을 위한 모듈\n",
    "from selenium.webdriver.common.keys import Keys\n",
    "\n",
    "# 크롤링할 url 주소\n",
    "url = \"https://www.instagram.com/explore/tags/python/\"\n",
    "\n",
    "# 다운로드 받은 driver 주소\n",
    "DRIVER_DIR = '/path/to/chromedriver'\n",
    "\n",
    "# 크롬 드라이버를 이용해 임의로 크롬 브라우저를 실행시켜 조작한다.\n",
    "driver = webdriver.Chrome(DRIVER_DIR)\n",
    "\n",
    "# 암묵적으로 웹 자원을 (최대) 5초 기다리기\n",
    "driver.implicitly_wait(5) \n",
    "\n",
    "# 크롬 브라우저가 실행되며 해당 url로 이동한다.\n",
    "driver.get(url)\n",
    "\n",
    "# 총 게시물 수를 클래스 이름으로 찾기\n",
    "totalCount = driver.find_element_by_class_name('_fd86t').text \n",
    "print(\"총 게시물:\", totalCount)\n",
    "\n",
    "# body 태그를 태그 이름으로 찾기\n",
    "elem = driver.find_element_by_tag_name(\"body\") \n",
    "\n",
    "# alt 속성의 값을 담을 빈 리스트 선언\n",
    "alt_list = [] \n",
    "\n",
    "# 페이지 스크롤을 위해 임시 변수 선언\n",
    "pagedowns = 1\n",
    "\n",
    "# 스크롤을 20번 진행한다.\n",
    "while pagedowns < 20:\n",
    "        # PAGE_DOWN(스크롤)에 따라서 결과 값이 달라진다. \n",
    "        # 기본적으로 브라우저 조작을 통해 값을 얻어올 때는 실제 브라우저에 보이는 부분이어야 요소를 찾거나 특정 이벤트를 발생시킬 수 있다.\n",
    "        elem.send_keys(Keys.PAGE_DOWN)\n",
    "        # 페이지 스크롤 타이밍을 맞추기 위해 sleep\n",
    "        time.sleep(1)\n",
    "        # 브라우저에 보이는 모든 img 태그를 css 선택자 문법으로 찾는다.\n",
    "        img = driver.find_elements_by_css_selector('div.KL4Bh > img')\n",
    "        # 위에서 선언한 alt_list 리스트에 alt 속성의 값을 할당한다.\n",
    "        for i in img:\n",
    "            alt_list.append(i.get_attribute('alt'))\n",
    "        pagedowns += 1\n",
    "\n",
    "# 값의 중복을 방지를 리스트 set으로 변환후 리스트로 재할당\n",
    "alt_list = list(set(alt_list))\n",
    "\n",
    "# 키:해시태그, 값:횟수 형식으로 저장하기 위한 빈 딕셔너리 선언\n",
    "dict_data = {}\n",
    "\n",
    "# alt 속성의 값인 제목과 해시태그 중 해시태그 만을 가져오기 위한 Tiwitter 객체 생성\n",
    "tw = Twitter()\n",
    "\n",
    "# alt_list에 담긴 값의 크기만큼 반복한다.\n",
    "for alt in alt_list:\n",
    "    \n",
    "    # pos 메서드를 통해 alt 속성의 모든 해시태그의 값을 (값, 품사) 형태의 튜플을 요소로 갖는 리스트로 반환한다.\n",
    "    temp = tw.pos(alt, norm = True)\n",
    "    \n",
    "    # 리스트의 크기만큼 반복한다.\n",
    "    for data in temp:\n",
    "        \n",
    "        # 품사가 만약 해시태그이면\n",
    "        if data[1] == \"Hashtag\":\n",
    "            \n",
    "            # 결과 값을 저장할 딕셔너리에 값이 있는지 확인하고 없다면 새로이 키를 추가하고 0, 있다면 기존 키에 1을 더해준다.\n",
    "            if not (data[0] in dict_data):\n",
    "                dict_data[data[0]] = 0\n",
    "            dict_data[data[0]] += 1\n",
    "\n",
    "# 딕셔너리를 횟수를 가지고 내림차순으로 정렬한다.\n",
    "keys = sorted(dict_data.items(), key = lambda x:x[1], reverse = True)\n",
    "\n",
    "# 1~15위 까지의 키:값을 출력한다.\n",
    "for k, v in keys[:15]:\n",
    "    print(\"{}({})\".format(k, v))\n",
    "\n",
    "# 드라이버를 종료한다.\n",
    "driver.close()     "
   ]
  },
  {
   "cell_type": "code",
   "execution_count": null,
   "metadata": {},
   "outputs": [],
   "source": []
  }
 ],
 "metadata": {
  "kernelspec": {
   "display_name": "Python 3",
   "language": "python",
   "name": "python3"
  },
  "language_info": {
   "codemirror_mode": {
    "name": "ipython",
    "version": 3
   },
   "file_extension": ".py",
   "mimetype": "text/x-python",
   "name": "python",
   "nbconvert_exporter": "python",
   "pygments_lexer": "ipython3",
   "version": "3.7.6"
  }
 },
 "nbformat": 4,
 "nbformat_minor": 4
}
