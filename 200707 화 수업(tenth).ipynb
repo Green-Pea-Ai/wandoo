{
 "cells": [
  {
   "cell_type": "code",
   "execution_count": 1,
   "metadata": {},
   "outputs": [
    {
     "name": "stdout",
     "output_type": "stream",
     "text": [
      "[ 1  2  3  4  5  6  7  8  9 10]\n"
     ]
    }
   ],
   "source": [
    "# 저자가 수학전공이라 고생스러운 방법으로 코딩을 했다.\n",
    "\n",
    "import numpy as np\n",
    "\n",
    "vec1 = np.array([1,2,3,4,5,6,7,8,9,10])\n",
    "print(vec1)"
   ]
  },
  {
   "cell_type": "code",
   "execution_count": 2,
   "metadata": {},
   "outputs": [
    {
     "name": "stdout",
     "output_type": "stream",
     "text": [
      "[ 1  2  3  4  5  6  7  8  9 10]\n"
     ]
    }
   ],
   "source": [
    "# 이렇게 쓰면 조금 더 간편하게 코딩 가능\n",
    "vec1 = np.arange(1, 11)\n",
    "\n",
    "print(vec1)"
   ]
  },
  {
   "cell_type": "code",
   "execution_count": 3,
   "metadata": {},
   "outputs": [
    {
     "name": "stdout",
     "output_type": "stream",
     "text": [
      "[[ 1  2  3]\n",
      " [ 4  5  6]\n",
      " [ 7  8  9]\n",
      " [10 11 12]]\n",
      "(4, 3)\n"
     ]
    }
   ],
   "source": [
    "mat1 = np.array([\n",
    "    [1, 2, 3],\n",
    "    [4, 5, 6],\n",
    "    [7, 8, 9],\n",
    "    [10,11,12]\n",
    "])\n",
    "\n",
    "print(mat1)\n",
    "print(mat1.shape)"
   ]
  },
  {
   "cell_type": "code",
   "execution_count": 4,
   "metadata": {},
   "outputs": [
    {
     "name": "stdout",
     "output_type": "stream",
     "text": [
      "[[ 1  2  3]\n",
      " [ 4  5  6]\n",
      " [ 7  8  9]\n",
      " [10 11 12]]\n",
      "(4, 3)\n"
     ]
    }
   ],
   "source": [
    "mat2 = np.matrix([\n",
    "    [1,   2,  3],\n",
    "    [4,   5,  6],\n",
    "    [7,   8,  9],\n",
    "    [10, 11, 12]\n",
    "])\n",
    "\n",
    "print(mat2)\n",
    "print(mat2.shape)"
   ]
  },
  {
   "cell_type": "code",
   "execution_count": 5,
   "metadata": {},
   "outputs": [
    {
     "name": "stdout",
     "output_type": "stream",
     "text": [
      "[[[ 1  2  3]\n",
      "  [ 4  5  6]]\n",
      "\n",
      " [[ 7  8  9]\n",
      "  [10 11 12]]]\n",
      "(2, 2, 3)\n"
     ]
    }
   ],
   "source": [
    "ten1 = np.array([\n",
    "    [\n",
    "        [ 1,  2,  3],\n",
    "        [ 4,  5,  6]\n",
    "    ],\n",
    "    [\n",
    "        [ 7,  8,  9],\n",
    "        [10, 11, 12]\n",
    "    ]\n",
    "])\n",
    "\n",
    "print(ten1)\n",
    "print(ten1.shape)"
   ]
  },
  {
   "cell_type": "code",
   "execution_count": 6,
   "metadata": {},
   "outputs": [
    {
     "name": "stdout",
     "output_type": "stream",
     "text": [
      "[[ 2  4  6]\n",
      " [ 8 10 12]\n",
      " [14 16 18]\n",
      " [20 22 24]]\n"
     ]
    }
   ],
   "source": [
    "mat3 = mat1 + mat2\n",
    "print(mat3)"
   ]
  },
  {
   "cell_type": "code",
   "execution_count": null,
   "metadata": {},
   "outputs": [],
   "source": []
  },
  {
   "cell_type": "code",
   "execution_count": 7,
   "metadata": {},
   "outputs": [
    {
     "ename": "ValueError",
     "evalue": "shapes (4,3) and (4,3) not aligned: 3 (dim 1) != 4 (dim 0)",
     "output_type": "error",
     "traceback": [
      "\u001b[0;31m---------------------------------------------------------------------------\u001b[0m",
      "\u001b[0;31mValueError\u001b[0m                                Traceback (most recent call last)",
      "\u001b[0;32m<ipython-input-7-fb9b72481401>\u001b[0m in \u001b[0;36m<module>\u001b[0;34m\u001b[0m\n\u001b[1;32m      1\u001b[0m \u001b[0;31m# 이미지도 행렬 연산과 관계있기 때문에\u001b[0m\u001b[0;34m\u001b[0m\u001b[0;34m\u001b[0m\u001b[0;34m\u001b[0m\u001b[0m\n\u001b[1;32m      2\u001b[0m \u001b[0;31m# 수학적 규칙을 지키지 않으면 오류를 뱉는다.\u001b[0m\u001b[0;34m\u001b[0m\u001b[0;34m\u001b[0m\u001b[0;34m\u001b[0m\u001b[0m\n\u001b[0;32m----> 3\u001b[0;31m \u001b[0mmat4\u001b[0m \u001b[0;34m=\u001b[0m \u001b[0mmat1\u001b[0m \u001b[0;34m*\u001b[0m \u001b[0mmat2\u001b[0m\u001b[0;34m\u001b[0m\u001b[0;34m\u001b[0m\u001b[0m\n\u001b[0m\u001b[1;32m      4\u001b[0m \u001b[0mprint\u001b[0m\u001b[0;34m(\u001b[0m\u001b[0mmat4\u001b[0m\u001b[0;34m)\u001b[0m\u001b[0;34m\u001b[0m\u001b[0;34m\u001b[0m\u001b[0m\n",
      "\u001b[0;32m~/anaconda3/lib/python3.7/site-packages/numpy/matrixlib/defmatrix.py\u001b[0m in \u001b[0;36m__rmul__\u001b[0;34m(self, other)\u001b[0m\n\u001b[1;32m    224\u001b[0m \u001b[0;34m\u001b[0m\u001b[0m\n\u001b[1;32m    225\u001b[0m     \u001b[0;32mdef\u001b[0m \u001b[0m__rmul__\u001b[0m\u001b[0;34m(\u001b[0m\u001b[0mself\u001b[0m\u001b[0;34m,\u001b[0m \u001b[0mother\u001b[0m\u001b[0;34m)\u001b[0m\u001b[0;34m:\u001b[0m\u001b[0;34m\u001b[0m\u001b[0;34m\u001b[0m\u001b[0m\n\u001b[0;32m--> 226\u001b[0;31m         \u001b[0;32mreturn\u001b[0m \u001b[0mN\u001b[0m\u001b[0;34m.\u001b[0m\u001b[0mdot\u001b[0m\u001b[0;34m(\u001b[0m\u001b[0mother\u001b[0m\u001b[0;34m,\u001b[0m \u001b[0mself\u001b[0m\u001b[0;34m)\u001b[0m\u001b[0;34m\u001b[0m\u001b[0;34m\u001b[0m\u001b[0m\n\u001b[0m\u001b[1;32m    227\u001b[0m \u001b[0;34m\u001b[0m\u001b[0m\n\u001b[1;32m    228\u001b[0m     \u001b[0;32mdef\u001b[0m \u001b[0m__imul__\u001b[0m\u001b[0;34m(\u001b[0m\u001b[0mself\u001b[0m\u001b[0;34m,\u001b[0m \u001b[0mother\u001b[0m\u001b[0;34m)\u001b[0m\u001b[0;34m:\u001b[0m\u001b[0;34m\u001b[0m\u001b[0;34m\u001b[0m\u001b[0m\n",
      "\u001b[0;32m<__array_function__ internals>\u001b[0m in \u001b[0;36mdot\u001b[0;34m(*args, **kwargs)\u001b[0m\n",
      "\u001b[0;31mValueError\u001b[0m: shapes (4,3) and (4,3) not aligned: 3 (dim 1) != 4 (dim 0)"
     ]
    }
   ],
   "source": [
    "# 이미지도 행렬 연산과 관계있기 때문에 \n",
    "# 수학적 규칙을 지키지 않으면 오류를 뱉는다.\n",
    "mat4 = mat1 * mat2\n",
    "print(mat4)"
   ]
  },
  {
   "cell_type": "code",
   "execution_count": 8,
   "metadata": {},
   "outputs": [
    {
     "name": "stdout",
     "output_type": "stream",
     "text": [
      "[[1 2 3]\n",
      " [4 5 6]\n",
      " [7 8 9]]\n",
      "(3, 3)\n",
      "[[ 4  5  6]\n",
      " [ 7  8  9]\n",
      " [10 11 12]]\n",
      "(3, 3)\n"
     ]
    }
   ],
   "source": [
    "mat3 = np.matrix([\n",
    "    [1,  2,  3],\n",
    "    [4,  5,  6],\n",
    "    [7,  8,  9],\n",
    "])\n",
    "\n",
    "print(mat3)\n",
    "print(mat3.shape)\n",
    "\n",
    "\n",
    "mat4 = np.matrix([\n",
    "    [ 4,  5,  6],\n",
    "    [ 7,  8,  9],\n",
    "    [10, 11, 12],\n",
    "])\n",
    "\n",
    "print(mat4)\n",
    "print(mat4.shape)"
   ]
  },
  {
   "cell_type": "code",
   "execution_count": 37,
   "metadata": {},
   "outputs": [
    {
     "name": "stdout",
     "output_type": "stream",
     "text": [
      "[[ 48  54  60]\n",
      " [111 126 141]\n",
      " [174 198 222]]\n"
     ]
    }
   ],
   "source": [
    "mat5 = mat3 * mat4\n",
    "\n",
    "print(mat5)"
   ]
  },
  {
   "cell_type": "code",
   "execution_count": 11,
   "metadata": {},
   "outputs": [],
   "source": [
    "# 행렬 연산의 규칙\n",
    "# 행렬의 행과 열로 구성된다.\n",
    "# 행렬의 곱셈을 수행하기 위한 최소한의 규칙\n",
    "# m by n 행렬을 곱하려면 n by x가 되어야 한다.\n",
    "# 두 행렬의 곱셈 결과는 m by x가 된다."
   ]
  },
  {
   "cell_type": "code",
   "execution_count": 14,
   "metadata": {},
   "outputs": [
    {
     "name": "stdout",
     "output_type": "stream",
     "text": [
      "[[ 1  4  7 10]\n",
      " [ 2  5  8 11]\n",
      " [ 3  6  9 12]]\n",
      "[[ 1  2  3]\n",
      " [ 4  5  6]\n",
      " [ 7  8  9]\n",
      " [10 11 12]]\n",
      "(3, 4)\n"
     ]
    }
   ],
   "source": [
    "# 전치 행렬 = 행과 열의 위치를 바꾼다.\n",
    "print(mat1.T)\n",
    "print(mat1)\n",
    "\n",
    "print(mat1.T.shape)"
   ]
  },
  {
   "cell_type": "code",
   "execution_count": 9,
   "metadata": {},
   "outputs": [
    {
     "name": "stdout",
     "output_type": "stream",
     "text": [
      "[[166 188 210]\n",
      " [188 214 240]\n",
      " [210 240 270]]\n"
     ]
    }
   ],
   "source": [
    "# 3 by 4 * 4 by 3 => 3 by 3\n",
    "mat5 = mat1.T * mat2\n",
    "print(mat5)"
   ]
  },
  {
   "cell_type": "code",
   "execution_count": 10,
   "metadata": {},
   "outputs": [
    {
     "name": "stdout",
     "output_type": "stream",
     "text": [
      "[[ 14  32  50  68]\n",
      " [ 32  77 122 167]\n",
      " [ 50 122 194 266]\n",
      " [ 68 167 266 365]]\n"
     ]
    }
   ],
   "source": [
    "# 4 by 3 * 3 by 4 => 4 by 4\n",
    "mat5 = mat1 * mat2.T\n",
    "print(mat5)"
   ]
  },
  {
   "cell_type": "code",
   "execution_count": 42,
   "metadata": {},
   "outputs": [
    {
     "name": "stdout",
     "output_type": "stream",
     "text": [
      "(10,)\n"
     ]
    }
   ],
   "source": [
    "print(vec1.shape)"
   ]
  },
  {
   "cell_type": "code",
   "execution_count": 43,
   "metadata": {},
   "outputs": [
    {
     "name": "stdout",
     "output_type": "stream",
     "text": [
      "[[ 0  2  4]\n",
      " [ 6  8 10]]\n",
      "(2, 3)\n"
     ]
    }
   ],
   "source": [
    "# 스마트하게 행렬 만들기\n",
    "# 0에서 11까지 2씩 증가 를 2행 3열로 만들어라.\n",
    "smartMat = np.arange(0, 11, 2).reshape((2, 3))\n",
    "\n",
    "print(smartMat)\n",
    "print(smartMat.shape)"
   ]
  },
  {
   "cell_type": "code",
   "execution_count": 19,
   "metadata": {},
   "outputs": [
    {
     "name": "stdout",
     "output_type": "stream",
     "text": [
      "[[ 5  6  7]\n",
      " [ 8  9 10]\n",
      " [11 12 13]\n",
      " [14 15 16]]\n"
     ]
    }
   ],
   "source": [
    "# 행렬에 스칼라를 더한 구조\n",
    "# [[ 1  2  3]\n",
    "# [ 4  5  6]\n",
    "# [ 7  8  9]\n",
    "# [10 11 12]]\n",
    "# 에 4씩 더한 값이 나온다.\n",
    "test = mat1 + 4\n",
    "\n",
    "print(test)"
   ]
  },
  {
   "cell_type": "code",
   "execution_count": 44,
   "metadata": {},
   "outputs": [
    {
     "name": "stdout",
     "output_type": "stream",
     "text": [
      "[[ 1  2  3  4]\n",
      " [ 5  6  7  8]\n",
      " [ 9 10 11 12]]\n",
      "(3, 4)\n"
     ]
    }
   ],
   "source": [
    "smartMat2 = np.arange(1, 13).reshape((3, 4))\n",
    "\n",
    "print(smartMat2)\n",
    "print(smartMat2.shape)"
   ]
  },
  {
   "cell_type": "code",
   "execution_count": 11,
   "metadata": {},
   "outputs": [
    {
     "name": "stdout",
     "output_type": "stream",
     "text": [
      "[[ 1  2  3]\n",
      " [ 4  5  6]\n",
      " [ 7  8  9]\n",
      " [10 11 12]]\n",
      "(4, 3)\n"
     ]
    }
   ],
   "source": [
    "mat1 = np.array([\n",
    "    [ 1,  2,  3],\n",
    "    [ 4,  5,  6],\n",
    "    [ 7,  8,  9],\n",
    "    [10, 11, 12]\n",
    "])\n",
    "\n",
    "print(mat1)\n",
    "print(mat1.shape)"
   ]
  },
  {
   "cell_type": "code",
   "execution_count": 12,
   "metadata": {},
   "outputs": [
    {
     "name": "stdout",
     "output_type": "stream",
     "text": [
      "(4, 3)\n",
      "2\n",
      "[[ 1  2  3]\n",
      " [ 4  5  6]\n",
      " [ 7  8  9]\n",
      " [10 11 12]]\n",
      "2\n"
     ]
    }
   ],
   "source": [
    "print(mat1.shape)\n",
    "# 도움!\n",
    "print(len(mat1.shape))\n",
    "\n",
    "print(mat2)\n",
    "print(len(mat2.shape))\n"
   ]
  },
  {
   "cell_type": "code",
   "execution_count": 49,
   "metadata": {},
   "outputs": [
    {
     "name": "stdout",
     "output_type": "stream",
     "text": [
      "4\n",
      "3\n"
     ]
    }
   ],
   "source": [
    "print(mat1.shape[0])\n",
    "print(mat1.shape[1])"
   ]
  },
  {
   "cell_type": "code",
   "execution_count": 50,
   "metadata": {},
   "outputs": [
    {
     "name": "stdout",
     "output_type": "stream",
     "text": [
      "[ 1  2  3  4  5  6  7  8  9 10 11 12]\n"
     ]
    }
   ],
   "source": [
    "# 차원 변환이 필요한 경우가 있음 / 가우스-조르단 소거법 이용\n",
    "# 행렬을 1차로 변경할 경우 등\n",
    "\n",
    "# mat1 = mat1.reshape(len(mat1), )\n",
    "# mat1 = mat1.reshape(len(mat1))\n",
    "# mat1 = mat1.reshape(12)\n",
    "\n",
    "mat1 = mat1.reshape(mat1.shape[0] * mat1.shape[1])\n",
    "\n",
    "print(mat1)"
   ]
  },
  {
   "cell_type": "code",
   "execution_count": 27,
   "metadata": {},
   "outputs": [
    {
     "name": "stdout",
     "output_type": "stream",
     "text": [
      "[[ 1  2  3]\n",
      " [ 4  5  6]\n",
      " [ 7  8  9]\n",
      " [10 11 12]]\n"
     ]
    }
   ],
   "source": [
    "print(mat2)"
   ]
  },
  {
   "cell_type": "code",
   "execution_count": 17,
   "metadata": {},
   "outputs": [
    {
     "name": "stdout",
     "output_type": "stream",
     "text": [
      "[[[ 1  2]\n",
      "  [ 3  4]]\n",
      "\n",
      " [[ 5  6]\n",
      "  [ 7  8]]\n",
      "\n",
      " [[ 9 10]\n",
      "  [11 12]]]\n"
     ]
    }
   ],
   "source": [
    "# 텐서를 해석하는 방법\n",
    "# 맨 앞의 숫자가 큰 집합의 개수를 의미함\n",
    "# 뒤쪽의 2개는 행렬의 모양을 의미\n",
    "# 즉 뒤쪽에 2개를 통해 행렬의 모양을 잡고\n",
    "# 맨 앞의 숫자를 통해 해당 행렬이 몇 개 있는지 파악하면 된다.\n",
    "ten2 = mat1.reshape((3, 2, 2))\n",
    "\n",
    "print(ten2)"
   ]
  },
  {
   "cell_type": "code",
   "execution_count": 14,
   "metadata": {},
   "outputs": [
    {
     "name": "stdout",
     "output_type": "stream",
     "text": [
      "[[[1 2 3]\n",
      "  [4 5 6]]\n",
      "\n",
      " [[2 3 4]\n",
      "  [5 6 7]]]\n",
      "(2, 2, 3)\n"
     ]
    }
   ],
   "source": [
    "ret = np.matrix(np.arange(1, 7)).reshape((2, 3))\n",
    "ret2 = np.matrix(np.arange(2, 8)).reshape((2, 3))\n",
    "\n",
    "ten3 = np.array([\n",
    "    ret, ret2\n",
    "])\n",
    "\n",
    "print(ten3)\n",
    "print(ten3.shape)"
   ]
  },
  {
   "cell_type": "code",
   "execution_count": 30,
   "metadata": {},
   "outputs": [
    {
     "name": "stdout",
     "output_type": "stream",
     "text": [
      "[[[1 1]\n",
      "  [4 4]]\n",
      "\n",
      " [[2 2]\n",
      "  [5 5]]\n",
      "\n",
      " [[3 3]\n",
      "  [6 6]]]\n",
      "(3, 2, 2)\n"
     ]
    }
   ],
   "source": [
    "# 텐서는 곱셈으로 표현할 수 없다\n",
    "# 상대성 이론 만들기 위해 도입한 게 텐서\n",
    "# 아인슈타인은 수학자에 비해 수학을 잘하진 못했다고 함\n",
    "# 이론을 수학자들에게 만들어달라고 던져줌\n",
    "print(ten3.T)\n",
    "print(ten3.T.shape)"
   ]
  },
  {
   "cell_type": "code",
   "execution_count": 22,
   "metadata": {},
   "outputs": [
    {
     "name": "stdout",
     "output_type": "stream",
     "text": [
      "(3, 2, 2)\n",
      "(2, 2, 3)\n"
     ]
    }
   ],
   "source": [
    "print(ten2.shape)\n",
    "print(ten3.shape)"
   ]
  },
  {
   "cell_type": "code",
   "execution_count": 18,
   "metadata": {},
   "outputs": [
    {
     "name": "stdout",
     "output_type": "stream",
     "text": [
      "(3, 2, 2)\n",
      "(2, 2, 3)\n"
     ]
    }
   ],
   "source": [
    "print(ten2.shape)\n",
    "print(ten3.shape)\n",
    "\n",
    "# 322의 마지막 2와, 223의 첫번째 2가 삭제되면서 3223이 된다.\n",
    "# (3, 2, 2)\n",
    "# (2, 2, 3)\n",
    "# [\n",
    "#     [\n",
    "#         [\n",
    "#             [  9  12  15]   (2, 3)\n",
    "#             [ 12  15  18]\n",
    "#         ]\n",
    "#         [\n",
    "#             [ 19  26  33]\n",
    "#             [ 26  33  40]\n",
    "#         ]\n",
    "#     ]      ---------------- (2, 2, 3)\n",
    "#     [\n",
    "#         [\n",
    "#             [ 29  40  51]\n",
    "#             [ 40  51  62]\n",
    "#         ]\n",
    "#         [\n",
    "#             [ 39  54  69]\n",
    "#             [ 54  69  84]\n",
    "#         ]\n",
    "#     ]\n",
    "#     [\n",
    "#         [\n",
    "#             [ 49  68  87]\n",
    "#             [ 68  87 106]\n",
    "#         ]\n",
    "#         [\n",
    "#             [ 59  82 105]\n",
    "#             [ 82 105 128]\n",
    "#         ]\n",
    "#     ]\n",
    "# ]  ------------------------ (3, 2, 2, 3)"
   ]
  },
  {
   "cell_type": "code",
   "execution_count": 19,
   "metadata": {},
   "outputs": [
    {
     "name": "stdout",
     "output_type": "stream",
     "text": [
      "[[[[  9  12  15]\n",
      "   [ 12  15  18]]\n",
      "\n",
      "  [[ 19  26  33]\n",
      "   [ 26  33  40]]]\n",
      "\n",
      "\n",
      " [[[ 29  40  51]\n",
      "   [ 40  51  62]]\n",
      "\n",
      "  [[ 39  54  69]\n",
      "   [ 54  69  84]]]\n",
      "\n",
      "\n",
      " [[[ 49  68  87]\n",
      "   [ 68  87 106]]\n",
      "\n",
      "  [[ 59  82 105]\n",
      "   [ 82 105 128]]]]\n",
      "(3, 2, 2, 3)\n"
     ]
    }
   ],
   "source": [
    "#  [ 1  2]   [1 2 3]\n",
    "#  [ 3  4]   [4 5 6]\n",
    "\n",
    "#  [ 5  6]   [1 2 3]\n",
    "#  [ 7  8]   [4 5 6]\n",
    "\n",
    "#  [ 9 10]\n",
    "#  [11 12]\n",
    "\n",
    "# (3, 2, 2)로 나오게 하는 등 추가 작업이 필요하지만 알 필요는 없다?\n",
    "ten4 = ten2.dot(ten3)\n",
    "\n",
    "print(ten4)\n",
    "print(ten4.shape)"
   ]
  },
  {
   "cell_type": "code",
   "execution_count": 79,
   "metadata": {},
   "outputs": [
    {
     "name": "stdout",
     "output_type": "stream",
     "text": [
      "[[[[  9  12  15]\n",
      "   [ 12  15  18]]\n",
      "\n",
      "  [[ 19  26  33]\n",
      "   [ 26  33  40]]]\n",
      "\n",
      "\n",
      " [[[ 29  40  51]\n",
      "   [ 40  51  62]]\n",
      "\n",
      "  [[ 39  54  69]\n",
      "   [ 54  69  84]]]\n",
      "\n",
      "\n",
      " [[[ 49  68  87]\n",
      "   [ 68  87 106]]\n",
      "\n",
      "  [[ 59  82 105]\n",
      "   [ 82 105 128]]]]\n",
      "(3, 2, 2, 3)\n"
     ]
    }
   ],
   "source": [
    "# 텐서로 하든 뭐든 행렬의 규칙은 변하지 않는다.\n",
    "#  [ 1  2]   [1 2 3]\n",
    "#  [ 3  4]   [4 5 6]\n",
    "\n",
    "#  [ 5  6]   [2 3 4]\n",
    "#  [ 7  8]   [5 6 7]\n",
    "\n",
    "#  [ 9 10]\n",
    "#  [11 12]\n",
    "\n",
    "ten4 = ten2.dot(ten3)\n",
    "\n",
    "print(ten4)\n",
    "print(ten4.shape)"
   ]
  },
  {
   "cell_type": "code",
   "execution_count": 77,
   "metadata": {},
   "outputs": [
    {
     "name": "stdout",
     "output_type": "stream",
     "text": [
      "[[1 2]\n",
      " [3 4]]\n",
      "[[1 2]\n",
      " [3 4]]\n",
      "[[ 1  4]\n",
      " [ 9 16]]\n",
      "[[ 7 10]\n",
      " [15 22]]\n"
     ]
    }
   ],
   "source": [
    "testMat1 = np.arange(1, 5).reshape((2, 2))\n",
    "testMat2 = np.arange(1, 5).reshape((2, 2))\n",
    "\n",
    "print(testMat1)\n",
    "print(testMat2)\n",
    "# 행렬의 차원이 같을 때 쓰면 아래처럼 단순곱해서 값을 알려준다.(1, 4, 9, 16)\n",
    "# 실수를 하지 않으려면 dot 연산을 쓰는 습관을 들이는게 좋다.\n",
    "print(testMat1 * testMat2)\n",
    "print(testMat1.dot(testMat2))\n",
    "# dot 연산, 싸이클링 연산이 있다(이건 잘안씀)"
   ]
  },
  {
   "cell_type": "code",
   "execution_count": null,
   "metadata": {},
   "outputs": [],
   "source": [
    "# 인공지능을 공부할 때\n",
    "# 1. 선형대수 - 수리물리학(텐서) / 텐서 전용 책이 없어서 물리학과 책을 봐야함\n",
    "#             보아스(초보자 추천), 아프켄(헬 난이도, 서울대 물리학과 3일 가둬놓고 오픈북 시험?)\n",
    "# 2. 통계학\n",
    "# 3. 공업수학(라플라스 변환, 푸리에 변환)\n",
    "# 4. 커스텀 라이브러리"
   ]
  },
  {
   "cell_type": "code",
   "execution_count": 80,
   "metadata": {},
   "outputs": [
    {
     "name": "stdout",
     "output_type": "stream",
     "text": [
      "'200630 화 테스트.ipynb'\t\t   Applied-Deep-Learning-with-Keras\r\n",
      "'200701 수요일 눈물의 우분투 세팅.ipynb'   data\r\n",
      "'200703 금 수업.ipynb'\t\t\t   SpringExamples_my\r\n",
      "'200706 월 수업.ipynb'\t\t\t   test_Wandoo\r\n",
      "'200707 화 수업.ipynb'\r\n"
     ]
    }
   ],
   "source": [
    "!ls"
   ]
  },
  {
   "cell_type": "code",
   "execution_count": 82,
   "metadata": {},
   "outputs": [
    {
     "name": "stdout",
     "output_type": "stream",
     "text": [
      "Lesson01  Lesson03  Lesson05  Lesson07\tLesson09  README.md\r\n",
      "Lesson02  Lesson04  Lesson06  Lesson08\tLICENSE\r\n"
     ]
    }
   ],
   "source": [
    "!ls Applied-Deep-Learning-with-Keras"
   ]
  },
  {
   "cell_type": "code",
   "execution_count": 83,
   "metadata": {},
   "outputs": [
    {
     "name": "stdout",
     "output_type": "stream",
     "text": [
      "Activity01.ipynb  data\t\t    Exercise02.ipynb  Exercise04.ipynb\r\n",
      "bank.zip\t  Exercise01.ipynb  Exercise03.ipynb  Exercise05.ipynb\r\n"
     ]
    }
   ],
   "source": [
    "!ls Applied-Deep-Learning-with-Keras/Lesson01"
   ]
  },
  {
   "cell_type": "code",
   "execution_count": 84,
   "metadata": {},
   "outputs": [
    {
     "name": "stdout",
     "output_type": "stream",
     "text": [
      "bank.csv\t\tbank_data_feats_e2.csv\tbank_data_target_e2.csv\r\n",
      "bank_data_feats_a2.csv\tbank_data_feats_e3.csv\tbank-full.csv\r\n",
      "bank_data_feats.csv\tbank_data_target.csv\tbank-names.txt\r\n"
     ]
    }
   ],
   "source": [
    "!ls Applied-Deep-Learning-with-Keras/Lesson01/data/"
   ]
  },
  {
   "cell_type": "code",
   "execution_count": 85,
   "metadata": {},
   "outputs": [],
   "source": [
    "import pandas as pd\n",
    "\n",
    "feats = pd.read_csv(\n",
    "    'Applied-Deep-Learning-with-Keras/Lesson01/data/bank_data_feats_e3.csv',\n",
    "    index_col = 0\n",
    ")\n",
    "\n",
    "target = pd.read_csv(\n",
    "    'Applied-Deep-Learning-with-Keras/Lesson01/data/bank_data_target_e2.csv',\n",
    "    index_col = 0\n",
    ")"
   ]
  },
  {
   "cell_type": "code",
   "execution_count": 87,
   "metadata": {},
   "outputs": [],
   "source": [
    "from sklearn.model_selection import train_test_split\n",
    "\n",
    "test_size = 0.2\n",
    "random_state = 42\n",
    "\n",
    "X_train, X_test, y_train, y_test = train_test_split(\n",
    "    feats, target, test_size=test_size, random_state=random_state\n",
    ")"
   ]
  },
  {
   "cell_type": "code",
   "execution_count": 89,
   "metadata": {},
   "outputs": [
    {
     "name": "stdout",
     "output_type": "stream",
     "text": [
      "(3616, 32)\n",
      "(905, 32)\n",
      "(3616, 1)\n",
      "(905, 1)\n"
     ]
    }
   ],
   "source": [
    "print(X_train.shape)\n",
    "print(X_test.shape)\n",
    "print(y_train.shape)\n",
    "print(y_test.shape)"
   ]
  },
  {
   "cell_type": "code",
   "execution_count": null,
   "metadata": {},
   "outputs": [],
   "source": [
    "# pip install tensorflow\n",
    "from keras.models import Sequential\n",
    "\n",
    "model = Sequential()\n",
    "\n",
    "# 합성곱 = 콘볼루션(Convolution), 컨벌루션"
   ]
  },
  {
   "cell_type": "code",
   "execution_count": 67,
   "metadata": {},
   "outputs": [],
   "source": [
    "# 참고만 하기\n",
    "from keras.layers import Dense\n",
    "from keras.models import Sequential\n",
    "\n",
    "input_shape = 20\n",
    "units = 1\n",
    "model.add(Dense(units, input_dim=input_shape))"
   ]
  },
  {
   "cell_type": "code",
   "execution_count": 91,
   "metadata": {},
   "outputs": [],
   "source": [
    "from keras.layers import Dense, Activation\n",
    "from keras.models import Sequential\n",
    "\n",
    "input_shape = X_train.shape[1]\n",
    "units = 1\n",
    "\n",
    "model.add(Dense(units, input_dim = input_shape))\n",
    "model.add(Activation('tanh'))"
   ]
  },
  {
   "cell_type": "code",
   "execution_count": 94,
   "metadata": {},
   "outputs": [],
   "source": [
    "model.compile(\n",
    "    optimizer = 'adam',\n",
    "    loss = 'binary_crossentropy',\n",
    "    metrics = ['accuracy']\n",
    ")"
   ]
  },
  {
   "cell_type": "code",
   "execution_count": 92,
   "metadata": {},
   "outputs": [
    {
     "name": "stdout",
     "output_type": "stream",
     "text": [
      "Model: \"sequential_1\"\n",
      "_________________________________________________________________\n",
      "Layer (type)                 Output Shape              Param #   \n",
      "=================================================================\n",
      "dense_2 (Dense)              (None, 1)                 33        \n",
      "_________________________________________________________________\n",
      "activation_1 (Activation)    (None, 1)                 0         \n",
      "=================================================================\n",
      "Total params: 33\n",
      "Trainable params: 33\n",
      "Non-trainable params: 0\n",
      "_________________________________________________________________\n",
      "None\n"
     ]
    }
   ],
   "source": [
    "print(model.summary())"
   ]
  },
  {
   "cell_type": "code",
   "execution_count": 95,
   "metadata": {},
   "outputs": [
    {
     "name": "stdout",
     "output_type": "stream",
     "text": [
      "Epoch 1/10\n",
      "91/91 [==============================] - 0s 4ms/step - loss: 12.6286 - accuracy: 0.1701 - val_loss: 12.6462 - val_accuracy: 0.1699\n",
      "Epoch 2/10\n",
      "91/91 [==============================] - 0s 1ms/step - loss: 12.5107 - accuracy: 0.1750 - val_loss: 12.0623 - val_accuracy: 0.1906\n",
      "Epoch 3/10\n",
      "91/91 [==============================] - 0s 878us/step - loss: 10.8276 - accuracy: 0.2721 - val_loss: 10.5223 - val_accuracy: 0.3025\n",
      "Epoch 4/10\n",
      "91/91 [==============================] - 0s 915us/step - loss: 10.2808 - accuracy: 0.3133 - val_loss: 10.3893 - val_accuracy: 0.3094\n",
      "Epoch 5/10\n",
      "91/91 [==============================] - 0s 980us/step - loss: 10.0498 - accuracy: 0.3302 - val_loss: 10.0950 - val_accuracy: 0.3232\n",
      "Epoch 6/10\n",
      "91/91 [==============================] - 0s 882us/step - loss: 9.7703 - accuracy: 0.3489 - val_loss: 9.7516 - val_accuracy: 0.3453\n",
      "Epoch 7/10\n",
      "91/91 [==============================] - 0s 903us/step - loss: 9.4717 - accuracy: 0.3696 - val_loss: 9.4271 - val_accuracy: 0.3729\n",
      "Epoch 8/10\n",
      "91/91 [==============================] - 0s 965us/step - loss: 9.0938 - accuracy: 0.3918 - val_loss: 9.0446 - val_accuracy: 0.3950\n",
      "Epoch 9/10\n",
      "91/91 [==============================] - 0s 932us/step - loss: 8.2771 - accuracy: 0.4454 - val_loss: 8.0794 - val_accuracy: 0.4572\n",
      "Epoch 10/10\n",
      "91/91 [==============================] - 0s 985us/step - loss: 6.4204 - accuracy: 0.5650 - val_loss: 2.0143 - val_accuracy: 0.8633\n"
     ]
    }
   ],
   "source": [
    "history = model.fit(\n",
    "    x = X_train, y = y_train['y'],\n",
    "    epochs = 10, batch_size = 32, validation_split = 0.2\n",
    ")"
   ]
  },
  {
   "cell_type": "code",
   "execution_count": 99,
   "metadata": {},
   "outputs": [
    {
     "name": "stdout",
     "output_type": "stream",
     "text": [
      "{'loss': [12.628629684448242, 12.510735511779785, 10.827640533447266, 10.280843734741211, 10.049788475036621, 9.770297050476074, 9.471738815307617, 9.093836784362793, 8.27706527709961, 6.420394420623779], 'accuracy': [0.17012448608875275, 0.17496542632579803, 0.27213001251220703, 0.3132780194282532, 0.3302212953567505, 0.34889349341392517, 0.36964038014411926, 0.3917703926563263, 0.4453665316104889, 0.5650069117546082], 'val_loss': [12.64617919921875, 12.062324523925781, 10.522313117980957, 10.38928508758545, 10.094955444335938, 9.751609802246094, 9.42710018157959, 9.044564247131348, 8.079385757446289, 2.0143227577209473], 'val_accuracy': [0.16988950967788696, 0.19060774147510529, 0.3024861812591553, 0.3093922734260559, 0.3232044279575348, 0.34530386328697205, 0.3729281723499298, 0.39502763748168945, 0.4571823179721832, 0.8632596731185913]}\n"
     ]
    }
   ],
   "source": [
    "print(history.history)"
   ]
  },
  {
   "cell_type": "code",
   "execution_count": 101,
   "metadata": {},
   "outputs": [
    {
     "data": {
      "image/png": "[encoded data removed]",
      "text/plain": [
       "<Figure size 432x288 with 1 Axes>"
      ]
     },
     "metadata": {
      "needs_background": "light"
     },
     "output_type": "display_data"
    },
    {
     "data": {
      "image/png": "[encoded data removed]",
      "text/plain": [
       "<Figure size 432x288 with 1 Axes>"
      ]
     },
     "metadata": {
      "needs_background": "light"
     },
     "output_type": "display_data"
    }
   ],
   "source": [
    "import matplotlib.pyplot as plt\n",
    "\n",
    "plt.plot(history.history['accuracy'])\n",
    "plt.plot(history.history['val_accuracy'])\n",
    "\n",
    "plt.title('Model Accuracy')\n",
    "plt.ylabel('Accuracy')\n",
    "plt.xlabel('Loop')\n",
    "plt.legend(['Train', 'Validation'], loc ='upper left')\n",
    "plt.show()\n",
    "\n",
    "\n",
    "plt.plot(history.history['loss'])\n",
    "plt.plot(history.history['val_loss'])\n",
    "\n",
    "plt.title('Model loss')\n",
    "plt.ylabel('Loss')\n",
    "plt.xlabel('Loop')\n",
    "plt.legend(['Train', 'Validation'], loc ='upper left')\n",
    "plt.show()"
   ]
  },
  {
   "cell_type": "code",
   "execution_count": 19,
   "metadata": {},
   "outputs": [
    {
     "name": "stdout",
     "output_type": "stream",
     "text": [
      "Activity02.ipynb     bank_data_target.csv  Exercise07.ipynb  Exercise09.ipynb\r\n",
      "bank_data_feats.csv  Exercise06.ipynb\t   Exercise08.ipynb\r\n"
     ]
    }
   ],
   "source": [
    "!ls Applied-Deep-Learning-with-Keras/Lesson02"
   ]
  },
  {
   "cell_type": "code",
   "execution_count": 20,
   "metadata": {},
   "outputs": [],
   "source": [
    "import pandas as pd\n",
    "\n",
    "feats = pd.read_csv(\n",
    "    'Applied-Deep-Learning-with-Keras/Lesson02/bank_data_feats.csv',\n",
    "    index_col = 0\n",
    ")\n",
    "target = pd.read_csv(\n",
    "    'Applied-Deep-Learning-with-Keras/Lesson02/bank_data_target.csv',\n",
    "    index_col = 0\n",
    ")"
   ]
  },
  {
   "cell_type": "code",
   "execution_count": 21,
   "metadata": {},
   "outputs": [
    {
     "name": "stdout",
     "output_type": "stream",
     "text": [
      "Epoch 1/20\n",
      "91/91 [==============================] - 0s 2ms/step - loss: 9.6100 - accuracy: 0.3617 - val_loss: 9.4419 - val_accuracy: 0.3757\n",
      "Epoch 2/20\n",
      "91/91 [==============================] - 0s 865us/step - loss: 9.2045 - accuracy: 0.3893 - val_loss: 9.3415 - val_accuracy: 0.3812\n",
      "Epoch 3/20\n",
      "91/91 [==============================] - 0s 982us/step - loss: 8.9423 - accuracy: 0.4028 - val_loss: 8.8872 - val_accuracy: 0.4075\n",
      "Epoch 4/20\n",
      "91/91 [==============================] - 0s 807us/step - loss: 8.1627 - accuracy: 0.4564 - val_loss: 7.9385 - val_accuracy: 0.4641\n",
      "Epoch 5/20\n",
      "91/91 [==============================] - 0s 883us/step - loss: 6.6170 - accuracy: 0.5546 - val_loss: 5.4351 - val_accuracy: 0.6340\n",
      "Epoch 6/20\n",
      "91/91 [==============================] - 0s 1ms/step - loss: 4.8215 - accuracy: 0.6736 - val_loss: 4.2033 - val_accuracy: 0.7169\n",
      "Epoch 7/20\n",
      "91/91 [==============================] - 0s 1ms/step - loss: 2.7653 - accuracy: 0.8154 - val_loss: 1.6405 - val_accuracy: 0.8936\n",
      "Epoch 8/20\n",
      "91/91 [==============================] - 0s 1ms/step - loss: 1.8454 - accuracy: 0.8804 - val_loss: 1.6405 - val_accuracy: 0.8936\n",
      "Epoch 9/20\n",
      "91/91 [==============================] - 0s 895us/step - loss: 1.8454 - accuracy: 0.8804 - val_loss: 1.6405 - val_accuracy: 0.8936\n",
      "Epoch 10/20\n",
      "91/91 [==============================] - 0s 851us/step - loss: 1.8454 - accuracy: 0.8804 - val_loss: 1.6405 - val_accuracy: 0.8936\n",
      "Epoch 11/20\n",
      "91/91 [==============================] - 0s 918us/step - loss: 1.8454 - accuracy: 0.8804 - val_loss: 1.6405 - val_accuracy: 0.8936\n",
      "Epoch 12/20\n",
      "91/91 [==============================] - 0s 940us/step - loss: 1.8454 - accuracy: 0.8804 - val_loss: 1.6405 - val_accuracy: 0.8936\n",
      "Epoch 13/20\n",
      "91/91 [==============================] - 0s 902us/step - loss: 1.8454 - accuracy: 0.8804 - val_loss: 1.6405 - val_accuracy: 0.8936\n",
      "Epoch 14/20\n",
      "91/91 [==============================] - 0s 934us/step - loss: 1.8454 - accuracy: 0.8804 - val_loss: 1.6405 - val_accuracy: 0.8936\n",
      "Epoch 15/20\n",
      "91/91 [==============================] - 0s 914us/step - loss: 1.8454 - accuracy: 0.8804 - val_loss: 1.6405 - val_accuracy: 0.8936\n",
      "Epoch 16/20\n",
      "91/91 [==============================] - 0s 852us/step - loss: 1.8454 - accuracy: 0.8804 - val_loss: 1.6405 - val_accuracy: 0.8936\n",
      "Epoch 17/20\n",
      "91/91 [==============================] - 0s 818us/step - loss: 1.8454 - accuracy: 0.8804 - val_loss: 1.6405 - val_accuracy: 0.8936\n",
      "Epoch 18/20\n",
      "91/91 [==============================] - 0s 869us/step - loss: 1.8454 - accuracy: 0.8804 - val_loss: 1.6405 - val_accuracy: 0.8936\n",
      "Epoch 19/20\n",
      "91/91 [==============================] - 0s 887us/step - loss: 1.8454 - accuracy: 0.8804 - val_loss: 1.6405 - val_accuracy: 0.8936\n",
      "Epoch 20/20\n",
      "91/91 [==============================] - 0s 852us/step - loss: 1.8454 - accuracy: 0.8804 - val_loss: 1.6405 - val_accuracy: 0.8936\n"
     ]
    }
   ],
   "source": [
    "from sklearn.model_selection import train_test_split\n",
    "\n",
    "test_size = 0.2\n",
    "random_state = 42\n",
    "\n",
    "X_train, X_test, y_train, y_test = train_test_split(\n",
    "    feats, target, test_size = test_size, random_state = random_state\n",
    ")\n",
    "\n",
    "from keras.models import Sequential\n",
    "\n",
    "model = Sequential()\n",
    "\n",
    "from keras.layers import Dense, Activation\n",
    "\n",
    "input_shape = X_train.shape[1]\n",
    "units = 1\n",
    "\n",
    "model.add(Dense(units, input_dim = input_shape))\n",
    "model.add(Activation('tanh'))\n",
    "\n",
    "model.compile(\n",
    "    optimizer = 'adam',\n",
    "    loss = 'binary_crossentropy',\n",
    "    metrics = ['accuracy']\n",
    ")\n",
    "\n",
    "history = model.fit(\n",
    "    x = X_train, y = y_train['y'],\n",
    "    epochs = 20, batch_size = 32, validation_split = 0.2\n",
    ")"
   ]
  },
  {
   "cell_type": "code",
   "execution_count": 22,
   "metadata": {},
   "outputs": [
    {
     "data": {
      "image/png": "[encoded data removed]",
      "text/plain": [
       "<Figure size 432x288 with 1 Axes>"
      ]
     },
     "metadata": {
      "needs_background": "light"
     },
     "output_type": "display_data"
    },
    {
     "data": {
      "image/png": "[encoded data removed]",
      "text/plain": [
       "<Figure size 432x288 with 1 Axes>"
      ]
     },
     "metadata": {
      "needs_background": "light"
     },
     "output_type": "display_data"
    }
   ],
   "source": [
    "import matplotlib.pyplot as plt\n",
    "\n",
    "plt.plot(history.history['accuracy'])\n",
    "plt.plot(history.history['val_accuracy'])\n",
    "plt.title('Model Accuracy')\n",
    "plt.ylabel('Accuracy')\n",
    "plt.xlabel('Loop')\n",
    "plt.legend(['Train', 'Validation'], loc='upper left')\n",
    "plt.show()\n",
    "\n",
    "plt.plot(history.history['loss'])\n",
    "plt.plot(history.history['val_loss'])\n",
    "plt.title('Model Loss')\n",
    "plt.ylabel('Loss')\n",
    "plt.xlabel('Loop')\n",
    "plt.legend(['Train', 'Validation'], loc='upper left')\n",
    "plt.show()"
   ]
  },
  {
   "cell_type": "code",
   "execution_count": null,
   "metadata": {},
   "outputs": [],
   "source": [
    "# Euler Formula\n",
    "# e^ix = cos(x) + i sin(x)\n",
    "# e^-ix = cos(x) - i sin(x)\n",
    "# e^ix + e^-ix = 2 cos(x)\n",
    "# cos(x) = (e^ix + e^-ix) / 2\n",
    "\n",
    "# e^ix - e^-ix = 2i sin(x)\n",
    "# sin(x) = (e^ix - e^-ix) / 2\n",
    "# tan(x) = sin(x) / cos(x)\n",
    "\n",
    "# cosh(x) = (e^x + e^-x) / 2\n",
    "# sinh(x) = (e^x - e^-x) / 2\n",
    "# tanh(x) = sinh(x) / cosh(x)\n",
    "# tanh(x)는 -1 ~ 1 사이의 값을 가지게 된다."
   ]
  },
  {
   "cell_type": "code",
   "execution_count": null,
   "metadata": {},
   "outputs": [],
   "source": [
    "# X: 1 by 2\n",
    "# W1: 2 by 3\n",
    "# b1: 1 by 3\n",
    "# z1 = X * W1 + b1\n",
    "# 행렬 곱셈의 규칙\n",
    "# (1 by 2)(2 by 3) ===> (1 by 3)\n",
    "# a1: (1 by 3)\n",
    "# W2: 3 by 5\n",
    "# b2: 1 by 5\n",
    "# z2 = a1 * W2 + b2\n",
    "# (1 by 3)(3 by 5) ===> (1 by 5)\n",
    "# a2: (1 by 5)\n",
    "# W3: 5 by 1\n",
    "# b3: 1 by 1\n",
    "# z3 = a2 * W3 + b3\n",
    "# (1 by 5)(5 by 1) ===> (1 by 1)\n",
    "# Y = sigmoid(z3) ===> 0 ~ 1 확률로 나타난다."
   ]
  },
  {
   "cell_type": "code",
   "execution_count": 14,
   "metadata": {},
   "outputs": [
    {
     "name": "stdout",
     "output_type": "stream",
     "text": [
      "Num of Dataset: 300\n",
      "Num of Features: 10\n",
      "Possible Output Classes: [0 1]\n"
     ]
    }
   ],
   "source": [
    "import numpy as np\n",
    "from sklearn.datasets import make_classification\n",
    "\n",
    "X, y = make_classification(\n",
    "    # 데이터 300개\n",
    "    n_samples = 300,\n",
    "    # 독립 변수 10개\n",
    "    n_features = 10,\n",
    "    # 나올 수 있는 결과 2개\n",
    "    n_classes = 2\n",
    ")\n",
    "\n",
    "print(\"Num of Dataset:\", X.shape[0])\n",
    "print(\"Num of Features:\", X.shape[1])\n",
    "print(\"Possible Output Classes:\", np.unique(y))"
   ]
  },
  {
   "cell_type": "code",
   "execution_count": null,
   "metadata": {},
   "outputs": [],
   "source": [
    "# Features가 10개라는 뜻은\n",
    "# y = ax1 + bx2 + cx3 + dx4 + ex5 fx6 gx7 hx8 ix9 jx10 + alpha "
   ]
  },
  {
   "cell_type": "code",
   "execution_count": 1,
   "metadata": {},
   "outputs": [],
   "source": [
    "from keras.models import Sequential\n",
    "\n",
    "model = Sequential()"
   ]
  },
  {
   "cell_type": "code",
   "execution_count": 2,
   "metadata": {},
   "outputs": [],
   "source": [
    "from keras.layers import Dense, Activation\n",
    "\n",
    "# Dense(출력 개수, 활성화 함수, 입력 개수)\n",
    "model.add(Dense(20, activation='tanh', input_dim=10))"
   ]
  },
  {
   "cell_type": "code",
   "execution_count": 3,
   "metadata": {},
   "outputs": [],
   "source": [
    "model.add(Dense(40, activation='tanh'))\n",
    "model.add(Dense(10, activation='tanh'))\n",
    "model.add(Dense(1, activation='sigmoid'))"
   ]
  },
  {
   "cell_type": "code",
   "execution_count": 12,
   "metadata": {},
   "outputs": [],
   "source": [
    "model.compile(optimizer='sgd', loss='binary_crossentropy')"
   ]
  },
  {
   "cell_type": "code",
   "execution_count": 15,
   "metadata": {},
   "outputs": [
    {
     "name": "stdout",
     "output_type": "stream",
     "text": [
      "Epoch 1/100\n",
      "60/60 [==============================] - 0s 613us/step - loss: 0.5770\n",
      "Epoch 2/100\n",
      "60/60 [==============================] - 0s 576us/step - loss: 0.4604\n",
      "Epoch 3/100\n",
      "60/60 [==============================] - 0s 507us/step - loss: 0.3949\n",
      "Epoch 4/100\n",
      "60/60 [==============================] - 0s 528us/step - loss: 0.3468\n",
      "Epoch 5/100\n",
      "60/60 [==============================] - 0s 504us/step - loss: 0.3097\n",
      "Epoch 6/100\n",
      "60/60 [==============================] - 0s 522us/step - loss: 0.2830\n",
      "Epoch 7/100\n",
      "60/60 [==============================] - 0s 509us/step - loss: 0.2618\n",
      "Epoch 8/100\n",
      "60/60 [==============================] - 0s 535us/step - loss: 0.2469\n",
      "Epoch 9/100\n",
      "60/60 [==============================] - 0s 534us/step - loss: 0.2330\n",
      "Epoch 10/100\n",
      "60/60 [==============================] - 0s 510us/step - loss: 0.2241\n",
      "Epoch 11/100\n",
      "60/60 [==============================] - 0s 522us/step - loss: 0.2161\n",
      "Epoch 12/100\n",
      "60/60 [==============================] - 0s 497us/step - loss: 0.2095\n",
      "Epoch 13/100\n",
      "60/60 [==============================] - 0s 513us/step - loss: 0.2045\n",
      "Epoch 14/100\n",
      "60/60 [==============================] - 0s 528us/step - loss: 0.1995\n",
      "Epoch 15/100\n",
      "60/60 [==============================] - 0s 518us/step - loss: 0.1935\n",
      "Epoch 16/100\n",
      "60/60 [==============================] - 0s 528us/step - loss: 0.1921\n",
      "Epoch 17/100\n",
      "60/60 [==============================] - 0s 591us/step - loss: 0.1857\n",
      "Epoch 18/100\n",
      "60/60 [==============================] - 0s 512us/step - loss: 0.1858\n",
      "Epoch 19/100\n",
      "60/60 [==============================] - 0s 555us/step - loss: 0.1813\n",
      "Epoch 20/100\n",
      "60/60 [==============================] - 0s 518us/step - loss: 0.1761\n",
      "Epoch 21/100\n",
      "60/60 [==============================] - 0s 560us/step - loss: 0.1750\n",
      "Epoch 22/100\n",
      "60/60 [==============================] - 0s 560us/step - loss: 0.1722\n",
      "Epoch 23/100\n",
      "60/60 [==============================] - 0s 522us/step - loss: 0.1686\n",
      "Epoch 24/100\n",
      "60/60 [==============================] - 0s 555us/step - loss: 0.1666\n",
      "Epoch 25/100\n",
      "60/60 [==============================] - 0s 513us/step - loss: 0.1635\n",
      "Epoch 26/100\n",
      "60/60 [==============================] - 0s 497us/step - loss: 0.1617\n",
      "Epoch 27/100\n",
      "60/60 [==============================] - 0s 508us/step - loss: 0.1581\n",
      "Epoch 28/100\n",
      "60/60 [==============================] - 0s 513us/step - loss: 0.1546\n",
      "Epoch 29/100\n",
      "60/60 [==============================] - 0s 520us/step - loss: 0.1542\n",
      "Epoch 30/100\n",
      "60/60 [==============================] - 0s 535us/step - loss: 0.1523\n",
      "Epoch 31/100\n",
      "60/60 [==============================] - 0s 507us/step - loss: 0.1470\n",
      "Epoch 32/100\n",
      "60/60 [==============================] - 0s 637us/step - loss: 0.1440\n",
      "Epoch 33/100\n",
      "60/60 [==============================] - 0s 517us/step - loss: 0.1437\n",
      "Epoch 34/100\n",
      "60/60 [==============================] - 0s 519us/step - loss: 0.1420\n",
      "Epoch 35/100\n",
      "60/60 [==============================] - 0s 503us/step - loss: 0.1403\n",
      "Epoch 36/100\n",
      "60/60 [==============================] - 0s 517us/step - loss: 0.1379\n",
      "Epoch 37/100\n",
      "60/60 [==============================] - ETA: 0s - loss: 0.124 - 0s 513us/step - loss: 0.1354\n",
      "Epoch 38/100\n",
      "60/60 [==============================] - 0s 521us/step - loss: 0.1349\n",
      "Epoch 39/100\n",
      "60/60 [==============================] - 0s 511us/step - loss: 0.1304\n",
      "Epoch 40/100\n",
      "60/60 [==============================] - 0s 548us/step - loss: 0.1290\n",
      "Epoch 41/100\n",
      "60/60 [==============================] - 0s 517us/step - loss: 0.1266\n",
      "Epoch 42/100\n",
      "60/60 [==============================] - 0s 509us/step - loss: 0.1274\n",
      "Epoch 43/100\n",
      "60/60 [==============================] - 0s 532us/step - loss: 0.1259\n",
      "Epoch 44/100\n",
      "60/60 [==============================] - 0s 544us/step - loss: 0.1245\n",
      "Epoch 45/100\n",
      "60/60 [==============================] - 0s 546us/step - loss: 0.1224\n",
      "Epoch 46/100\n",
      "60/60 [==============================] - 0s 515us/step - loss: 0.1196\n",
      "Epoch 47/100\n",
      "60/60 [==============================] - 0s 543us/step - loss: 0.1186\n",
      "Epoch 48/100\n",
      "60/60 [==============================] - 0s 514us/step - loss: 0.1154\n",
      "Epoch 49/100\n",
      "60/60 [==============================] - 0s 521us/step - loss: 0.1162\n",
      "Epoch 50/100\n",
      "60/60 [==============================] - 0s 517us/step - loss: 0.1136\n",
      "Epoch 51/100\n",
      "60/60 [==============================] - 0s 539us/step - loss: 0.1115\n",
      "Epoch 52/100\n",
      "60/60 [==============================] - 0s 560us/step - loss: 0.1122\n",
      "Epoch 53/100\n",
      "60/60 [==============================] - 0s 541us/step - loss: 0.1116\n",
      "Epoch 54/100\n",
      "60/60 [==============================] - 0s 550us/step - loss: 0.1086\n",
      "Epoch 55/100\n",
      "60/60 [==============================] - 0s 496us/step - loss: 0.1058\n",
      "Epoch 56/100\n",
      "60/60 [==============================] - 0s 535us/step - loss: 0.1064\n",
      "Epoch 57/100\n",
      "60/60 [==============================] - 0s 511us/step - loss: 0.1044\n",
      "Epoch 58/100\n",
      "60/60 [==============================] - 0s 543us/step - loss: 0.1000\n",
      "Epoch 59/100\n",
      "60/60 [==============================] - 0s 501us/step - loss: 0.1027\n",
      "Epoch 60/100\n",
      "60/60 [==============================] - 0s 523us/step - loss: 0.1021\n",
      "Epoch 61/100\n",
      "60/60 [==============================] - 0s 495us/step - loss: 0.0997\n",
      "Epoch 62/100\n",
      "60/60 [==============================] - 0s 525us/step - loss: 0.0977\n",
      "Epoch 63/100\n",
      "60/60 [==============================] - 0s 505us/step - loss: 0.0964\n",
      "Epoch 64/100\n",
      "60/60 [==============================] - 0s 521us/step - loss: 0.0965\n",
      "Epoch 65/100\n",
      "60/60 [==============================] - 0s 519us/step - loss: 0.0943\n",
      "Epoch 66/100\n",
      "60/60 [==============================] - 0s 527us/step - loss: 0.0901\n",
      "Epoch 67/100\n",
      "60/60 [==============================] - 0s 546us/step - loss: 0.0955\n",
      "Epoch 68/100\n",
      "60/60 [==============================] - 0s 532us/step - loss: 0.0911\n",
      "Epoch 69/100\n",
      "60/60 [==============================] - 0s 538us/step - loss: 0.0897\n",
      "Epoch 70/100\n",
      "60/60 [==============================] - 0s 587us/step - loss: 0.0866\n",
      "Epoch 71/100\n",
      "60/60 [==============================] - 0s 542us/step - loss: 0.0853\n",
      "Epoch 72/100\n",
      "60/60 [==============================] - 0s 580us/step - loss: 0.0858\n",
      "Epoch 73/100\n",
      "60/60 [==============================] - 0s 616us/step - loss: 0.0844\n",
      "Epoch 74/100\n",
      "60/60 [==============================] - 0s 727us/step - loss: 0.0837\n",
      "Epoch 75/100\n",
      "60/60 [==============================] - 0s 761us/step - loss: 0.0813\n",
      "Epoch 76/100\n",
      "60/60 [==============================] - 0s 890us/step - loss: 0.0780\n",
      "Epoch 77/100\n",
      "60/60 [==============================] - 0s 750us/step - loss: 0.0800\n",
      "Epoch 78/100\n",
      "60/60 [==============================] - 0s 765us/step - loss: 0.0762\n",
      "Epoch 79/100\n",
      "60/60 [==============================] - 0s 735us/step - loss: 0.0758\n",
      "Epoch 80/100\n",
      "60/60 [==============================] - 0s 708us/step - loss: 0.0714\n",
      "Epoch 81/100\n",
      "60/60 [==============================] - 0s 849us/step - loss: 0.0738\n",
      "Epoch 82/100\n",
      "60/60 [==============================] - 0s 748us/step - loss: 0.0730\n",
      "Epoch 83/100\n",
      "60/60 [==============================] - 0s 743us/step - loss: 0.0692\n",
      "Epoch 84/100\n",
      "60/60 [==============================] - 0s 760us/step - loss: 0.0682\n",
      "Epoch 85/100\n",
      "60/60 [==============================] - 0s 747us/step - loss: 0.0675\n",
      "Epoch 86/100\n",
      "60/60 [==============================] - 0s 821us/step - loss: 0.0661\n",
      "Epoch 87/100\n",
      "60/60 [==============================] - 0s 778us/step - loss: 0.0664\n",
      "Epoch 88/100\n",
      "60/60 [==============================] - 0s 755us/step - loss: 0.0637\n",
      "Epoch 89/100\n",
      "60/60 [==============================] - 0s 723us/step - loss: 0.0621\n",
      "Epoch 90/100\n",
      "60/60 [==============================] - 0s 736us/step - loss: 0.0604\n",
      "Epoch 91/100\n",
      "60/60 [==============================] - 0s 853us/step - loss: 0.0613\n",
      "Epoch 92/100\n",
      "60/60 [==============================] - 0s 768us/step - loss: 0.0564\n",
      "Epoch 93/100\n",
      "60/60 [==============================] - 0s 864us/step - loss: 0.0582\n",
      "Epoch 94/100\n",
      "60/60 [==============================] - 0s 756us/step - loss: 0.0574\n",
      "Epoch 95/100\n",
      "60/60 [==============================] - 0s 738us/step - loss: 0.0550\n",
      "Epoch 96/100\n",
      "60/60 [==============================] - 0s 766us/step - loss: 0.0533\n",
      "Epoch 97/100\n",
      "60/60 [==============================] - 0s 766us/step - loss: 0.0537\n",
      "Epoch 98/100\n",
      "60/60 [==============================] - 0s 734us/step - loss: 0.0522\n",
      "Epoch 99/100\n",
      "60/60 [==============================] - 0s 747us/step - loss: 0.0494\n",
      "Epoch 100/100\n",
      "60/60 [==============================] - 0s 785us/step - loss: 0.0516\n"
     ]
    }
   ],
   "source": [
    "# model.fit(X, y, epochs = 100, batch_size = 5, verbose = 0)\n",
    "# verbose 넣으면 아래처럼 많은 결과값 안나옴\n",
    "history = model.fit(X, y, epochs = 100, batch_size = 5)"
   ]
  },
  {
   "cell_type": "code",
   "execution_count": 16,
   "metadata": {},
   "outputs": [
    {
     "name": "stdout",
     "output_type": "stream",
     "text": [
      "<tensorflow.python.keras.callbacks.History object at 0x7f36b8764910>\n"
     ]
    }
   ],
   "source": [
    "print(history)"
   ]
  },
  {
   "cell_type": "code",
   "execution_count": 17,
   "metadata": {},
   "outputs": [
    {
     "name": "stdout",
     "output_type": "stream",
     "text": [
      "{'loss': [0.5770384073257446, 0.4603694677352905, 0.39489927887916565, 0.34684696793556213, 0.309723824262619, 0.28300535678863525, 0.26178890466690063, 0.2468547374010086, 0.2330499291419983, 0.22406502068042755, 0.2161402851343155, 0.20949506759643555, 0.20453569293022156, 0.1994553506374359, 0.19345569610595703, 0.1920817643404007, 0.1856808364391327, 0.18580111861228943, 0.18130330741405487, 0.1761322021484375, 0.17502667009830475, 0.17215441167354584, 0.1686183214187622, 0.16661641001701355, 0.1634528636932373, 0.16174012422561646, 0.15810464322566986, 0.1545562893152237, 0.1541750729084015, 0.15225407481193542, 0.14702418446540833, 0.14403080940246582, 0.14372479915618896, 0.14195767045021057, 0.1403067708015442, 0.1379101723432541, 0.13536059856414795, 0.1348693072795868, 0.13040415942668915, 0.129013791680336, 0.12662501633167267, 0.12741141021251678, 0.1258704513311386, 0.12453468143939972, 0.12240732461214066, 0.11955844610929489, 0.11863508820533752, 0.11538361757993698, 0.11622405052185059, 0.11363983154296875, 0.1115371435880661, 0.11215531826019287, 0.11157829314470291, 0.10855064541101456, 0.10581312328577042, 0.10636497288942337, 0.10444306582212448, 0.10000729560852051, 0.10266399383544922, 0.10210053622722626, 0.09970136731863022, 0.0977085530757904, 0.09635382890701294, 0.09645529836416245, 0.09427407383918762, 0.0901188850402832, 0.09548573195934296, 0.09113623946905136, 0.08968725800514221, 0.08664564043283463, 0.08529898524284363, 0.08583656698465347, 0.08444233983755112, 0.08374173194169998, 0.08127519488334656, 0.07803662866353989, 0.079973503947258, 0.07618962973356247, 0.07584831863641739, 0.07135617733001709, 0.07376424223184586, 0.07295495271682739, 0.06920444965362549, 0.06821386516094208, 0.06748445332050323, 0.06606945395469666, 0.06643921881914139, 0.063674695789814, 0.06213587522506714, 0.06039639189839363, 0.06129901856184006, 0.05635329708456993, 0.05816986784338951, 0.05735313519835472, 0.054957613348960876, 0.05334363877773285, 0.05369459092617035, 0.05222560837864876, 0.049362823367118835, 0.05158344656229019]}\n"
     ]
    }
   ],
   "source": [
    "print(history.history)"
   ]
  },
  {
   "cell_type": "code",
   "execution_count": 18,
   "metadata": {},
   "outputs": [
    {
     "data": {
      "image/png": "[encoded data removed]",
      "text/plain": [
       "<Figure size 432x288 with 1 Axes>"
      ]
     },
     "metadata": {
      "needs_background": "light"
     },
     "output_type": "display_data"
    }
   ],
   "source": [
    "import matplotlib.pyplot as plt\n",
    "\n",
    "plt.plot(history.history['loss'])\n",
    "\n",
    "plt.title('Model loss')\n",
    "plt.ylabel('Loss')\n",
    "plt.xlabel('Loop')\n",
    "plt.show()"
   ]
  },
  {
   "cell_type": "code",
   "execution_count": 9,
   "metadata": {},
   "outputs": [
    {
     "name": "stdout",
     "output_type": "stream",
     "text": [
      "Model: \"sequential\"\n",
      "_________________________________________________________________\n",
      "Layer (type)                 Output Shape              Param #   \n",
      "=================================================================\n",
      "dense (Dense)                (None, 20)                220       \n",
      "_________________________________________________________________\n",
      "dense_1 (Dense)              (None, 40)                840       \n",
      "_________________________________________________________________\n",
      "dense_2 (Dense)              (None, 10)                410       \n",
      "_________________________________________________________________\n",
      "dense_3 (Dense)              (None, 1)                 11        \n",
      "=================================================================\n",
      "Total params: 1,481\n",
      "Trainable params: 1,481\n",
      "Non-trainable params: 0\n",
      "_________________________________________________________________\n",
      "None\n"
     ]
    }
   ],
   "source": [
    "print(model.summary())"
   ]
  },
  {
   "cell_type": "code",
   "execution_count": null,
   "metadata": {},
   "outputs": [],
   "source": []
  }
 ],
 "metadata": {
  "kernelspec": {
   "display_name": "Python 3",
   "language": "python",
   "name": "python3"
  },
  "language_info": {
   "codemirror_mode": {
    "name": "ipython",
    "version": 3
   },
   "file_extension": ".py",
   "mimetype": "text/x-python",
   "name": "python",
   "nbconvert_exporter": "python",
   "pygments_lexer": "ipython3",
   "version": "3.7.6"
  }
 },
 "nbformat": 4,
 "nbformat_minor": 4
}
